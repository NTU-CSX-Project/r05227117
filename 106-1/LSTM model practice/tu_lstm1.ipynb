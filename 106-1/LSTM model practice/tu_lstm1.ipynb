{
 "cells": [
  {
   "cell_type": "code",
   "execution_count": 1,
   "metadata": {
    "collapsed": false
   },
   "outputs": [
    {
     "name": "stderr",
     "output_type": "stream",
     "text": [
      "Using TensorFlow backend.\n"
     ]
    }
   ],
   "source": [
    "from pandas import DataFrame\n",
    "from pandas import Series\n",
    "from pandas import concat\n",
    "from pandas import read_csv\n",
    "from pandas import datetime\n",
    "from sklearn.metrics import mean_squared_error\n",
    "from sklearn.preprocessing import MinMaxScaler\n",
    "from keras.models import Sequential\n",
    "from keras.layers import Dense\n",
    "from keras.layers import LSTM\n",
    "from math import sqrt\n",
    "from matplotlib import pyplot\n",
    "import numpy"
   ]
  },
  {
   "cell_type": "code",
   "execution_count": 2,
   "metadata": {
    "collapsed": true
   },
   "outputs": [],
   "source": [
    "# frame a sequence as a supervised learning problem\n",
    "def timeseries_to_supervised(data, lag=1):\n",
    "\tdf = DataFrame(data)\n",
    "\tcolumns = [df.shift(i) for i in range(1, lag+1)]\n",
    "\tcolumns.append(df)\n",
    "\tdf = concat(columns, axis=1)\n",
    "\tdf.fillna(0, inplace=True)\n",
    "\treturn df\n",
    "\n",
    "# create a differenced series\n",
    "def difference(dataset, interval=1):\n",
    "\tdiff = list()\n",
    "\tfor i in range(interval, len(dataset)):\n",
    "\t\tvalue = dataset[i] - dataset[i - interval]\n",
    "\t\tdiff.append(value)\n",
    "\treturn Series(diff)\n",
    "\n",
    "# invert differenced value\n",
    "def inverse_difference(history, yhat, interval=1):\n",
    "\treturn yhat + history[-interval]\n",
    "\n",
    "# scale train and test data to [-1, 1]\n",
    "def scale(train, test):\n",
    "\t# fit scaler\n",
    "\tscaler = MinMaxScaler(feature_range=(-1, 1))\n",
    "\tscaler = scaler.fit(train)\n",
    "\t# transform train\n",
    "\ttrain = train.reshape(train.shape[0], train.shape[1])\n",
    "\ttrain_scaled = scaler.transform(train)\n",
    "\t# transform test\n",
    "\ttest = test.reshape(test.shape[0], test.shape[1])\n",
    "\ttest_scaled = scaler.transform(test)\n",
    "\treturn scaler, train_scaled, test_scaled\n",
    "\n",
    "# inverse scaling for a forecasted value\n",
    "def invert_scale(scaler, X, value):\n",
    "\tnew_row = [x for x in X] + [value]\n",
    "\tarray = numpy.array(new_row)\n",
    "\tarray = array.reshape(1, len(array))\n",
    "\tinverted = scaler.inverse_transform(array)\n",
    "\treturn inverted[0, -1]\n",
    "\n",
    "# fit an LSTM network to training data\n",
    "def fit_lstm(train, batch_size, nb_epoch, neurons):\n",
    "\tX, y = train[:, 0:-1], train[:, -1]\n",
    "\tX = X.reshape(X.shape[0], 1, X.shape[1])\n",
    "\tmodel = Sequential()\n",
    "\tmodel.add(LSTM(neurons, batch_input_shape=(batch_size, X.shape[1], X.shape[2]), stateful=True))\n",
    "\tmodel.add(Dense(1))\n",
    "\tmodel.compile(loss='mean_squared_error', optimizer='adam')\n",
    "\tfor i in range(nb_epoch):\n",
    "\t\tmodel.fit(X, y, epochs=1, batch_size=batch_size, verbose=0, shuffle=False)\n",
    "\t\tmodel.reset_states()\n",
    "\treturn model\n",
    "\n",
    "# make a one-step forecast\n",
    "def forecast_lstm(model, batch_size, X):\n",
    "\tX = X.reshape(1, 1, len(X))\n",
    "\tyhat = model.predict(X, batch_size=batch_size)\n",
    "\treturn yhat[0,0]\n"
   ]
  },
  {
   "cell_type": "code",
   "execution_count": 3,
   "metadata": {
    "collapsed": false,
    "scrolled": true
   },
   "outputs": [
    {
     "data": {
      "text/html": [
       "<div>\n",
       "<table border=\"1\" class=\"dataframe\">\n",
       "  <thead>\n",
       "    <tr style=\"text-align: right;\">\n",
       "      <th></th>\n",
       "      <th>cpu_ghz</th>\n",
       "      <th>cpu_usage</th>\n",
       "      <th>cpu_idle</th>\n",
       "      <th>cpu_total</th>\n",
       "      <th>memory_free_mb</th>\n",
       "      <th>memory_usage</th>\n",
       "      <th>memory_total</th>\n",
       "      <th>cpu_usage_tag</th>\n",
       "      <th>period</th>\n",
       "      <th>weekday</th>\n",
       "    </tr>\n",
       "    <tr>\n",
       "      <th>ts</th>\n",
       "      <th></th>\n",
       "      <th></th>\n",
       "      <th></th>\n",
       "      <th></th>\n",
       "      <th></th>\n",
       "      <th></th>\n",
       "      <th></th>\n",
       "      <th></th>\n",
       "      <th></th>\n",
       "      <th></th>\n",
       "    </tr>\n",
       "  </thead>\n",
       "  <tbody>\n",
       "    <tr>\n",
       "      <th>2017-08-04 07:09:00</th>\n",
       "      <td>1.622994</td>\n",
       "      <td>0.058949</td>\n",
       "      <td>7229.349138</td>\n",
       "      <td>7626.006979</td>\n",
       "      <td>73703.339671</td>\n",
       "      <td>0.171460</td>\n",
       "      <td>85762.997397</td>\n",
       "      <td>0</td>\n",
       "      <td>night</td>\n",
       "      <td>6</td>\n",
       "    </tr>\n",
       "    <tr>\n",
       "      <th>2017-08-04 07:10:00</th>\n",
       "      <td>1.565744</td>\n",
       "      <td>0.051145</td>\n",
       "      <td>7436.343501</td>\n",
       "      <td>7808.899014</td>\n",
       "      <td>73678.012357</td>\n",
       "      <td>0.171868</td>\n",
       "      <td>85762.997397</td>\n",
       "      <td>-1</td>\n",
       "      <td>night</td>\n",
       "      <td>6</td>\n",
       "    </tr>\n",
       "    <tr>\n",
       "      <th>2017-08-04 07:11:00</th>\n",
       "      <td>1.532764</td>\n",
       "      <td>0.050431</td>\n",
       "      <td>7266.985222</td>\n",
       "      <td>7628.050287</td>\n",
       "      <td>73679.538946</td>\n",
       "      <td>0.171852</td>\n",
       "      <td>85762.997397</td>\n",
       "      <td>-1</td>\n",
       "      <td>night</td>\n",
       "      <td>6</td>\n",
       "    </tr>\n",
       "    <tr>\n",
       "      <th>2017-08-04 07:12:00</th>\n",
       "      <td>1.537919</td>\n",
       "      <td>0.055125</td>\n",
       "      <td>7251.151273</td>\n",
       "      <td>7645.735222</td>\n",
       "      <td>73662.632567</td>\n",
       "      <td>0.171941</td>\n",
       "      <td>85762.997397</td>\n",
       "      <td>-1</td>\n",
       "      <td>night</td>\n",
       "      <td>6</td>\n",
       "    </tr>\n",
       "    <tr>\n",
       "      <th>2017-08-04 07:13:00</th>\n",
       "      <td>1.535036</td>\n",
       "      <td>0.049197</td>\n",
       "      <td>7272.412151</td>\n",
       "      <td>7618.750821</td>\n",
       "      <td>73644.415185</td>\n",
       "      <td>0.172063</td>\n",
       "      <td>85762.997397</td>\n",
       "      <td>-1</td>\n",
       "      <td>night</td>\n",
       "      <td>6</td>\n",
       "    </tr>\n",
       "  </tbody>\n",
       "</table>\n",
       "</div>"
      ],
      "text/plain": [
       "                      cpu_ghz  cpu_usage     cpu_idle    cpu_total  \\\n",
       "ts                                                                   \n",
       "2017-08-04 07:09:00  1.622994   0.058949  7229.349138  7626.006979   \n",
       "2017-08-04 07:10:00  1.565744   0.051145  7436.343501  7808.899014   \n",
       "2017-08-04 07:11:00  1.532764   0.050431  7266.985222  7628.050287   \n",
       "2017-08-04 07:12:00  1.537919   0.055125  7251.151273  7645.735222   \n",
       "2017-08-04 07:13:00  1.535036   0.049197  7272.412151  7618.750821   \n",
       "\n",
       "                     memory_free_mb  memory_usage  memory_total  \\\n",
       "ts                                                                \n",
       "2017-08-04 07:09:00    73703.339671      0.171460  85762.997397   \n",
       "2017-08-04 07:10:00    73678.012357      0.171868  85762.997397   \n",
       "2017-08-04 07:11:00    73679.538946      0.171852  85762.997397   \n",
       "2017-08-04 07:12:00    73662.632567      0.171941  85762.997397   \n",
       "2017-08-04 07:13:00    73644.415185      0.172063  85762.997397   \n",
       "\n",
       "                     cpu_usage_tag period  weekday  \n",
       "ts                                                  \n",
       "2017-08-04 07:09:00              0  night        6  \n",
       "2017-08-04 07:10:00             -1  night        6  \n",
       "2017-08-04 07:11:00             -1  night        6  \n",
       "2017-08-04 07:12:00             -1  night        6  \n",
       "2017-08-04 07:13:00             -1  night        6  "
      ]
     },
     "execution_count": 3,
     "metadata": {},
     "output_type": "execute_result"
    }
   ],
   "source": [
    "df = read_csv('cm_all.csv', header=0, index_col=1, squeeze=True)\n",
    "df = df.drop(df.columns[0],axis=1)\n",
    "df.head()"
   ]
  },
  {
   "cell_type": "code",
   "execution_count": 4,
   "metadata": {
    "collapsed": false
   },
   "outputs": [
    {
     "name": "stdout",
     "output_type": "stream",
     "text": [
      "<class 'pandas.core.frame.DataFrame'>\n",
      "Index: 5499 entries, 2017-08-04 07:09:00 to 2017-08-08 02:47:00\n",
      "Data columns (total 10 columns):\n",
      "cpu_ghz           5499 non-null float64\n",
      "cpu_usage         5499 non-null float64\n",
      "cpu_idle          5499 non-null float64\n",
      "cpu_total         5499 non-null float64\n",
      "memory_free_mb    5499 non-null float64\n",
      "memory_usage      5499 non-null float64\n",
      "memory_total      5499 non-null float64\n",
      "cpu_usage_tag     5499 non-null int64\n",
      "period            5499 non-null object\n",
      "weekday           5499 non-null int64\n",
      "dtypes: float64(7), int64(2), object(1)\n",
      "memory usage: 472.6+ KB\n"
     ]
    }
   ],
   "source": [
    "df.info()"
   ]
  },
  {
   "cell_type": "code",
   "execution_count": 4,
   "metadata": {
    "collapsed": false
   },
   "outputs": [],
   "source": [
    "series = df[\"cpu_usage_tag\"]"
   ]
  },
  {
   "cell_type": "code",
   "execution_count": 5,
   "metadata": {
    "collapsed": true
   },
   "outputs": [],
   "source": [
    "# transform data to be stationary\n",
    "raw_values = series.values\n",
    "diff_values = difference(raw_values, 1)"
   ]
  },
  {
   "cell_type": "code",
   "execution_count": 6,
   "metadata": {
    "collapsed": true
   },
   "outputs": [],
   "source": [
    "# transform data to be supervised learning\n",
    "supervised = timeseries_to_supervised(diff_values, 1)\n",
    "supervised_values = supervised.values"
   ]
  },
  {
   "cell_type": "code",
   "execution_count": 36,
   "metadata": {
    "collapsed": true
   },
   "outputs": [],
   "source": [
    "# split data into train and test-sets\n",
    "train, test = supervised_values[:1200], supervised_values[1200:]\n",
    "\n",
    "# transform the scale of the data\n",
    "scaler, train_scaled, test_scaled = scale(train, test)\n"
   ]
  },
  {
   "cell_type": "code",
   "execution_count": 37,
   "metadata": {
    "collapsed": false
   },
   "outputs": [
    {
     "data": {
      "text/plain": [
       "1200"
      ]
     },
     "execution_count": 37,
     "metadata": {},
     "output_type": "execute_result"
    }
   ],
   "source": [
    "len(train_scaled)"
   ]
  },
  {
   "cell_type": "code",
   "execution_count": 38,
   "metadata": {
    "collapsed": false
   },
   "outputs": [
    {
     "data": {
      "text/plain": [
       "4298"
      ]
     },
     "execution_count": 38,
     "metadata": {},
     "output_type": "execute_result"
    }
   ],
   "source": [
    "len(test_scaled)"
   ]
  },
  {
   "cell_type": "code",
   "execution_count": 39,
   "metadata": {
    "collapsed": false
   },
   "outputs": [
    {
     "data": {
      "text/plain": [
       "4299"
      ]
     },
     "execution_count": 39,
     "metadata": {},
     "output_type": "execute_result"
    }
   ],
   "source": [
    "len(raw_values[1200:])"
   ]
  },
  {
   "cell_type": "code",
   "execution_count": 40,
   "metadata": {
    "collapsed": false
   },
   "outputs": [
    {
     "name": "stdout",
     "output_type": "stream",
     "text": [
      "1) Test RMSE: 1.007\n",
      "2) Test RMSE: 0.801\n",
      "3) Test RMSE: 0.825\n",
      "4) Test RMSE: 0.752\n",
      "5) Test RMSE: 0.711\n",
      "6) Test RMSE: 0.810\n",
      "7) Test RMSE: 0.717\n",
      "8) Test RMSE: 0.822\n",
      "9) Test RMSE: 3.359\n",
      "10) Test RMSE: 1.030\n",
      "11) Test RMSE: 0.860\n",
      "12) Test RMSE: 2.242\n",
      "13) Test RMSE: 0.720\n",
      "14) Test RMSE: 0.908\n",
      "15) Test RMSE: 1.202\n",
      "16) Test RMSE: 0.827\n",
      "17) Test RMSE: 0.870\n",
      "18) Test RMSE: 1.343\n",
      "19) Test RMSE: 1.023\n",
      "20) Test RMSE: 1.990\n",
      "21) Test RMSE: 3.739\n",
      "22) Test RMSE: 1.609\n",
      "23) Test RMSE: 0.845\n",
      "24) Test RMSE: 0.697\n",
      "25) Test RMSE: 0.758\n",
      "26) Test RMSE: 0.730\n",
      "27) Test RMSE: 0.760\n",
      "28) Test RMSE: 0.796\n",
      "29) Test RMSE: 0.735\n",
      "30) Test RMSE: 5.874\n"
     ]
    }
   ],
   "source": [
    "# repeat experiment\n",
    "repeats = 30\n",
    "error_scores = list()\n",
    "for r in range(repeats):\n",
    "\t# fit the model\n",
    "\tlstm_model = fit_lstm(train_scaled, 1, 20, 4)\n",
    "\t# forecast the entire training dataset to build up state for forecasting\n",
    "\ttrain_reshaped = train_scaled[:, 0].reshape(len(train_scaled), 1, 1)\n",
    "\tlstm_model.predict(train_reshaped, batch_size=1)\n",
    "\t# walk-forward validation on the test data\n",
    "\tpredictions = list()\n",
    "\tfor i in range(len(test_scaled)):\n",
    "\t\t# make one-step forecast\n",
    "\t\tX, y = test_scaled[i, 0:-1], test_scaled[i, -1]\n",
    "\t\tyhat = forecast_lstm(lstm_model, 1, X)\n",
    "\t\t# invert scaling\n",
    "\t\tyhat = invert_scale(scaler, X, yhat)\n",
    "\t\t# invert differencing\n",
    "\t\tyhat = inverse_difference(raw_values, yhat, len(test_scaled)+1-i)\n",
    "\t\t# store forecast\n",
    "\t\tpredictions.append(yhat)\n",
    "\t# report performance\n",
    "\trmse = sqrt(mean_squared_error(raw_values[1201:], predictions))\n",
    "\tprint('%d) Test RMSE: %.3f' % (r+1, rmse))\n",
    "\terror_scores.append(rmse)\n",
    "\n"
   ]
  },
  {
   "cell_type": "code",
   "execution_count": 41,
   "metadata": {
    "collapsed": false
   },
   "outputs": [
    {
     "name": "stdout",
     "output_type": "stream",
     "text": [
      "            rmse\n",
      "count  30.000000\n",
      "mean    1.312019\n",
      "std     1.142947\n",
      "min     0.696766\n",
      "25%     0.758248\n",
      "50%     0.836227\n",
      "75%     1.158952\n",
      "max     5.873849\n"
     ]
    },
    {
     "name": "stderr",
     "output_type": "stream",
     "text": [
      "/home/tu/anaconda3/lib/python3.5/site-packages/ipykernel/__main__.py:5: FutureWarning: \n",
      "The default value for 'return_type' will change to 'axes' in a future release.\n",
      " To use the future behavior now, set return_type='axes'.\n",
      " To keep the previous behavior and silence this warning, set return_type='dict'.\n"
     ]
    },
    {
     "data": {
      "image/png": "[encoded data removed]",
      "text/plain": [
       "<matplotlib.figure.Figure at 0x7f6ff1790cf8>"
      ]
     },
     "metadata": {},
     "output_type": "display_data"
    }
   ],
   "source": [
    "# summarize results\n",
    "results = DataFrame()\n",
    "results['rmse'] = error_scores\n",
    "print(results.describe())\n",
    "results.boxplot()\n",
    "pyplot.show()"
   ]
  },
  {
   "cell_type": "code",
   "execution_count": null,
   "metadata": {
    "collapsed": true
   },
   "outputs": [],
   "source": []
  }
 ],
 "metadata": {
  "anaconda-cloud": {},
  "kernelspec": {
   "display_name": "Python [conda root]",
   "language": "python",
   "name": "conda-root-py"
  },
  "language_info": {
   "codemirror_mode": {
    "name": "ipython",
    "version": 3
   },
   "file_extension": ".py",
   "mimetype": "text/x-python",
   "name": "python",
   "nbconvert_exporter": "python",
   "pygments_lexer": "ipython3",
   "version": "3.5.2"
  }
 },
 "nbformat": 4,
 "nbformat_minor": 1
}
