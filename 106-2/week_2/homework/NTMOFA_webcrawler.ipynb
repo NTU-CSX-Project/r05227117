{
 "cells": [
  {
   "cell_type": "markdown",
   "metadata": {
    "collapsed": true
   },
   "source": [
    "# Webcrawler practice two\n",
    "Using this code, I want to get all pictures and their information displayed on-line.<br>\n",
    "Beacause the code of this web also contains javascript, I use same tool as previous work. <br>\n",
    "<br>\n",
    "\n",
    "Selenium<br>\n",
    "Reference: <br>\n",
    "&emsp;&emsp; http://selenium-python.readthedocs.io/ <br>\n",
    "&emsp;&emsp; http://selenium-python-zh.readthedocs.io/en/latest/installation.html (Chinese) <br>\n",
    "&emsp;&emsp; install: pip install selenium\n",
    "\n",
    "BeautifulSoup <br>\n",
    "Reference: <br>\n",
    "&emsp;&emsp;https://www.crummy.com/software/BeautifulSoup/bs4/doc/ <br>\n",
    "&emsp;&emsp;install: pip install beautifulsoup4<br>\n",
    "\n",
    "All I did was to <br>\n",
    "&emsp;&emsp; 1) create an empty dataframe. <br>\n",
    "&emsp;&emsp; 2) use selenium to browse the target web. <br>\n",
    "&emsp;&emsp; 3) select the first category that I want to crawl <br>\n",
    "&emsp;&emsp; 4) find the max page of this category <br>\n",
    "&emsp;&emsp; 5) use for loop to get all data and store into the empty dataframe <br>"
   ]
  },
  {
   "cell_type": "code",
   "execution_count": null,
   "metadata": {
    "collapsed": true
   },
   "outputs": [],
   "source": [
    "from selenium import webdriver\n",
    "from selenium.webdriver.support.ui import WebDriverWait\n",
    "from selenium.webdriver.common.by import By\n",
    "import time\n",
    "from bs4 import BeautifulSoup\n",
    "import pandas as pd #use to form dataframe"
   ]
  },
  {
   "cell_type": "code",
   "execution_count": 359,
   "metadata": {
    "collapsed": false,
    "scrolled": true
   },
   "outputs": [],
   "source": [
    "df = pd.DataFrame(columns=range(0,5))\n",
    "URI='http://collections.culture.tw/ntmofa_collectionsweb/tw2/01_search.aspx'\n",
    "driver=webdriver.Chrome()\n",
    "driver.get(URI)\n",
    "# driver.find_element_by_name(\"cboAATAB1\").click()\n",
    "driver.find_element_by_xpath(\"//*[@id=\\\"cboAATAB1\\\"]/option[2]\").click()\n",
    "driver.find_element_by_xpath(\"//*[@id=\\\"btnSearch\\\"]\").click()\n",
    "    \n",
    "soup = BeautifulSoup(driver.page_source, \"lxml\")\n",
    "jsend =\"javascript:__doPostBack('GridView1','Page$Last')\"\n",
    "driver.execute_script(jsend)\n",
    "soup = BeautifulSoup(driver.page_source, \"lxml\")\n",
    "max_page = int(soup.find_all('table')[-1].find_all('td')[-1].get_text())\n",
    "page = 0\n",
    "while page <= max_page:\n",
    "    page += 1\n",
    "    js =\"javascript:__doPostBack('GridView1','Page$\" + str(page) +\"')\"\n",
    "    driver.execute_script(js)\n",
    "    soup = BeautifulSoup(driver.page_source, \"lxml\")\n",
    "    table = soup.find_all('table')\n",
    "    table = table[1]\n",
    "    table = table.find_all('tr')\n",
    "    total_num = int((len(table)-5)/2)\n",
    "    new_table = pd.DataFrame(columns=range(0,5), index = [i for i in range(0,total_num+1)])\n",
    "    row = 0\n",
    "\n",
    "    for i in range(1,len(table)-2,2):\n",
    "    #     print(i)\n",
    "        columns = table[i].find_all('td')\n",
    "        column_marker = 0\n",
    "        for column_number in range(4,9):\n",
    "            new_table.iat[row, column_marker] = columns[column_number].get_text()\n",
    "            column_marker += 1\n",
    "    #     print(i,row,column_marker)\n",
    "        row = row+1\n",
    "\n",
    "    df = pd.concat([df,new_table],axis=0, ignore_index=True)"
   ]
  },
  {
   "cell_type": "code",
   "execution_count": 360,
   "metadata": {
    "collapsed": false,
    "scrolled": false
   },
   "outputs": [
    {
     "data": {
      "text/html": [
       "<div>\n",
       "<style>\n",
       "    .dataframe thead tr:only-child th {\n",
       "        text-align: right;\n",
       "    }\n",
       "\n",
       "    .dataframe thead th {\n",
       "        text-align: left;\n",
       "    }\n",
       "\n",
       "    .dataframe tbody tr th {\n",
       "        vertical-align: top;\n",
       "    }\n",
       "</style>\n",
       "<table border=\"1\" class=\"dataframe\">\n",
       "  <thead>\n",
       "    <tr style=\"text-align: right;\">\n",
       "      <th></th>\n",
       "      <th>0</th>\n",
       "      <th>1</th>\n",
       "      <th>2</th>\n",
       "      <th>3</th>\n",
       "      <th>4</th>\n",
       "    </tr>\n",
       "  </thead>\n",
       "  <tbody>\n",
       "    <tr>\n",
       "      <th>0</th>\n",
       "      <td>07200003</td>\n",
       "      <td>\\n抽象畫\\n</td>\n",
       "      <td>水墨</td>\n",
       "      <td>1979</td>\n",
       "      <td>趙無極</td>\n",
       "    </tr>\n",
       "    <tr>\n",
       "      <th>1</th>\n",
       "      <td>07400014</td>\n",
       "      <td>\\n梅石圖\\n</td>\n",
       "      <td>水墨</td>\n",
       "      <td>1916</td>\n",
       "      <td>吳昌碩</td>\n",
       "    </tr>\n",
       "    <tr>\n",
       "      <th>2</th>\n",
       "      <td>07400015</td>\n",
       "      <td>\\n竹溪圖\\n</td>\n",
       "      <td>水墨</td>\n",
       "      <td>1971</td>\n",
       "      <td>朱念慈</td>\n",
       "    </tr>\n",
       "    <tr>\n",
       "      <th>3</th>\n",
       "      <td>07400016</td>\n",
       "      <td>\\n西遷圖之二\\n</td>\n",
       "      <td>水墨</td>\n",
       "      <td>1947</td>\n",
       "      <td>梁鼎銘</td>\n",
       "    </tr>\n",
       "    <tr>\n",
       "      <th>4</th>\n",
       "      <td>07400017</td>\n",
       "      <td>\\n螃蟹\\n</td>\n",
       "      <td>水墨</td>\n",
       "      <td>1934</td>\n",
       "      <td>齊白石</td>\n",
       "    </tr>\n",
       "    <tr>\n",
       "      <th>5</th>\n",
       "      <td>07600001</td>\n",
       "      <td>\\n林園之一\\n</td>\n",
       "      <td>水墨</td>\n",
       "      <td>1980</td>\n",
       "      <td>黃才松</td>\n",
       "    </tr>\n",
       "    <tr>\n",
       "      <th>6</th>\n",
       "      <td>07600002</td>\n",
       "      <td>\\n晚翠\\n</td>\n",
       "      <td>水墨</td>\n",
       "      <td>1980</td>\n",
       "      <td>戴武光</td>\n",
       "    </tr>\n",
       "    <tr>\n",
       "      <th>7</th>\n",
       "      <td>07600003</td>\n",
       "      <td>\\n臺中公園所見\\n</td>\n",
       "      <td>水墨</td>\n",
       "      <td>1983</td>\n",
       "      <td>蕭進興</td>\n",
       "    </tr>\n",
       "    <tr>\n",
       "      <th>8</th>\n",
       "      <td>07600004</td>\n",
       "      <td>\\n溪山幽居\\n</td>\n",
       "      <td>水墨</td>\n",
       "      <td>1982</td>\n",
       "      <td>程錫牙</td>\n",
       "    </tr>\n",
       "    <tr>\n",
       "      <th>9</th>\n",
       "      <td>07600005</td>\n",
       "      <td>\\n榕蔭消夏\\n</td>\n",
       "      <td>水墨</td>\n",
       "      <td>1983</td>\n",
       "      <td>黃冬富</td>\n",
       "    </tr>\n",
       "  </tbody>\n",
       "</table>\n",
       "</div>"
      ],
      "text/plain": [
       "          0           1   2     3    4\n",
       "0  07200003     \\n抽象畫\\n  水墨  1979  趙無極\n",
       "1  07400014     \\n梅石圖\\n  水墨  1916  吳昌碩\n",
       "2  07400015     \\n竹溪圖\\n  水墨  1971  朱念慈\n",
       "3  07400016   \\n西遷圖之二\\n  水墨  1947  梁鼎銘\n",
       "4  07400017      \\n螃蟹\\n  水墨  1934  齊白石\n",
       "5  07600001    \\n林園之一\\n  水墨  1980  黃才松\n",
       "6  07600002      \\n晚翠\\n  水墨  1980  戴武光\n",
       "7  07600003  \\n臺中公園所見\\n  水墨  1983  蕭進興\n",
       "8  07600004    \\n溪山幽居\\n  水墨  1982  程錫牙\n",
       "9  07600005    \\n榕蔭消夏\\n  水墨  1983  黃冬富"
      ]
     },
     "execution_count": 360,
     "metadata": {},
     "output_type": "execute_result"
    }
   ],
   "source": [
    "df.head(10)"
   ]
  },
  {
   "cell_type": "code",
   "execution_count": 361,
   "metadata": {
    "collapsed": false
   },
   "outputs": [
    {
     "name": "stdout",
     "output_type": "stream",
     "text": [
      "<class 'pandas.core.frame.DataFrame'>\n",
      "RangeIndex: 1418 entries, 0 to 1417\n",
      "Data columns (total 5 columns):\n",
      "0    1418 non-null object\n",
      "1    1418 non-null object\n",
      "2    1418 non-null object\n",
      "3    1418 non-null object\n",
      "4    1418 non-null object\n",
      "dtypes: object(5)\n",
      "memory usage: 55.5+ KB\n"
     ]
    }
   ],
   "source": [
    "df.info()"
   ]
  }
 ],
 "metadata": {
  "anaconda-cloud": {},
  "kernelspec": {
   "display_name": "Python [conda root]",
   "language": "python",
   "name": "conda-root-py"
  },
  "language_info": {
   "codemirror_mode": {
    "name": "ipython",
    "version": 3
   },
   "file_extension": ".py",
   "mimetype": "text/x-python",
   "name": "python",
   "nbconvert_exporter": "python",
   "pygments_lexer": "ipython3",
   "version": "3.5.2"
  }
 },
 "nbformat": 4,
 "nbformat_minor": 1
}
