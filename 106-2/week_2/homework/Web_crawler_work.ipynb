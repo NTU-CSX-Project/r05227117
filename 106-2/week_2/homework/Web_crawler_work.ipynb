{
 "cells": [
  {
   "cell_type": "markdown",
   "metadata": {},
   "source": [
    "# Web crawler work\n",
    "\n",
    "Because NTU course page was coded by mixed and complicated way which made it hard to crawl by only using resquest or BeautifulSoup package. So I combine BeautifulSoup and Selenium (other library) to do this work.\n",
    "\n",
    "Selenium<br>\n",
    "Reference: http://selenium-python.readthedocs.io/ <br>\n",
    "           http://selenium-python-zh.readthedocs.io/en/latest/installation.html (Chinese)\n",
    "install: pip install selenium\n",
    "\n",
    "BeautifulSoup <br>\n",
    "Reference: https://www.crummy.com/software/BeautifulSoup/bs4/doc/"
   ]
  },
  {
   "cell_type": "code",
   "execution_count": 1,
   "metadata": {
    "collapsed": true
   },
   "outputs": [],
   "source": [
    "from selenium import webdriver\n",
    "from selenium.webdriver.support.ui import WebDriverWait\n",
    "from selenium.webdriver.common.by import By\n",
    "import time\n",
    "from bs4 import BeautifulSoup\n",
    "import pandas as pd #use to form dataframe"
   ]
  },
  {
   "cell_type": "code",
   "execution_count": 2,
   "metadata": {
    "collapsed": true
   },
   "outputs": [],
   "source": [
    "URI='https://nol.ntu.edu.tw/nol/coursesearch/search_for_02_dpt.php?current_sem=106-2&coursename=&dptname=2270&dpt_sel=2000&yearcode=0&teachername=&selcode=-1&alltime=yes&week1=&week2=&week3=&week4=&week5=&week6=&allproced=yes&proced0=&proced1=&proced2=&proced3=&proced4=&procedE=&proced5=&proced6=&proced7=&proced8=&proced9=&procedA=&procedB=&procedC=&procedD=&allsel=yes&selCode1=&selCode2=&selCode3=&page_cnt=15'\n",
    "driver=webdriver.Chrome()\n",
    "driver.get(URI)\n",
    "soup = BeautifulSoup(driver.page_source, \"lxml\")\n",
    "jump = soup.find_all('select',{'name':'jump'})\n",
    "page_numb = len(jump[0].find_all('option'))\n",
    "option = 1\n",
    "next_page = '/html/body/table[2]/tbody/tr/td/font/table[5]/tbody/tr[2]/td[2]/select/option['+str(option)+']'\n",
    "all_page = list()\n",
    "while option <= page_numb:\n",
    "    driver.find_element_by_xpath(next_page).click()\n",
    "    option+= 1\n",
    "    next_page = '/html/body/table[2]/tbody/tr/td/font/table[5]/tbody/tr[2]/td[2]/select/option['+str(option)+']'\n",
    "    soup = BeautifulSoup(driver.page_source, \"lxml\")\n",
    "    all_page.append(soup)\n",
    "    \n",
    "    \n"
   ]
  },
  {
   "cell_type": "markdown",
   "metadata": {},
   "source": [
    "Create empty dataframe for storing data and use for loop to fill it."
   ]
  },
  {
   "cell_type": "code",
   "execution_count": 3,
   "metadata": {
    "collapsed": true
   },
   "outputs": [],
   "source": [
    "df = pd.DataFrame(columns=range(0,17))\n",
    "for page in all_page:\n",
    "    table = page.find_all('table')\n",
    "    table = table[7].find('tbody').find_all('tr')\n",
    "    row_number = len(table)\n",
    "    new_table = pd.DataFrame(columns=range(0,17), index = [i for i in range((row_number-1))]) # I know the size \n",
    "    for i in range(1,row_number):\n",
    "        columns = table[i].find_all('td')\n",
    "        column_marker = 0\n",
    "        for column in columns:\n",
    "            new_table.iat[i-1,column_marker] = column.get_text()\n",
    "            column_marker += 1\n",
    "    df = pd.concat([df,new_table],axis=0, ignore_index=True)\n",
    "    \n",
    "col_name = [tag.get_text() for tag in table[0].find_all('td')] \n",
    "df.columns = col_name"
   ]
  },
  {
   "cell_type": "markdown",
   "metadata": {},
   "source": [
    "To check if dataframe store repetive data. If it did, there must be something wrong."
   ]
  },
  {
   "cell_type": "code",
   "execution_count": 4,
   "metadata": {},
   "outputs": [
    {
     "data": {
      "text/plain": [
       "True"
      ]
     },
     "execution_count": 4,
     "metadata": {},
     "output_type": "execute_result"
    }
   ],
   "source": [
    "len(df['流水號']) == len(df['流水號'].unique())"
   ]
  },
  {
   "cell_type": "code",
   "execution_count": 5,
   "metadata": {},
   "outputs": [
    {
     "data": {
      "text/html": [
       "<div>\n",
       "<style>\n",
       "    .dataframe thead tr:only-child th {\n",
       "        text-align: right;\n",
       "    }\n",
       "\n",
       "    .dataframe thead th {\n",
       "        text-align: left;\n",
       "    }\n",
       "\n",
       "    .dataframe tbody tr th {\n",
       "        vertical-align: top;\n",
       "    }\n",
       "</style>\n",
       "<table border=\"1\" class=\"dataframe\">\n",
       "  <thead>\n",
       "    <tr style=\"text-align: right;\">\n",
       "      <th></th>\n",
       "      <th>流水號</th>\n",
       "      <th>授課對象</th>\n",
       "      <th>課號</th>\n",
       "      <th>班次</th>\n",
       "      <th>課程名稱查看課程大綱，請點選課程名稱</th>\n",
       "      <th>學分</th>\n",
       "      <th>課程識別碼</th>\n",
       "      <th>全/半年</th>\n",
       "      <th>必/選修</th>\n",
       "      <th>授課教師</th>\n",
       "      <th>加選方式</th>\n",
       "      <th>時間教室</th>\n",
       "      <th>總人數</th>\n",
       "      <th>選課限制條件</th>\n",
       "      <th>備註</th>\n",
       "      <th>課程網頁</th>\n",
       "      <th>本學期我預計要選的課程</th>\n",
       "    </tr>\n",
       "  </thead>\n",
       "  <tbody>\n",
       "    <tr>\n",
       "      <th>0</th>\n",
       "      <td>63941</td>\n",
       "      <td>心理所</td>\n",
       "      <td>Psy8999</td>\n",
       "      <td></td>\n",
       "      <td>博士論文</td>\n",
       "      <td>0.0</td>\n",
       "      <td>227 D0010</td>\n",
       "      <td>半年</td>\n",
       "      <td>必修</td>\n",
       "      <td></td>\n",
       "      <td>1</td>\n",
       "      <td></td>\n",
       "      <td>30</td>\n",
       "      <td>本校修課人數上限：30人</td>\n",
       "      <td></td>\n",
       "      <td></td>\n",
       "      <td>加入</td>\n",
       "    </tr>\n",
       "    <tr>\n",
       "      <th>1</th>\n",
       "      <td>34110</td>\n",
       "      <td>心理所</td>\n",
       "      <td>Psy8001</td>\n",
       "      <td></td>\n",
       "      <td>專題討論</td>\n",
       "      <td>1.0</td>\n",
       "      <td>227 D0060</td>\n",
       "      <td>半年</td>\n",
       "      <td>必修</td>\n",
       "      <td>黃囇莉</td>\n",
       "      <td>2</td>\n",
       "      <td>三7(北館視聽)</td>\n",
       "      <td>60</td>\n",
       "      <td>本校修課人數上限：60人</td>\n",
       "      <td>博班請選此課.2:20開始上課.</td>\n",
       "      <td></td>\n",
       "      <td>加入</td>\n",
       "    </tr>\n",
       "    <tr>\n",
       "      <th>2</th>\n",
       "      <td>87859</td>\n",
       "      <td>心理所</td>\n",
       "      <td>Psy8006</td>\n",
       "      <td></td>\n",
       "      <td>臨床神經心理學特論一</td>\n",
       "      <td>2.0</td>\n",
       "      <td>227 D0130</td>\n",
       "      <td>半年</td>\n",
       "      <td>選修</td>\n",
       "      <td>張玉玲</td>\n",
       "      <td>2</td>\n",
       "      <td>二2,3(南館S217)</td>\n",
       "      <td>15</td>\n",
       "      <td>本校修課人數上限：15人</td>\n",
       "      <td></td>\n",
       "      <td></td>\n",
       "      <td>加入</td>\n",
       "    </tr>\n",
       "    <tr>\n",
       "      <th>3</th>\n",
       "      <td>57260</td>\n",
       "      <td>心理所</td>\n",
       "      <td>Psy8161</td>\n",
       "      <td></td>\n",
       "      <td>記憶特論二</td>\n",
       "      <td>3.0</td>\n",
       "      <td>227 D1040</td>\n",
       "      <td>半年</td>\n",
       "      <td>選修</td>\n",
       "      <td>葉怡玉</td>\n",
       "      <td>2</td>\n",
       "      <td>三2,3,4(南館S309)</td>\n",
       "      <td>5</td>\n",
       "      <td>本校修課人數上限：5人</td>\n",
       "      <td>時地另訂</td>\n",
       "      <td></td>\n",
       "      <td>加入</td>\n",
       "    </tr>\n",
       "    <tr>\n",
       "      <th>4</th>\n",
       "      <td>21792</td>\n",
       "      <td>心理所</td>\n",
       "      <td>Psy8160</td>\n",
       "      <td></td>\n",
       "      <td>腦磁圖專題研究(二)</td>\n",
       "      <td>2.0</td>\n",
       "      <td>227 D1080</td>\n",
       "      <td>半年</td>\n",
       "      <td>選修</td>\n",
       "      <td>郭柏呈</td>\n",
       "      <td>2</td>\n",
       "      <td></td>\n",
       "      <td>6</td>\n",
       "      <td>本課有先修科目規定,本校修課人數上限：6人</td>\n",
       "      <td></td>\n",
       "      <td></td>\n",
       "      <td>加入</td>\n",
       "    </tr>\n",
       "  </tbody>\n",
       "</table>\n",
       "</div>"
      ],
      "text/plain": [
       "     流水號 授課對象       課號 班次 課程名稱查看課程大綱，請點選課程名稱   學分      課程識別碼 全/半年 必/選修 授課教師  \\\n",
       "0  63941  心理所  Psy8999                  博士論文  0.0  227 D0010   半年   必修        \n",
       "1  34110  心理所  Psy8001                  專題討論  1.0  227 D0060   半年   必修  黃囇莉   \n",
       "2  87859  心理所  Psy8006            臨床神經心理學特論一  2.0  227 D0130   半年   選修  張玉玲   \n",
       "3  57260  心理所  Psy8161                 記憶特論二  3.0  227 D1040   半年   選修  葉怡玉   \n",
       "4  21792  心理所  Psy8160            腦磁圖專題研究(二)  2.0  227 D1080   半年   選修  郭柏呈   \n",
       "\n",
       "  加選方式            時間教室 總人數                 選課限制條件                備註 課程網頁  \\\n",
       "0    1                  30           本校修課人數上限：30人                          \n",
       "1    2        三7(北館視聽)  60           本校修課人數上限：60人  博班請選此課.2:20開始上課.        \n",
       "2    2    二2,3(南館S217)  15           本校修課人數上限：15人                          \n",
       "3    2  三2,3,4(南館S309)   5            本校修課人數上限：5人              時地另訂        \n",
       "4    2                   6  本課有先修科目規定,本校修課人數上限：6人                          \n",
       "\n",
       "  本學期我預計要選的課程  \n",
       "0          加入  \n",
       "1          加入  \n",
       "2          加入  \n",
       "3          加入  \n",
       "4          加入  "
      ]
     },
     "execution_count": 5,
     "metadata": {},
     "output_type": "execute_result"
    }
   ],
   "source": [
    "df.head()"
   ]
  },
  {
   "cell_type": "code",
   "execution_count": 6,
   "metadata": {
    "collapsed": true
   },
   "outputs": [],
   "source": [
    "#to save page\n",
    "#df.to_csv('~.csv') "
   ]
  },
  {
   "cell_type": "markdown",
   "metadata": {},
   "source": [
    "# Next step?\n",
    "\n",
    "1.This work is only get course information from the department of psychology. It can also download course from other department.<br>\n",
    "2.This work use lots of xpath, it make this code very fragile. Is there any way to polish it?"
   ]
  },
  {
   "cell_type": "code",
   "execution_count": null,
   "metadata": {
    "collapsed": true
   },
   "outputs": [],
   "source": []
  }
 ],
 "metadata": {
  "kernelspec": {
   "display_name": "Python 3",
   "language": "python",
   "name": "python3"
  },
  "language_info": {
   "codemirror_mode": {
    "name": "ipython",
    "version": 3
   },
   "file_extension": ".py",
   "mimetype": "text/x-python",
   "name": "python",
   "nbconvert_exporter": "python",
   "pygments_lexer": "ipython3",
   "version": "3.5.4"
  }
 },
 "nbformat": 4,
 "nbformat_minor": 2
}
