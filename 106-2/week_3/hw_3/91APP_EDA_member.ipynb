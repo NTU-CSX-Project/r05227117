{
 "cells": [
  {
   "cell_type": "code",
   "execution_count": 341,
   "metadata": {
    "collapsed": true
   },
   "outputs": [],
   "source": [
    "import matplotlib.pyplot as plt\n",
    "import pandas as pd\n",
    "import numpy as np\n",
    "import gc\n",
    "\n",
    "%matplotlib inline"
   ]
  },
  {
   "cell_type": "code",
   "execution_count": 74,
   "metadata": {
    "collapsed": false
   },
   "outputs": [
    {
     "name": "stderr",
     "output_type": "stream",
     "text": [
      "C:\\Program Files\\Anaconda3\\lib\\site-packages\\IPython\\core\\interactiveshell.py:2717: DtypeWarning: Columns (10,14) have mixed types. Specify dtype option on import or set low_memory=False.\n",
      "  interactivity=interactivity, compiler=compiler, result=result)\n"
     ]
    },
    {
     "data": {
      "text/html": [
       "<div>\n",
       "<style>\n",
       "    .dataframe thead tr:only-child th {\n",
       "        text-align: right;\n",
       "    }\n",
       "\n",
       "    .dataframe thead th {\n",
       "        text-align: left;\n",
       "    }\n",
       "\n",
       "    .dataframe tbody tr th {\n",
       "        vertical-align: top;\n",
       "    }\n",
       "</style>\n",
       "<table border=\"1\" class=\"dataframe\">\n",
       "  <thead>\n",
       "    <tr style=\"text-align: right;\">\n",
       "      <th></th>\n",
       "      <th>ShopId</th>\n",
       "      <th>MemberId</th>\n",
       "      <th>Recency</th>\n",
       "      <th>Frequency</th>\n",
       "      <th>Monetary</th>\n",
       "      <th>Birthday</th>\n",
       "      <th>GenderTypeDef</th>\n",
       "      <th>LocationCity</th>\n",
       "      <th>LocationState</th>\n",
       "      <th>LocationCountry</th>\n",
       "      <th>...</th>\n",
       "      <th>AnnualIncomeTypeDef</th>\n",
       "      <th>RegisterDateTime</th>\n",
       "      <th>RegisterSourceTypeDef</th>\n",
       "      <th>ValidFlag</th>\n",
       "      <th>MinOrderDate</th>\n",
       "      <th>MaxOrderDate</th>\n",
       "      <th>IsAppInstalled</th>\n",
       "      <th>IsInBlackList</th>\n",
       "      <th>MinAppOpenDateTime</th>\n",
       "      <th>MaxAppOpenDateTime</th>\n",
       "    </tr>\n",
       "  </thead>\n",
       "  <tbody>\n",
       "    <tr>\n",
       "      <th>0</th>\n",
       "      <td>1317</td>\n",
       "      <td>88812F54-9F19-49C0-BC77-86065C356D26</td>\n",
       "      <td>251</td>\n",
       "      <td>3</td>\n",
       "      <td>4011.0</td>\n",
       "      <td>1980-08-08</td>\n",
       "      <td>Female</td>\n",
       "      <td>NaN</td>\n",
       "      <td>台中市</td>\n",
       "      <td>台灣</td>\n",
       "      <td>...</td>\n",
       "      <td>NaN</td>\n",
       "      <td>2015-09-18 19:18:48.050</td>\n",
       "      <td>iOSApp</td>\n",
       "      <td>1</td>\n",
       "      <td>2015-09-18</td>\n",
       "      <td>2017-05-02</td>\n",
       "      <td>有</td>\n",
       "      <td>NaN</td>\n",
       "      <td>2015-09-18 18:45:35.707</td>\n",
       "      <td>2017-07-30 21:30:34.940</td>\n",
       "    </tr>\n",
       "    <tr>\n",
       "      <th>1</th>\n",
       "      <td>1317</td>\n",
       "      <td>AB3232A1-03C6-4425-8062-EEECB633FB5A</td>\n",
       "      <td>-1</td>\n",
       "      <td>0</td>\n",
       "      <td>0.0</td>\n",
       "      <td>NaN</td>\n",
       "      <td>NaN</td>\n",
       "      <td>NaN</td>\n",
       "      <td>NaN</td>\n",
       "      <td>NaN</td>\n",
       "      <td>...</td>\n",
       "      <td>NaN</td>\n",
       "      <td>2016-03-13 01:11:05.403</td>\n",
       "      <td>Web</td>\n",
       "      <td>1</td>\n",
       "      <td>1900-01-01</td>\n",
       "      <td>NaN</td>\n",
       "      <td>NaN</td>\n",
       "      <td>NaN</td>\n",
       "      <td>NaN</td>\n",
       "      <td>NaN</td>\n",
       "    </tr>\n",
       "    <tr>\n",
       "      <th>2</th>\n",
       "      <td>1317</td>\n",
       "      <td>CC63B70D-CD6D-4538-BDDE-4B293F95A654</td>\n",
       "      <td>659</td>\n",
       "      <td>1</td>\n",
       "      <td>529.0</td>\n",
       "      <td>NaN</td>\n",
       "      <td>NaN</td>\n",
       "      <td>NaN</td>\n",
       "      <td>NaN</td>\n",
       "      <td>NaN</td>\n",
       "      <td>...</td>\n",
       "      <td>NaN</td>\n",
       "      <td>2016-03-20 02:20:35.493</td>\n",
       "      <td>Web</td>\n",
       "      <td>1</td>\n",
       "      <td>2016-03-20</td>\n",
       "      <td>2016-03-20</td>\n",
       "      <td>NaN</td>\n",
       "      <td>NaN</td>\n",
       "      <td>NaN</td>\n",
       "      <td>NaN</td>\n",
       "    </tr>\n",
       "    <tr>\n",
       "      <th>3</th>\n",
       "      <td>1317</td>\n",
       "      <td>17ED6C4D-0B91-4EB4-9992-117E9440425D</td>\n",
       "      <td>56</td>\n",
       "      <td>3</td>\n",
       "      <td>2438.0</td>\n",
       "      <td>NaN</td>\n",
       "      <td>NaN</td>\n",
       "      <td>NaN</td>\n",
       "      <td>NaN</td>\n",
       "      <td>NaN</td>\n",
       "      <td>...</td>\n",
       "      <td>NaN</td>\n",
       "      <td>2017-06-02 22:16:47.363</td>\n",
       "      <td>Web</td>\n",
       "      <td>1</td>\n",
       "      <td>2017-06-02</td>\n",
       "      <td>2017-10-27</td>\n",
       "      <td>NaN</td>\n",
       "      <td>NaN</td>\n",
       "      <td>NaN</td>\n",
       "      <td>NaN</td>\n",
       "    </tr>\n",
       "    <tr>\n",
       "      <th>4</th>\n",
       "      <td>1317</td>\n",
       "      <td>1BA9F6E3-67FD-4AAF-8011-2CBEA98B4828</td>\n",
       "      <td>717</td>\n",
       "      <td>1</td>\n",
       "      <td>550.0</td>\n",
       "      <td>NaN</td>\n",
       "      <td>NaN</td>\n",
       "      <td>NaN</td>\n",
       "      <td>NaN</td>\n",
       "      <td>NaN</td>\n",
       "      <td>...</td>\n",
       "      <td>NaN</td>\n",
       "      <td>2016-01-22 14:46:30.040</td>\n",
       "      <td>Web</td>\n",
       "      <td>1</td>\n",
       "      <td>2016-01-22</td>\n",
       "      <td>2016-01-22</td>\n",
       "      <td>有</td>\n",
       "      <td>NaN</td>\n",
       "      <td>2016-01-22 14:50:32.173</td>\n",
       "      <td>2017-02-21 05:51:05.080</td>\n",
       "    </tr>\n",
       "  </tbody>\n",
       "</table>\n",
       "<p>5 rows × 24 columns</p>\n",
       "</div>"
      ],
      "text/plain": [
       "   ShopId                              MemberId  Recency  Frequency  Monetary  \\\n",
       "0    1317  88812F54-9F19-49C0-BC77-86065C356D26      251          3    4011.0   \n",
       "1    1317  AB3232A1-03C6-4425-8062-EEECB633FB5A       -1          0       0.0   \n",
       "2    1317  CC63B70D-CD6D-4538-BDDE-4B293F95A654      659          1     529.0   \n",
       "3    1317  17ED6C4D-0B91-4EB4-9992-117E9440425D       56          3    2438.0   \n",
       "4    1317  1BA9F6E3-67FD-4AAF-8011-2CBEA98B4828      717          1     550.0   \n",
       "\n",
       "     Birthday GenderTypeDef  LocationCity LocationState LocationCountry  \\\n",
       "0  1980-08-08        Female           NaN           台中市              台灣   \n",
       "1         NaN           NaN           NaN           NaN             NaN   \n",
       "2         NaN           NaN           NaN           NaN             NaN   \n",
       "3         NaN           NaN           NaN           NaN             NaN   \n",
       "4         NaN           NaN           NaN           NaN             NaN   \n",
       "\n",
       "            ...            AnnualIncomeTypeDef         RegisterDateTime  \\\n",
       "0           ...                            NaN  2015-09-18 19:18:48.050   \n",
       "1           ...                            NaN  2016-03-13 01:11:05.403   \n",
       "2           ...                            NaN  2016-03-20 02:20:35.493   \n",
       "3           ...                            NaN  2017-06-02 22:16:47.363   \n",
       "4           ...                            NaN  2016-01-22 14:46:30.040   \n",
       "\n",
       "   RegisterSourceTypeDef  ValidFlag MinOrderDate MaxOrderDate IsAppInstalled  \\\n",
       "0                 iOSApp          1   2015-09-18   2017-05-02              有   \n",
       "1                    Web          1   1900-01-01          NaN            NaN   \n",
       "2                    Web          1   2016-03-20   2016-03-20            NaN   \n",
       "3                    Web          1   2017-06-02   2017-10-27            NaN   \n",
       "4                    Web          1   2016-01-22   2016-01-22              有   \n",
       "\n",
       "   IsInBlackList       MinAppOpenDateTime       MaxAppOpenDateTime  \n",
       "0            NaN  2015-09-18 18:45:35.707  2017-07-30 21:30:34.940  \n",
       "1            NaN                      NaN                      NaN  \n",
       "2            NaN                      NaN                      NaN  \n",
       "3            NaN                      NaN                      NaN  \n",
       "4            NaN  2016-01-22 14:50:32.173  2017-02-21 05:51:05.080  \n",
       "\n",
       "[5 rows x 24 columns]"
      ]
     },
     "execution_count": 74,
     "metadata": {},
     "output_type": "execute_result"
    }
   ],
   "source": [
    "df_member = pd.read_csv(\"./Ntu_Dataset/NTU_1317_Member.txt\",sep=\"\\t\")\n",
    "df_member.head()"
   ]
  },
  {
   "cell_type": "markdown",
   "metadata": {},
   "source": [
    "# Member"
   ]
  },
  {
   "cell_type": "code",
   "execution_count": 7,
   "metadata": {
    "collapsed": false,
    "scrolled": true
   },
   "outputs": [
    {
     "data": {
      "text/html": [
       "<div>\n",
       "<style>\n",
       "    .dataframe thead tr:only-child th {\n",
       "        text-align: right;\n",
       "    }\n",
       "\n",
       "    .dataframe thead th {\n",
       "        text-align: left;\n",
       "    }\n",
       "\n",
       "    .dataframe tbody tr th {\n",
       "        vertical-align: top;\n",
       "    }\n",
       "</style>\n",
       "<table border=\"1\" class=\"dataframe\">\n",
       "  <thead>\n",
       "    <tr style=\"text-align: right;\">\n",
       "      <th></th>\n",
       "      <th>ShopId</th>\n",
       "      <th>MemberId</th>\n",
       "      <th>Recency</th>\n",
       "      <th>Frequency</th>\n",
       "      <th>Monetary</th>\n",
       "      <th>Birthday</th>\n",
       "      <th>GenderTypeDef</th>\n",
       "      <th>LocationCity</th>\n",
       "      <th>LocationState</th>\n",
       "      <th>LocationCountry</th>\n",
       "      <th>...</th>\n",
       "      <th>AnnualIncomeTypeDef</th>\n",
       "      <th>RegisterDateTime</th>\n",
       "      <th>RegisterSourceTypeDef</th>\n",
       "      <th>ValidFlag</th>\n",
       "      <th>MinOrderDate</th>\n",
       "      <th>MaxOrderDate</th>\n",
       "      <th>IsAppInstalled</th>\n",
       "      <th>IsInBlackList</th>\n",
       "      <th>MinAppOpenDateTime</th>\n",
       "      <th>MaxAppOpenDateTime</th>\n",
       "    </tr>\n",
       "  </thead>\n",
       "  <tbody>\n",
       "    <tr>\n",
       "      <th>0</th>\n",
       "      <td>1317</td>\n",
       "      <td>88812F54-9F19-49C0-BC77-86065C356D26</td>\n",
       "      <td>251</td>\n",
       "      <td>3</td>\n",
       "      <td>4011.0</td>\n",
       "      <td>1980-08-08</td>\n",
       "      <td>Female</td>\n",
       "      <td>NaN</td>\n",
       "      <td>台中市</td>\n",
       "      <td>台灣</td>\n",
       "      <td>...</td>\n",
       "      <td>NaN</td>\n",
       "      <td>2015-09-18 19:18:48.050</td>\n",
       "      <td>iOSApp</td>\n",
       "      <td>1</td>\n",
       "      <td>2015-09-18</td>\n",
       "      <td>2017-05-02</td>\n",
       "      <td>有</td>\n",
       "      <td>NaN</td>\n",
       "      <td>2015-09-18 18:45:35.707</td>\n",
       "      <td>2017-07-30 21:30:34.940</td>\n",
       "    </tr>\n",
       "    <tr>\n",
       "      <th>1</th>\n",
       "      <td>1317</td>\n",
       "      <td>AB3232A1-03C6-4425-8062-EEECB633FB5A</td>\n",
       "      <td>-1</td>\n",
       "      <td>0</td>\n",
       "      <td>0.0</td>\n",
       "      <td>NaN</td>\n",
       "      <td>NaN</td>\n",
       "      <td>NaN</td>\n",
       "      <td>NaN</td>\n",
       "      <td>NaN</td>\n",
       "      <td>...</td>\n",
       "      <td>NaN</td>\n",
       "      <td>2016-03-13 01:11:05.403</td>\n",
       "      <td>Web</td>\n",
       "      <td>1</td>\n",
       "      <td>1900-01-01</td>\n",
       "      <td>NaN</td>\n",
       "      <td>NaN</td>\n",
       "      <td>NaN</td>\n",
       "      <td>NaN</td>\n",
       "      <td>NaN</td>\n",
       "    </tr>\n",
       "    <tr>\n",
       "      <th>2</th>\n",
       "      <td>1317</td>\n",
       "      <td>CC63B70D-CD6D-4538-BDDE-4B293F95A654</td>\n",
       "      <td>659</td>\n",
       "      <td>1</td>\n",
       "      <td>529.0</td>\n",
       "      <td>NaN</td>\n",
       "      <td>NaN</td>\n",
       "      <td>NaN</td>\n",
       "      <td>NaN</td>\n",
       "      <td>NaN</td>\n",
       "      <td>...</td>\n",
       "      <td>NaN</td>\n",
       "      <td>2016-03-20 02:20:35.493</td>\n",
       "      <td>Web</td>\n",
       "      <td>1</td>\n",
       "      <td>2016-03-20</td>\n",
       "      <td>2016-03-20</td>\n",
       "      <td>NaN</td>\n",
       "      <td>NaN</td>\n",
       "      <td>NaN</td>\n",
       "      <td>NaN</td>\n",
       "    </tr>\n",
       "    <tr>\n",
       "      <th>3</th>\n",
       "      <td>1317</td>\n",
       "      <td>17ED6C4D-0B91-4EB4-9992-117E9440425D</td>\n",
       "      <td>56</td>\n",
       "      <td>3</td>\n",
       "      <td>2438.0</td>\n",
       "      <td>NaN</td>\n",
       "      <td>NaN</td>\n",
       "      <td>NaN</td>\n",
       "      <td>NaN</td>\n",
       "      <td>NaN</td>\n",
       "      <td>...</td>\n",
       "      <td>NaN</td>\n",
       "      <td>2017-06-02 22:16:47.363</td>\n",
       "      <td>Web</td>\n",
       "      <td>1</td>\n",
       "      <td>2017-06-02</td>\n",
       "      <td>2017-10-27</td>\n",
       "      <td>NaN</td>\n",
       "      <td>NaN</td>\n",
       "      <td>NaN</td>\n",
       "      <td>NaN</td>\n",
       "    </tr>\n",
       "    <tr>\n",
       "      <th>4</th>\n",
       "      <td>1317</td>\n",
       "      <td>1BA9F6E3-67FD-4AAF-8011-2CBEA98B4828</td>\n",
       "      <td>717</td>\n",
       "      <td>1</td>\n",
       "      <td>550.0</td>\n",
       "      <td>NaN</td>\n",
       "      <td>NaN</td>\n",
       "      <td>NaN</td>\n",
       "      <td>NaN</td>\n",
       "      <td>NaN</td>\n",
       "      <td>...</td>\n",
       "      <td>NaN</td>\n",
       "      <td>2016-01-22 14:46:30.040</td>\n",
       "      <td>Web</td>\n",
       "      <td>1</td>\n",
       "      <td>2016-01-22</td>\n",
       "      <td>2016-01-22</td>\n",
       "      <td>有</td>\n",
       "      <td>NaN</td>\n",
       "      <td>2016-01-22 14:50:32.173</td>\n",
       "      <td>2017-02-21 05:51:05.080</td>\n",
       "    </tr>\n",
       "  </tbody>\n",
       "</table>\n",
       "<p>5 rows × 24 columns</p>\n",
       "</div>"
      ],
      "text/plain": [
       "   ShopId                              MemberId  Recency  Frequency  Monetary  \\\n",
       "0    1317  88812F54-9F19-49C0-BC77-86065C356D26      251          3    4011.0   \n",
       "1    1317  AB3232A1-03C6-4425-8062-EEECB633FB5A       -1          0       0.0   \n",
       "2    1317  CC63B70D-CD6D-4538-BDDE-4B293F95A654      659          1     529.0   \n",
       "3    1317  17ED6C4D-0B91-4EB4-9992-117E9440425D       56          3    2438.0   \n",
       "4    1317  1BA9F6E3-67FD-4AAF-8011-2CBEA98B4828      717          1     550.0   \n",
       "\n",
       "     Birthday GenderTypeDef  LocationCity LocationState LocationCountry  \\\n",
       "0  1980-08-08        Female           NaN           台中市              台灣   \n",
       "1         NaN           NaN           NaN           NaN             NaN   \n",
       "2         NaN           NaN           NaN           NaN             NaN   \n",
       "3         NaN           NaN           NaN           NaN             NaN   \n",
       "4         NaN           NaN           NaN           NaN             NaN   \n",
       "\n",
       "            ...            AnnualIncomeTypeDef         RegisterDateTime  \\\n",
       "0           ...                            NaN  2015-09-18 19:18:48.050   \n",
       "1           ...                            NaN  2016-03-13 01:11:05.403   \n",
       "2           ...                            NaN  2016-03-20 02:20:35.493   \n",
       "3           ...                            NaN  2017-06-02 22:16:47.363   \n",
       "4           ...                            NaN  2016-01-22 14:46:30.040   \n",
       "\n",
       "   RegisterSourceTypeDef  ValidFlag MinOrderDate MaxOrderDate IsAppInstalled  \\\n",
       "0                 iOSApp          1   2015-09-18   2017-05-02              有   \n",
       "1                    Web          1   1900-01-01          NaN            NaN   \n",
       "2                    Web          1   2016-03-20   2016-03-20            NaN   \n",
       "3                    Web          1   2017-06-02   2017-10-27            NaN   \n",
       "4                    Web          1   2016-01-22   2016-01-22              有   \n",
       "\n",
       "   IsInBlackList       MinAppOpenDateTime       MaxAppOpenDateTime  \n",
       "0            NaN  2015-09-18 18:45:35.707  2017-07-30 21:30:34.940  \n",
       "1            NaN                      NaN                      NaN  \n",
       "2            NaN                      NaN                      NaN  \n",
       "3            NaN                      NaN                      NaN  \n",
       "4            NaN  2016-01-22 14:50:32.173  2017-02-21 05:51:05.080  \n",
       "\n",
       "[5 rows x 24 columns]"
      ]
     },
     "execution_count": 7,
     "metadata": {},
     "output_type": "execute_result"
    }
   ],
   "source": [
    "df_member.head()"
   ]
  },
  {
   "cell_type": "markdown",
   "metadata": {},
   "source": [
    "## To check there is no null in each column."
   ]
  },
  {
   "cell_type": "code",
   "execution_count": 3,
   "metadata": {
    "collapsed": false,
    "scrolled": false
   },
   "outputs": [
    {
     "name": "stdout",
     "output_type": "stream",
     "text": [
      "<class 'pandas.core.frame.DataFrame'>\n",
      "RangeIndex: 815792 entries, 0 to 815791\n",
      "Data columns (total 24 columns):\n",
      "ShopId                   815792 non-null int64\n",
      "MemberId                 815792 non-null object\n",
      "Recency                  815792 non-null int64\n",
      "Frequency                815792 non-null int64\n",
      "Monetary                 815792 non-null float64\n",
      "Birthday                 208548 non-null object\n",
      "GenderTypeDef            208549 non-null object\n",
      "LocationCity             0 non-null float64\n",
      "LocationState            207836 non-null object\n",
      "LocationCountry          166345 non-null object\n",
      "EducationTypeDef         9 non-null object\n",
      "ProfessionTypeDef        208549 non-null object\n",
      "MarialStatusTypeDef      0 non-null float64\n",
      "DependentsTypeDef        0 non-null float64\n",
      "AnnualIncomeTypeDef      9 non-null object\n",
      "RegisterDateTime         815792 non-null object\n",
      "RegisterSourceTypeDef    785771 non-null object\n",
      "ValidFlag                815792 non-null int64\n",
      "MinOrderDate             815792 non-null object\n",
      "MaxOrderDate             532376 non-null object\n",
      "IsAppInstalled           324973 non-null object\n",
      "IsInBlackList            1003 non-null object\n",
      "MinAppOpenDateTime       333615 non-null object\n",
      "MaxAppOpenDateTime       333678 non-null object\n",
      "dtypes: float64(4), int64(4), object(16)\n",
      "memory usage: 149.4+ MB\n"
     ]
    }
   ],
   "source": [
    "df_member.info()"
   ]
  },
  {
   "cell_type": "markdown",
   "metadata": {},
   "source": [
    "## ShopId -\n",
    "### These data only comes from one shop."
   ]
  },
  {
   "cell_type": "code",
   "execution_count": 4,
   "metadata": {
    "collapsed": false,
    "scrolled": true
   },
   "outputs": [
    {
     "data": {
      "text/plain": [
       "1317    815792\n",
       "Name: ShopId, dtype: int64"
      ]
     },
     "execution_count": 4,
     "metadata": {},
     "output_type": "execute_result"
    }
   ],
   "source": [
    "df_member[\"ShopId\"].value_counts(ascending = False).head(10)"
   ]
  },
  {
   "cell_type": "markdown",
   "metadata": {},
   "source": [
    "## MemberId-"
   ]
  },
  {
   "cell_type": "markdown",
   "metadata": {
    "collapsed": true
   },
   "source": [
    "### There are 6 Ids repetitive recording, why?"
   ]
  },
  {
   "cell_type": "code",
   "execution_count": 5,
   "metadata": {
    "collapsed": false,
    "scrolled": true
   },
   "outputs": [
    {
     "data": {
      "text/plain": [
       "19FB92D3-AF6A-4318-8932-77431104EC8A    3\n",
       "79DD8D20-5D97-4951-A2F5-3721FB54D3F6    3\n",
       "D83E73BA-65C5-44A1-A917-D9BBCE6E2377    3\n",
       "7FCF8E52-82C0-4A98-BAE8-1A9C5D0256ED    3\n",
       "FE702C0F-FA5A-4F9A-AEC2-9B43003C9594    2\n",
       "35EA95B3-472C-4487-AADB-1FD7CF77A0D9    2\n",
       "FFFFE179-C65F-4B32-BAF2-80B016B0E00B    1\n",
       "559A7517-D3A9-4030-B76E-12143A9E81B6    1\n",
       "559AFDD8-E0AB-467D-8813-2B2E1D059CD9    1\n",
       "559AFAED-5B29-4F6E-8A05-B16BB0FD9AE4    1\n",
       "Name: MemberId, dtype: int64"
      ]
     },
     "execution_count": 5,
     "metadata": {},
     "output_type": "execute_result"
    }
   ],
   "source": [
    "df_member[\"MemberId\"] = df_member[\"MemberId\"].astype(\"category\")\n",
    "df_member[\"MemberId\"].value_counts(ascending= False).head(10)"
   ]
  },
  {
   "cell_type": "code",
   "execution_count": 11,
   "metadata": {
    "collapsed": false
   },
   "outputs": [],
   "source": [
    "special_list = [i for i in df_member[\"MemberId\"].value_counts(ascending= False)[0:6].index]"
   ]
  },
  {
   "cell_type": "code",
   "execution_count": 25,
   "metadata": {
    "collapsed": false
   },
   "outputs": [
    {
     "data": {
      "text/html": [
       "<div>\n",
       "<style>\n",
       "    .dataframe thead tr:only-child th {\n",
       "        text-align: right;\n",
       "    }\n",
       "\n",
       "    .dataframe thead th {\n",
       "        text-align: left;\n",
       "    }\n",
       "\n",
       "    .dataframe tbody tr th {\n",
       "        vertical-align: top;\n",
       "    }\n",
       "</style>\n",
       "<table border=\"1\" class=\"dataframe\">\n",
       "  <thead>\n",
       "    <tr style=\"text-align: right;\">\n",
       "      <th></th>\n",
       "      <th>ShopId</th>\n",
       "      <th>MemberId</th>\n",
       "      <th>Recency</th>\n",
       "      <th>Frequency</th>\n",
       "      <th>Monetary</th>\n",
       "      <th>Birthday</th>\n",
       "      <th>GenderTypeDef</th>\n",
       "      <th>LocationCity</th>\n",
       "      <th>LocationState</th>\n",
       "      <th>LocationCountry</th>\n",
       "      <th>...</th>\n",
       "      <th>AnnualIncomeTypeDef</th>\n",
       "      <th>RegisterDateTime</th>\n",
       "      <th>RegisterSourceTypeDef</th>\n",
       "      <th>ValidFlag</th>\n",
       "      <th>MinOrderDate</th>\n",
       "      <th>MaxOrderDate</th>\n",
       "      <th>IsAppInstalled</th>\n",
       "      <th>IsInBlackList</th>\n",
       "      <th>MinAppOpenDateTime</th>\n",
       "      <th>MaxAppOpenDateTime</th>\n",
       "    </tr>\n",
       "  </thead>\n",
       "  <tbody>\n",
       "    <tr>\n",
       "      <th>30249</th>\n",
       "      <td>1317</td>\n",
       "      <td>D83E73BA-65C5-44A1-A917-D9BBCE6E2377</td>\n",
       "      <td>916</td>\n",
       "      <td>1</td>\n",
       "      <td>397.0</td>\n",
       "      <td>NaN</td>\n",
       "      <td>NaN</td>\n",
       "      <td>NaN</td>\n",
       "      <td>NaN</td>\n",
       "      <td>NaN</td>\n",
       "      <td>...</td>\n",
       "      <td>NaN</td>\n",
       "      <td>2017-11-25 10:45:18.927</td>\n",
       "      <td>Web</td>\n",
       "      <td>1</td>\n",
       "      <td>2015-07-07</td>\n",
       "      <td>2015-07-07</td>\n",
       "      <td>NaN</td>\n",
       "      <td>NaN</td>\n",
       "      <td>NaN</td>\n",
       "      <td>NaN</td>\n",
       "    </tr>\n",
       "    <tr>\n",
       "      <th>30252</th>\n",
       "      <td>1317</td>\n",
       "      <td>D83E73BA-65C5-44A1-A917-D9BBCE6E2377</td>\n",
       "      <td>916</td>\n",
       "      <td>1</td>\n",
       "      <td>397.0</td>\n",
       "      <td>NaN</td>\n",
       "      <td>NaN</td>\n",
       "      <td>NaN</td>\n",
       "      <td>NaN</td>\n",
       "      <td>NaN</td>\n",
       "      <td>...</td>\n",
       "      <td>NaN</td>\n",
       "      <td>2015-07-14 14:38:20.207</td>\n",
       "      <td>NaN</td>\n",
       "      <td>0</td>\n",
       "      <td>2015-07-07</td>\n",
       "      <td>2015-07-07</td>\n",
       "      <td>NaN</td>\n",
       "      <td>NaN</td>\n",
       "      <td>NaN</td>\n",
       "      <td>NaN</td>\n",
       "    </tr>\n",
       "    <tr>\n",
       "      <th>30253</th>\n",
       "      <td>1317</td>\n",
       "      <td>D83E73BA-65C5-44A1-A917-D9BBCE6E2377</td>\n",
       "      <td>916</td>\n",
       "      <td>1</td>\n",
       "      <td>397.0</td>\n",
       "      <td>NaN</td>\n",
       "      <td>NaN</td>\n",
       "      <td>NaN</td>\n",
       "      <td>NaN</td>\n",
       "      <td>NaN</td>\n",
       "      <td>...</td>\n",
       "      <td>NaN</td>\n",
       "      <td>2015-07-14 16:38:30.400</td>\n",
       "      <td>NaN</td>\n",
       "      <td>0</td>\n",
       "      <td>2015-07-07</td>\n",
       "      <td>2015-07-07</td>\n",
       "      <td>NaN</td>\n",
       "      <td>NaN</td>\n",
       "      <td>NaN</td>\n",
       "      <td>NaN</td>\n",
       "    </tr>\n",
       "    <tr>\n",
       "      <th>112645</th>\n",
       "      <td>1317</td>\n",
       "      <td>35EA95B3-472C-4487-AADB-1FD7CF77A0D9</td>\n",
       "      <td>421</td>\n",
       "      <td>1</td>\n",
       "      <td>594.0</td>\n",
       "      <td>NaN</td>\n",
       "      <td>NaN</td>\n",
       "      <td>NaN</td>\n",
       "      <td>NaN</td>\n",
       "      <td>NaN</td>\n",
       "      <td>...</td>\n",
       "      <td>NaN</td>\n",
       "      <td>2017-11-08 00:02:37.060</td>\n",
       "      <td>Web</td>\n",
       "      <td>1</td>\n",
       "      <td>2016-11-13</td>\n",
       "      <td>2016-11-13</td>\n",
       "      <td>NaN</td>\n",
       "      <td>NaN</td>\n",
       "      <td>NaN</td>\n",
       "      <td>NaN</td>\n",
       "    </tr>\n",
       "    <tr>\n",
       "      <th>112646</th>\n",
       "      <td>1317</td>\n",
       "      <td>35EA95B3-472C-4487-AADB-1FD7CF77A0D9</td>\n",
       "      <td>421</td>\n",
       "      <td>1</td>\n",
       "      <td>594.0</td>\n",
       "      <td>NaN</td>\n",
       "      <td>NaN</td>\n",
       "      <td>NaN</td>\n",
       "      <td>NaN</td>\n",
       "      <td>NaN</td>\n",
       "      <td>...</td>\n",
       "      <td>NaN</td>\n",
       "      <td>2016-11-13 10:11:17.800</td>\n",
       "      <td>Web</td>\n",
       "      <td>0</td>\n",
       "      <td>2016-11-13</td>\n",
       "      <td>2016-11-13</td>\n",
       "      <td>NaN</td>\n",
       "      <td>NaN</td>\n",
       "      <td>NaN</td>\n",
       "      <td>NaN</td>\n",
       "    </tr>\n",
       "    <tr>\n",
       "      <th>427962</th>\n",
       "      <td>1317</td>\n",
       "      <td>79DD8D20-5D97-4951-A2F5-3721FB54D3F6</td>\n",
       "      <td>322</td>\n",
       "      <td>2</td>\n",
       "      <td>1467.0</td>\n",
       "      <td>NaN</td>\n",
       "      <td>NaN</td>\n",
       "      <td>NaN</td>\n",
       "      <td>NaN</td>\n",
       "      <td>NaN</td>\n",
       "      <td>...</td>\n",
       "      <td>NaN</td>\n",
       "      <td>2017-02-20 23:41:49.717</td>\n",
       "      <td>Web</td>\n",
       "      <td>1</td>\n",
       "      <td>2015-07-06</td>\n",
       "      <td>2017-02-20</td>\n",
       "      <td>有</td>\n",
       "      <td>NaN</td>\n",
       "      <td>2017-02-22 03:05:22.237</td>\n",
       "      <td>2017-10-10 05:43:58.653</td>\n",
       "    </tr>\n",
       "    <tr>\n",
       "      <th>427963</th>\n",
       "      <td>1317</td>\n",
       "      <td>79DD8D20-5D97-4951-A2F5-3721FB54D3F6</td>\n",
       "      <td>322</td>\n",
       "      <td>2</td>\n",
       "      <td>1467.0</td>\n",
       "      <td>NaN</td>\n",
       "      <td>NaN</td>\n",
       "      <td>NaN</td>\n",
       "      <td>NaN</td>\n",
       "      <td>NaN</td>\n",
       "      <td>...</td>\n",
       "      <td>NaN</td>\n",
       "      <td>2015-07-14 14:38:20.207</td>\n",
       "      <td>NaN</td>\n",
       "      <td>0</td>\n",
       "      <td>2015-07-06</td>\n",
       "      <td>2017-02-20</td>\n",
       "      <td>有</td>\n",
       "      <td>NaN</td>\n",
       "      <td>2017-02-22 03:05:22.237</td>\n",
       "      <td>2017-10-10 05:43:58.653</td>\n",
       "    </tr>\n",
       "    <tr>\n",
       "      <th>427964</th>\n",
       "      <td>1317</td>\n",
       "      <td>79DD8D20-5D97-4951-A2F5-3721FB54D3F6</td>\n",
       "      <td>322</td>\n",
       "      <td>2</td>\n",
       "      <td>1467.0</td>\n",
       "      <td>1994-12-16</td>\n",
       "      <td>Female</td>\n",
       "      <td>NaN</td>\n",
       "      <td>台北市</td>\n",
       "      <td>台灣</td>\n",
       "      <td>...</td>\n",
       "      <td>NaN</td>\n",
       "      <td>2015-07-14 16:38:30.400</td>\n",
       "      <td>NaN</td>\n",
       "      <td>0</td>\n",
       "      <td>2015-07-06</td>\n",
       "      <td>2017-02-20</td>\n",
       "      <td>有</td>\n",
       "      <td>NaN</td>\n",
       "      <td>2017-02-22 03:05:22.237</td>\n",
       "      <td>2017-10-10 05:43:58.653</td>\n",
       "    </tr>\n",
       "    <tr>\n",
       "      <th>588704</th>\n",
       "      <td>1317</td>\n",
       "      <td>FE702C0F-FA5A-4F9A-AEC2-9B43003C9594</td>\n",
       "      <td>25</td>\n",
       "      <td>5</td>\n",
       "      <td>5511.0</td>\n",
       "      <td>NaN</td>\n",
       "      <td>NaN</td>\n",
       "      <td>NaN</td>\n",
       "      <td>NaN</td>\n",
       "      <td>NaN</td>\n",
       "      <td>...</td>\n",
       "      <td>NaN</td>\n",
       "      <td>2017-11-09 18:11:12.213</td>\n",
       "      <td>iOSApp</td>\n",
       "      <td>1</td>\n",
       "      <td>2016-06-30</td>\n",
       "      <td>2017-10-16</td>\n",
       "      <td>NaN</td>\n",
       "      <td>NaN</td>\n",
       "      <td>2017-04-24 08:42:53.560</td>\n",
       "      <td>2017-11-09 18:11:12.260</td>\n",
       "    </tr>\n",
       "    <tr>\n",
       "      <th>588705</th>\n",
       "      <td>1317</td>\n",
       "      <td>FE702C0F-FA5A-4F9A-AEC2-9B43003C9594</td>\n",
       "      <td>25</td>\n",
       "      <td>5</td>\n",
       "      <td>5511.0</td>\n",
       "      <td>1989-08-02</td>\n",
       "      <td>Female</td>\n",
       "      <td>NaN</td>\n",
       "      <td>新北市</td>\n",
       "      <td>台灣</td>\n",
       "      <td>...</td>\n",
       "      <td>NaN</td>\n",
       "      <td>2016-06-27 00:23:16.827</td>\n",
       "      <td>Web</td>\n",
       "      <td>0</td>\n",
       "      <td>2016-06-30</td>\n",
       "      <td>2017-07-06</td>\n",
       "      <td>有</td>\n",
       "      <td>NaN</td>\n",
       "      <td>2017-04-24 08:42:53.560</td>\n",
       "      <td>2017-11-09 18:11:12.260</td>\n",
       "    </tr>\n",
       "    <tr>\n",
       "      <th>634918</th>\n",
       "      <td>1317</td>\n",
       "      <td>7FCF8E52-82C0-4A98-BAE8-1A9C5D0256ED</td>\n",
       "      <td>13</td>\n",
       "      <td>5</td>\n",
       "      <td>2657.0</td>\n",
       "      <td>NaN</td>\n",
       "      <td>NaN</td>\n",
       "      <td>NaN</td>\n",
       "      <td>NaN</td>\n",
       "      <td>NaN</td>\n",
       "      <td>...</td>\n",
       "      <td>NaN</td>\n",
       "      <td>2017-12-26 03:30:21.320</td>\n",
       "      <td>Web</td>\n",
       "      <td>1</td>\n",
       "      <td>2015-06-29</td>\n",
       "      <td>2017-12-26</td>\n",
       "      <td>NaN</td>\n",
       "      <td>NaN</td>\n",
       "      <td>NaN</td>\n",
       "      <td>NaN</td>\n",
       "    </tr>\n",
       "    <tr>\n",
       "      <th>636224</th>\n",
       "      <td>1317</td>\n",
       "      <td>7FCF8E52-82C0-4A98-BAE8-1A9C5D0256ED</td>\n",
       "      <td>13</td>\n",
       "      <td>5</td>\n",
       "      <td>2657.0</td>\n",
       "      <td>NaN</td>\n",
       "      <td>NaN</td>\n",
       "      <td>NaN</td>\n",
       "      <td>NaN</td>\n",
       "      <td>NaN</td>\n",
       "      <td>...</td>\n",
       "      <td>NaN</td>\n",
       "      <td>2015-07-14 16:38:27.753</td>\n",
       "      <td>NaN</td>\n",
       "      <td>0</td>\n",
       "      <td>2015-06-29</td>\n",
       "      <td>2016-07-02</td>\n",
       "      <td>NaN</td>\n",
       "      <td>NaN</td>\n",
       "      <td>NaN</td>\n",
       "      <td>NaN</td>\n",
       "    </tr>\n",
       "    <tr>\n",
       "      <th>636225</th>\n",
       "      <td>1317</td>\n",
       "      <td>7FCF8E52-82C0-4A98-BAE8-1A9C5D0256ED</td>\n",
       "      <td>13</td>\n",
       "      <td>5</td>\n",
       "      <td>2657.0</td>\n",
       "      <td>NaN</td>\n",
       "      <td>NaN</td>\n",
       "      <td>NaN</td>\n",
       "      <td>NaN</td>\n",
       "      <td>NaN</td>\n",
       "      <td>...</td>\n",
       "      <td>NaN</td>\n",
       "      <td>2015-07-14 14:38:20.207</td>\n",
       "      <td>NaN</td>\n",
       "      <td>0</td>\n",
       "      <td>2015-06-29</td>\n",
       "      <td>2016-07-02</td>\n",
       "      <td>NaN</td>\n",
       "      <td>NaN</td>\n",
       "      <td>NaN</td>\n",
       "      <td>NaN</td>\n",
       "    </tr>\n",
       "    <tr>\n",
       "      <th>645094</th>\n",
       "      <td>1317</td>\n",
       "      <td>19FB92D3-AF6A-4318-8932-77431104EC8A</td>\n",
       "      <td>912</td>\n",
       "      <td>1</td>\n",
       "      <td>130.0</td>\n",
       "      <td>NaN</td>\n",
       "      <td>NaN</td>\n",
       "      <td>NaN</td>\n",
       "      <td>NaN</td>\n",
       "      <td>NaN</td>\n",
       "      <td>...</td>\n",
       "      <td>NaN</td>\n",
       "      <td>2017-12-23 10:37:46.157</td>\n",
       "      <td>Web</td>\n",
       "      <td>1</td>\n",
       "      <td>2015-07-11</td>\n",
       "      <td>2015-07-11</td>\n",
       "      <td>NaN</td>\n",
       "      <td>NaN</td>\n",
       "      <td>NaN</td>\n",
       "      <td>NaN</td>\n",
       "    </tr>\n",
       "    <tr>\n",
       "      <th>645095</th>\n",
       "      <td>1317</td>\n",
       "      <td>19FB92D3-AF6A-4318-8932-77431104EC8A</td>\n",
       "      <td>912</td>\n",
       "      <td>1</td>\n",
       "      <td>130.0</td>\n",
       "      <td>NaN</td>\n",
       "      <td>NaN</td>\n",
       "      <td>NaN</td>\n",
       "      <td>NaN</td>\n",
       "      <td>NaN</td>\n",
       "      <td>...</td>\n",
       "      <td>NaN</td>\n",
       "      <td>2015-07-14 14:38:26.230</td>\n",
       "      <td>NaN</td>\n",
       "      <td>0</td>\n",
       "      <td>2015-07-11</td>\n",
       "      <td>2015-07-11</td>\n",
       "      <td>NaN</td>\n",
       "      <td>NaN</td>\n",
       "      <td>NaN</td>\n",
       "      <td>NaN</td>\n",
       "    </tr>\n",
       "    <tr>\n",
       "      <th>645096</th>\n",
       "      <td>1317</td>\n",
       "      <td>19FB92D3-AF6A-4318-8932-77431104EC8A</td>\n",
       "      <td>912</td>\n",
       "      <td>1</td>\n",
       "      <td>130.0</td>\n",
       "      <td>NaN</td>\n",
       "      <td>NaN</td>\n",
       "      <td>NaN</td>\n",
       "      <td>NaN</td>\n",
       "      <td>NaN</td>\n",
       "      <td>...</td>\n",
       "      <td>NaN</td>\n",
       "      <td>2015-07-14 16:38:30.400</td>\n",
       "      <td>NaN</td>\n",
       "      <td>0</td>\n",
       "      <td>2015-07-11</td>\n",
       "      <td>2015-07-11</td>\n",
       "      <td>NaN</td>\n",
       "      <td>NaN</td>\n",
       "      <td>NaN</td>\n",
       "      <td>NaN</td>\n",
       "    </tr>\n",
       "  </tbody>\n",
       "</table>\n",
       "<p>16 rows × 24 columns</p>\n",
       "</div>"
      ],
      "text/plain": [
       "        ShopId                              MemberId  Recency  Frequency  \\\n",
       "30249     1317  D83E73BA-65C5-44A1-A917-D9BBCE6E2377      916          1   \n",
       "30252     1317  D83E73BA-65C5-44A1-A917-D9BBCE6E2377      916          1   \n",
       "30253     1317  D83E73BA-65C5-44A1-A917-D9BBCE6E2377      916          1   \n",
       "112645    1317  35EA95B3-472C-4487-AADB-1FD7CF77A0D9      421          1   \n",
       "112646    1317  35EA95B3-472C-4487-AADB-1FD7CF77A0D9      421          1   \n",
       "427962    1317  79DD8D20-5D97-4951-A2F5-3721FB54D3F6      322          2   \n",
       "427963    1317  79DD8D20-5D97-4951-A2F5-3721FB54D3F6      322          2   \n",
       "427964    1317  79DD8D20-5D97-4951-A2F5-3721FB54D3F6      322          2   \n",
       "588704    1317  FE702C0F-FA5A-4F9A-AEC2-9B43003C9594       25          5   \n",
       "588705    1317  FE702C0F-FA5A-4F9A-AEC2-9B43003C9594       25          5   \n",
       "634918    1317  7FCF8E52-82C0-4A98-BAE8-1A9C5D0256ED       13          5   \n",
       "636224    1317  7FCF8E52-82C0-4A98-BAE8-1A9C5D0256ED       13          5   \n",
       "636225    1317  7FCF8E52-82C0-4A98-BAE8-1A9C5D0256ED       13          5   \n",
       "645094    1317  19FB92D3-AF6A-4318-8932-77431104EC8A      912          1   \n",
       "645095    1317  19FB92D3-AF6A-4318-8932-77431104EC8A      912          1   \n",
       "645096    1317  19FB92D3-AF6A-4318-8932-77431104EC8A      912          1   \n",
       "\n",
       "        Monetary    Birthday GenderTypeDef  LocationCity LocationState  \\\n",
       "30249      397.0         NaN           NaN           NaN           NaN   \n",
       "30252      397.0         NaN           NaN           NaN           NaN   \n",
       "30253      397.0         NaN           NaN           NaN           NaN   \n",
       "112645     594.0         NaN           NaN           NaN           NaN   \n",
       "112646     594.0         NaN           NaN           NaN           NaN   \n",
       "427962    1467.0         NaN           NaN           NaN           NaN   \n",
       "427963    1467.0         NaN           NaN           NaN           NaN   \n",
       "427964    1467.0  1994-12-16        Female           NaN           台北市   \n",
       "588704    5511.0         NaN           NaN           NaN           NaN   \n",
       "588705    5511.0  1989-08-02        Female           NaN           新北市   \n",
       "634918    2657.0         NaN           NaN           NaN           NaN   \n",
       "636224    2657.0         NaN           NaN           NaN           NaN   \n",
       "636225    2657.0         NaN           NaN           NaN           NaN   \n",
       "645094     130.0         NaN           NaN           NaN           NaN   \n",
       "645095     130.0         NaN           NaN           NaN           NaN   \n",
       "645096     130.0         NaN           NaN           NaN           NaN   \n",
       "\n",
       "       LocationCountry           ...            AnnualIncomeTypeDef  \\\n",
       "30249              NaN           ...                            NaN   \n",
       "30252              NaN           ...                            NaN   \n",
       "30253              NaN           ...                            NaN   \n",
       "112645             NaN           ...                            NaN   \n",
       "112646             NaN           ...                            NaN   \n",
       "427962             NaN           ...                            NaN   \n",
       "427963             NaN           ...                            NaN   \n",
       "427964              台灣           ...                            NaN   \n",
       "588704             NaN           ...                            NaN   \n",
       "588705              台灣           ...                            NaN   \n",
       "634918             NaN           ...                            NaN   \n",
       "636224             NaN           ...                            NaN   \n",
       "636225             NaN           ...                            NaN   \n",
       "645094             NaN           ...                            NaN   \n",
       "645095             NaN           ...                            NaN   \n",
       "645096             NaN           ...                            NaN   \n",
       "\n",
       "               RegisterDateTime  RegisterSourceTypeDef  ValidFlag  \\\n",
       "30249   2017-11-25 10:45:18.927                    Web          1   \n",
       "30252   2015-07-14 14:38:20.207                    NaN          0   \n",
       "30253   2015-07-14 16:38:30.400                    NaN          0   \n",
       "112645  2017-11-08 00:02:37.060                    Web          1   \n",
       "112646  2016-11-13 10:11:17.800                    Web          0   \n",
       "427962  2017-02-20 23:41:49.717                    Web          1   \n",
       "427963  2015-07-14 14:38:20.207                    NaN          0   \n",
       "427964  2015-07-14 16:38:30.400                    NaN          0   \n",
       "588704  2017-11-09 18:11:12.213                 iOSApp          1   \n",
       "588705  2016-06-27 00:23:16.827                    Web          0   \n",
       "634918  2017-12-26 03:30:21.320                    Web          1   \n",
       "636224  2015-07-14 16:38:27.753                    NaN          0   \n",
       "636225  2015-07-14 14:38:20.207                    NaN          0   \n",
       "645094  2017-12-23 10:37:46.157                    Web          1   \n",
       "645095  2015-07-14 14:38:26.230                    NaN          0   \n",
       "645096  2015-07-14 16:38:30.400                    NaN          0   \n",
       "\n",
       "       MinOrderDate MaxOrderDate IsAppInstalled  IsInBlackList  \\\n",
       "30249    2015-07-07   2015-07-07            NaN            NaN   \n",
       "30252    2015-07-07   2015-07-07            NaN            NaN   \n",
       "30253    2015-07-07   2015-07-07            NaN            NaN   \n",
       "112645   2016-11-13   2016-11-13            NaN            NaN   \n",
       "112646   2016-11-13   2016-11-13            NaN            NaN   \n",
       "427962   2015-07-06   2017-02-20              有            NaN   \n",
       "427963   2015-07-06   2017-02-20              有            NaN   \n",
       "427964   2015-07-06   2017-02-20              有            NaN   \n",
       "588704   2016-06-30   2017-10-16            NaN            NaN   \n",
       "588705   2016-06-30   2017-07-06              有            NaN   \n",
       "634918   2015-06-29   2017-12-26            NaN            NaN   \n",
       "636224   2015-06-29   2016-07-02            NaN            NaN   \n",
       "636225   2015-06-29   2016-07-02            NaN            NaN   \n",
       "645094   2015-07-11   2015-07-11            NaN            NaN   \n",
       "645095   2015-07-11   2015-07-11            NaN            NaN   \n",
       "645096   2015-07-11   2015-07-11            NaN            NaN   \n",
       "\n",
       "             MinAppOpenDateTime       MaxAppOpenDateTime  \n",
       "30249                       NaN                      NaN  \n",
       "30252                       NaN                      NaN  \n",
       "30253                       NaN                      NaN  \n",
       "112645                      NaN                      NaN  \n",
       "112646                      NaN                      NaN  \n",
       "427962  2017-02-22 03:05:22.237  2017-10-10 05:43:58.653  \n",
       "427963  2017-02-22 03:05:22.237  2017-10-10 05:43:58.653  \n",
       "427964  2017-02-22 03:05:22.237  2017-10-10 05:43:58.653  \n",
       "588704  2017-04-24 08:42:53.560  2017-11-09 18:11:12.260  \n",
       "588705  2017-04-24 08:42:53.560  2017-11-09 18:11:12.260  \n",
       "634918                      NaN                      NaN  \n",
       "636224                      NaN                      NaN  \n",
       "636225                      NaN                      NaN  \n",
       "645094                      NaN                      NaN  \n",
       "645095                      NaN                      NaN  \n",
       "645096                      NaN                      NaN  \n",
       "\n",
       "[16 rows x 24 columns]"
      ]
     },
     "execution_count": 25,
     "metadata": {},
     "output_type": "execute_result"
    }
   ],
   "source": [
    "df_member.query(\"MemberId == {}\".format(special_list))"
   ]
  },
  {
   "cell_type": "code",
   "execution_count": 29,
   "metadata": {
    "collapsed": false,
    "scrolled": true
   },
   "outputs": [
    {
     "data": {
      "text/html": [
       "<div>\n",
       "<style>\n",
       "    .dataframe thead tr:only-child th {\n",
       "        text-align: right;\n",
       "    }\n",
       "\n",
       "    .dataframe thead th {\n",
       "        text-align: left;\n",
       "    }\n",
       "\n",
       "    .dataframe tbody tr th {\n",
       "        vertical-align: top;\n",
       "    }\n",
       "</style>\n",
       "<table border=\"1\" class=\"dataframe\">\n",
       "  <thead>\n",
       "    <tr style=\"text-align: right;\">\n",
       "      <th></th>\n",
       "      <th>ShopId</th>\n",
       "      <th>MemberId</th>\n",
       "      <th>Recency</th>\n",
       "      <th>Frequency</th>\n",
       "      <th>Monetary</th>\n",
       "      <th>Birthday</th>\n",
       "      <th>GenderTypeDef</th>\n",
       "      <th>LocationCity</th>\n",
       "      <th>LocationState</th>\n",
       "      <th>LocationCountry</th>\n",
       "      <th>...</th>\n",
       "      <th>AnnualIncomeTypeDef</th>\n",
       "      <th>RegisterDateTime</th>\n",
       "      <th>RegisterSourceTypeDef</th>\n",
       "      <th>ValidFlag</th>\n",
       "      <th>MinOrderDate</th>\n",
       "      <th>MaxOrderDate</th>\n",
       "      <th>IsAppInstalled</th>\n",
       "      <th>IsInBlackList</th>\n",
       "      <th>MinAppOpenDateTime</th>\n",
       "      <th>MaxAppOpenDateTime</th>\n",
       "    </tr>\n",
       "  </thead>\n",
       "  <tbody>\n",
       "    <tr>\n",
       "      <th>30252</th>\n",
       "      <td>1317</td>\n",
       "      <td>D83E73BA-65C5-44A1-A917-D9BBCE6E2377</td>\n",
       "      <td>916</td>\n",
       "      <td>1</td>\n",
       "      <td>397.0</td>\n",
       "      <td>NaN</td>\n",
       "      <td>NaN</td>\n",
       "      <td>NaN</td>\n",
       "      <td>NaN</td>\n",
       "      <td>NaN</td>\n",
       "      <td>...</td>\n",
       "      <td>NaN</td>\n",
       "      <td>2015-07-14 14:38:20.207</td>\n",
       "      <td>NaN</td>\n",
       "      <td>0</td>\n",
       "      <td>2015-07-07</td>\n",
       "      <td>2015-07-07</td>\n",
       "      <td>NaN</td>\n",
       "      <td>NaN</td>\n",
       "      <td>NaN</td>\n",
       "      <td>NaN</td>\n",
       "    </tr>\n",
       "    <tr>\n",
       "      <th>30253</th>\n",
       "      <td>1317</td>\n",
       "      <td>D83E73BA-65C5-44A1-A917-D9BBCE6E2377</td>\n",
       "      <td>916</td>\n",
       "      <td>1</td>\n",
       "      <td>397.0</td>\n",
       "      <td>NaN</td>\n",
       "      <td>NaN</td>\n",
       "      <td>NaN</td>\n",
       "      <td>NaN</td>\n",
       "      <td>NaN</td>\n",
       "      <td>...</td>\n",
       "      <td>NaN</td>\n",
       "      <td>2015-07-14 16:38:30.400</td>\n",
       "      <td>NaN</td>\n",
       "      <td>0</td>\n",
       "      <td>2015-07-07</td>\n",
       "      <td>2015-07-07</td>\n",
       "      <td>NaN</td>\n",
       "      <td>NaN</td>\n",
       "      <td>NaN</td>\n",
       "      <td>NaN</td>\n",
       "    </tr>\n",
       "    <tr>\n",
       "      <th>112646</th>\n",
       "      <td>1317</td>\n",
       "      <td>35EA95B3-472C-4487-AADB-1FD7CF77A0D9</td>\n",
       "      <td>421</td>\n",
       "      <td>1</td>\n",
       "      <td>594.0</td>\n",
       "      <td>NaN</td>\n",
       "      <td>NaN</td>\n",
       "      <td>NaN</td>\n",
       "      <td>NaN</td>\n",
       "      <td>NaN</td>\n",
       "      <td>...</td>\n",
       "      <td>NaN</td>\n",
       "      <td>2016-11-13 10:11:17.800</td>\n",
       "      <td>Web</td>\n",
       "      <td>0</td>\n",
       "      <td>2016-11-13</td>\n",
       "      <td>2016-11-13</td>\n",
       "      <td>NaN</td>\n",
       "      <td>NaN</td>\n",
       "      <td>NaN</td>\n",
       "      <td>NaN</td>\n",
       "    </tr>\n",
       "    <tr>\n",
       "      <th>427963</th>\n",
       "      <td>1317</td>\n",
       "      <td>79DD8D20-5D97-4951-A2F5-3721FB54D3F6</td>\n",
       "      <td>322</td>\n",
       "      <td>2</td>\n",
       "      <td>1467.0</td>\n",
       "      <td>NaN</td>\n",
       "      <td>NaN</td>\n",
       "      <td>NaN</td>\n",
       "      <td>NaN</td>\n",
       "      <td>NaN</td>\n",
       "      <td>...</td>\n",
       "      <td>NaN</td>\n",
       "      <td>2015-07-14 14:38:20.207</td>\n",
       "      <td>NaN</td>\n",
       "      <td>0</td>\n",
       "      <td>2015-07-06</td>\n",
       "      <td>2017-02-20</td>\n",
       "      <td>有</td>\n",
       "      <td>NaN</td>\n",
       "      <td>2017-02-22 03:05:22.237</td>\n",
       "      <td>2017-10-10 05:43:58.653</td>\n",
       "    </tr>\n",
       "    <tr>\n",
       "      <th>427964</th>\n",
       "      <td>1317</td>\n",
       "      <td>79DD8D20-5D97-4951-A2F5-3721FB54D3F6</td>\n",
       "      <td>322</td>\n",
       "      <td>2</td>\n",
       "      <td>1467.0</td>\n",
       "      <td>1994-12-16</td>\n",
       "      <td>Female</td>\n",
       "      <td>NaN</td>\n",
       "      <td>台北市</td>\n",
       "      <td>台灣</td>\n",
       "      <td>...</td>\n",
       "      <td>NaN</td>\n",
       "      <td>2015-07-14 16:38:30.400</td>\n",
       "      <td>NaN</td>\n",
       "      <td>0</td>\n",
       "      <td>2015-07-06</td>\n",
       "      <td>2017-02-20</td>\n",
       "      <td>有</td>\n",
       "      <td>NaN</td>\n",
       "      <td>2017-02-22 03:05:22.237</td>\n",
       "      <td>2017-10-10 05:43:58.653</td>\n",
       "    </tr>\n",
       "    <tr>\n",
       "      <th>588705</th>\n",
       "      <td>1317</td>\n",
       "      <td>FE702C0F-FA5A-4F9A-AEC2-9B43003C9594</td>\n",
       "      <td>25</td>\n",
       "      <td>5</td>\n",
       "      <td>5511.0</td>\n",
       "      <td>1989-08-02</td>\n",
       "      <td>Female</td>\n",
       "      <td>NaN</td>\n",
       "      <td>新北市</td>\n",
       "      <td>台灣</td>\n",
       "      <td>...</td>\n",
       "      <td>NaN</td>\n",
       "      <td>2016-06-27 00:23:16.827</td>\n",
       "      <td>Web</td>\n",
       "      <td>0</td>\n",
       "      <td>2016-06-30</td>\n",
       "      <td>2017-07-06</td>\n",
       "      <td>有</td>\n",
       "      <td>NaN</td>\n",
       "      <td>2017-04-24 08:42:53.560</td>\n",
       "      <td>2017-11-09 18:11:12.260</td>\n",
       "    </tr>\n",
       "    <tr>\n",
       "      <th>636224</th>\n",
       "      <td>1317</td>\n",
       "      <td>7FCF8E52-82C0-4A98-BAE8-1A9C5D0256ED</td>\n",
       "      <td>13</td>\n",
       "      <td>5</td>\n",
       "      <td>2657.0</td>\n",
       "      <td>NaN</td>\n",
       "      <td>NaN</td>\n",
       "      <td>NaN</td>\n",
       "      <td>NaN</td>\n",
       "      <td>NaN</td>\n",
       "      <td>...</td>\n",
       "      <td>NaN</td>\n",
       "      <td>2015-07-14 16:38:27.753</td>\n",
       "      <td>NaN</td>\n",
       "      <td>0</td>\n",
       "      <td>2015-06-29</td>\n",
       "      <td>2016-07-02</td>\n",
       "      <td>NaN</td>\n",
       "      <td>NaN</td>\n",
       "      <td>NaN</td>\n",
       "      <td>NaN</td>\n",
       "    </tr>\n",
       "    <tr>\n",
       "      <th>636225</th>\n",
       "      <td>1317</td>\n",
       "      <td>7FCF8E52-82C0-4A98-BAE8-1A9C5D0256ED</td>\n",
       "      <td>13</td>\n",
       "      <td>5</td>\n",
       "      <td>2657.0</td>\n",
       "      <td>NaN</td>\n",
       "      <td>NaN</td>\n",
       "      <td>NaN</td>\n",
       "      <td>NaN</td>\n",
       "      <td>NaN</td>\n",
       "      <td>...</td>\n",
       "      <td>NaN</td>\n",
       "      <td>2015-07-14 14:38:20.207</td>\n",
       "      <td>NaN</td>\n",
       "      <td>0</td>\n",
       "      <td>2015-06-29</td>\n",
       "      <td>2016-07-02</td>\n",
       "      <td>NaN</td>\n",
       "      <td>NaN</td>\n",
       "      <td>NaN</td>\n",
       "      <td>NaN</td>\n",
       "    </tr>\n",
       "    <tr>\n",
       "      <th>645095</th>\n",
       "      <td>1317</td>\n",
       "      <td>19FB92D3-AF6A-4318-8932-77431104EC8A</td>\n",
       "      <td>912</td>\n",
       "      <td>1</td>\n",
       "      <td>130.0</td>\n",
       "      <td>NaN</td>\n",
       "      <td>NaN</td>\n",
       "      <td>NaN</td>\n",
       "      <td>NaN</td>\n",
       "      <td>NaN</td>\n",
       "      <td>...</td>\n",
       "      <td>NaN</td>\n",
       "      <td>2015-07-14 14:38:26.230</td>\n",
       "      <td>NaN</td>\n",
       "      <td>0</td>\n",
       "      <td>2015-07-11</td>\n",
       "      <td>2015-07-11</td>\n",
       "      <td>NaN</td>\n",
       "      <td>NaN</td>\n",
       "      <td>NaN</td>\n",
       "      <td>NaN</td>\n",
       "    </tr>\n",
       "    <tr>\n",
       "      <th>645096</th>\n",
       "      <td>1317</td>\n",
       "      <td>19FB92D3-AF6A-4318-8932-77431104EC8A</td>\n",
       "      <td>912</td>\n",
       "      <td>1</td>\n",
       "      <td>130.0</td>\n",
       "      <td>NaN</td>\n",
       "      <td>NaN</td>\n",
       "      <td>NaN</td>\n",
       "      <td>NaN</td>\n",
       "      <td>NaN</td>\n",
       "      <td>...</td>\n",
       "      <td>NaN</td>\n",
       "      <td>2015-07-14 16:38:30.400</td>\n",
       "      <td>NaN</td>\n",
       "      <td>0</td>\n",
       "      <td>2015-07-11</td>\n",
       "      <td>2015-07-11</td>\n",
       "      <td>NaN</td>\n",
       "      <td>NaN</td>\n",
       "      <td>NaN</td>\n",
       "      <td>NaN</td>\n",
       "    </tr>\n",
       "  </tbody>\n",
       "</table>\n",
       "<p>10 rows × 24 columns</p>\n",
       "</div>"
      ],
      "text/plain": [
       "        ShopId                              MemberId  Recency  Frequency  \\\n",
       "30252     1317  D83E73BA-65C5-44A1-A917-D9BBCE6E2377      916          1   \n",
       "30253     1317  D83E73BA-65C5-44A1-A917-D9BBCE6E2377      916          1   \n",
       "112646    1317  35EA95B3-472C-4487-AADB-1FD7CF77A0D9      421          1   \n",
       "427963    1317  79DD8D20-5D97-4951-A2F5-3721FB54D3F6      322          2   \n",
       "427964    1317  79DD8D20-5D97-4951-A2F5-3721FB54D3F6      322          2   \n",
       "588705    1317  FE702C0F-FA5A-4F9A-AEC2-9B43003C9594       25          5   \n",
       "636224    1317  7FCF8E52-82C0-4A98-BAE8-1A9C5D0256ED       13          5   \n",
       "636225    1317  7FCF8E52-82C0-4A98-BAE8-1A9C5D0256ED       13          5   \n",
       "645095    1317  19FB92D3-AF6A-4318-8932-77431104EC8A      912          1   \n",
       "645096    1317  19FB92D3-AF6A-4318-8932-77431104EC8A      912          1   \n",
       "\n",
       "        Monetary    Birthday GenderTypeDef  LocationCity LocationState  \\\n",
       "30252      397.0         NaN           NaN           NaN           NaN   \n",
       "30253      397.0         NaN           NaN           NaN           NaN   \n",
       "112646     594.0         NaN           NaN           NaN           NaN   \n",
       "427963    1467.0         NaN           NaN           NaN           NaN   \n",
       "427964    1467.0  1994-12-16        Female           NaN           台北市   \n",
       "588705    5511.0  1989-08-02        Female           NaN           新北市   \n",
       "636224    2657.0         NaN           NaN           NaN           NaN   \n",
       "636225    2657.0         NaN           NaN           NaN           NaN   \n",
       "645095     130.0         NaN           NaN           NaN           NaN   \n",
       "645096     130.0         NaN           NaN           NaN           NaN   \n",
       "\n",
       "       LocationCountry           ...            AnnualIncomeTypeDef  \\\n",
       "30252              NaN           ...                            NaN   \n",
       "30253              NaN           ...                            NaN   \n",
       "112646             NaN           ...                            NaN   \n",
       "427963             NaN           ...                            NaN   \n",
       "427964              台灣           ...                            NaN   \n",
       "588705              台灣           ...                            NaN   \n",
       "636224             NaN           ...                            NaN   \n",
       "636225             NaN           ...                            NaN   \n",
       "645095             NaN           ...                            NaN   \n",
       "645096             NaN           ...                            NaN   \n",
       "\n",
       "               RegisterDateTime  RegisterSourceTypeDef  ValidFlag  \\\n",
       "30252   2015-07-14 14:38:20.207                    NaN          0   \n",
       "30253   2015-07-14 16:38:30.400                    NaN          0   \n",
       "112646  2016-11-13 10:11:17.800                    Web          0   \n",
       "427963  2015-07-14 14:38:20.207                    NaN          0   \n",
       "427964  2015-07-14 16:38:30.400                    NaN          0   \n",
       "588705  2016-06-27 00:23:16.827                    Web          0   \n",
       "636224  2015-07-14 16:38:27.753                    NaN          0   \n",
       "636225  2015-07-14 14:38:20.207                    NaN          0   \n",
       "645095  2015-07-14 14:38:26.230                    NaN          0   \n",
       "645096  2015-07-14 16:38:30.400                    NaN          0   \n",
       "\n",
       "       MinOrderDate MaxOrderDate IsAppInstalled  IsInBlackList  \\\n",
       "30252    2015-07-07   2015-07-07            NaN            NaN   \n",
       "30253    2015-07-07   2015-07-07            NaN            NaN   \n",
       "112646   2016-11-13   2016-11-13            NaN            NaN   \n",
       "427963   2015-07-06   2017-02-20              有            NaN   \n",
       "427964   2015-07-06   2017-02-20              有            NaN   \n",
       "588705   2016-06-30   2017-07-06              有            NaN   \n",
       "636224   2015-06-29   2016-07-02            NaN            NaN   \n",
       "636225   2015-06-29   2016-07-02            NaN            NaN   \n",
       "645095   2015-07-11   2015-07-11            NaN            NaN   \n",
       "645096   2015-07-11   2015-07-11            NaN            NaN   \n",
       "\n",
       "             MinAppOpenDateTime       MaxAppOpenDateTime  \n",
       "30252                       NaN                      NaN  \n",
       "30253                       NaN                      NaN  \n",
       "112646                      NaN                      NaN  \n",
       "427963  2017-02-22 03:05:22.237  2017-10-10 05:43:58.653  \n",
       "427964  2017-02-22 03:05:22.237  2017-10-10 05:43:58.653  \n",
       "588705  2017-04-24 08:42:53.560  2017-11-09 18:11:12.260  \n",
       "636224                      NaN                      NaN  \n",
       "636225                      NaN                      NaN  \n",
       "645095                      NaN                      NaN  \n",
       "645096                      NaN                      NaN  \n",
       "\n",
       "[10 rows x 24 columns]"
      ]
     },
     "execution_count": 29,
     "metadata": {},
     "output_type": "execute_result"
    }
   ],
   "source": [
    "df_member.query(\"ValidFlag == 0\")"
   ]
  },
  {
   "cell_type": "markdown",
   "metadata": {},
   "source": [
    "### Special_list contain member whose validflag is 0, I guess it mean these member didn't complete some process to attend as a member, so I remain only record with 1 in validflag. "
   ]
  },
  {
   "cell_type": "code",
   "execution_count": 75,
   "metadata": {
    "collapsed": true
   },
   "outputs": [],
   "source": [
    "df_member = df_member.query(\"ValidFlag == 1\")"
   ]
  },
  {
   "cell_type": "code",
   "execution_count": 31,
   "metadata": {
    "collapsed": false
   },
   "outputs": [
    {
     "data": {
      "text/plain": [
       "array([1], dtype=int64)"
      ]
     },
     "execution_count": 31,
     "metadata": {},
     "output_type": "execute_result"
    }
   ],
   "source": [
    "df_member.ValidFlag.unique()"
   ]
  },
  {
   "cell_type": "markdown",
   "metadata": {},
   "source": [
    "## Recency -\n",
    "### There 325774 new member in this data.  What they bought is worth exploring."
   ]
  },
  {
   "cell_type": "code",
   "execution_count": 15,
   "metadata": {
    "collapsed": false,
    "scrolled": false
   },
   "outputs": [
    {
     "data": {
      "text/plain": [
       "-1      325774\n",
       " 58       3073\n",
       " 57       2426\n",
       " 423      2372\n",
       " 55       2256\n",
       " 54       1970\n",
       " 421      1756\n",
       " 6        1613\n",
       " 223      1548\n",
       " 20       1546\n",
       " 467      1501\n",
       " 27       1493\n",
       " 549      1472\n",
       " 56       1471\n",
       " 21       1464\n",
       "Name: Recency, dtype: int64"
      ]
     },
     "execution_count": 15,
     "metadata": {},
     "output_type": "execute_result"
    }
   ],
   "source": [
    "df_member[\"Recency\"].value_counts(ascending = False).head(15)"
   ]
  },
  {
   "cell_type": "markdown",
   "metadata": {},
   "source": [
    "## Frequency-"
   ]
  },
  {
   "cell_type": "code",
   "execution_count": 21,
   "metadata": {
    "collapsed": false,
    "scrolled": false
   },
   "outputs": [
    {
     "data": {
      "text/plain": [
       "<matplotlib.axes._subplots.AxesSubplot at 0x1b545bdabe0>"
      ]
     },
     "execution_count": 21,
     "metadata": {},
     "output_type": "execute_result"
    },
    {
     "data": {
      "image/png": "[encoded data removed]",
      "text/plain": [
       "<matplotlib.figure.Figure at 0x1b51111b7f0>"
      ]
     },
     "metadata": {},
     "output_type": "display_data"
    }
   ],
   "source": [
    "df_member[\"Frequency\"].value_counts(ascending = False).plot()"
   ]
  },
  {
   "cell_type": "markdown",
   "metadata": {},
   "source": [
    "### There are 0.59 (289343/(815792-325774)) member only bought for twice.\n",
    "Most customer would leave."
   ]
  },
  {
   "cell_type": "code",
   "execution_count": 23,
   "metadata": {
    "collapsed": false,
    "scrolled": true
   },
   "outputs": [
    {
     "data": {
      "text/plain": [
       "0     325774\n",
       "1     289343\n",
       "2      93617\n",
       "3      42706\n",
       "4      22808\n",
       "5      13636\n",
       "6       8383\n",
       "7       5431\n",
       "8       3725\n",
       "9       2511\n",
       "10      1843\n",
       "11      1304\n",
       "12       992\n",
       "13       745\n",
       "14       564\n",
       "15       443\n",
       "16       328\n",
       "17       248\n",
       "18       197\n",
       "19       171\n",
       "Name: Frequency, dtype: int64"
      ]
     },
     "execution_count": 23,
     "metadata": {},
     "output_type": "execute_result"
    }
   ],
   "source": [
    "df_member[\"Frequency\"].value_counts(ascending = False).head(20)"
   ]
  },
  {
   "cell_type": "markdown",
   "metadata": {},
   "source": [
    "## Monetary"
   ]
  },
  {
   "cell_type": "code",
   "execution_count": 32,
   "metadata": {
    "collapsed": false
   },
   "outputs": [
    {
     "data": {
      "text/plain": [
       "count    815782.000000\n",
       "mean       1197.218477\n",
       "std        2517.963299\n",
       "min           0.000000\n",
       "25%           0.000000\n",
       "50%         578.000000\n",
       "75%        1385.000000\n",
       "max      616493.000000\n",
       "Name: Monetary, dtype: float64"
      ]
     },
     "execution_count": 32,
     "metadata": {},
     "output_type": "execute_result"
    }
   ],
   "source": [
    "df_member[\"Monetary\"].describe()"
   ]
  },
  {
   "cell_type": "code",
   "execution_count": 25,
   "metadata": {
    "collapsed": false,
    "scrolled": false
   },
   "outputs": [
    {
     "data": {
      "text/plain": [
       "0.0      325888\n",
       "597.0      5762\n",
       "199.0      5542\n",
       "598.0      3971\n",
       "398.0      3245\n",
       "697.0      3021\n",
       "299.0      2870\n",
       "499.0      2651\n",
       "399.0      2532\n",
       "648.0      2457\n",
       "Name: Monetary, dtype: int64"
      ]
     },
     "execution_count": 25,
     "metadata": {},
     "output_type": "execute_result"
    }
   ],
   "source": [
    "df_member[\"Monetary\"].value_counts().head(10)"
   ]
  },
  {
   "cell_type": "code",
   "execution_count": 37,
   "metadata": {
    "collapsed": false
   },
   "outputs": [
    {
     "data": {
      "text/plain": [
       "<matplotlib.axes._subplots.AxesSubplot at 0x1d13a4ec6a0>"
      ]
     },
     "execution_count": 37,
     "metadata": {},
     "output_type": "execute_result"
    },
    {
     "data": {
      "image/png": "[encoded data removed]",
      "text/plain": [
       "<matplotlib.figure.Figure at 0x1d139d380f0>"
      ]
     },
     "metadata": {},
     "output_type": "display_data"
    }
   ],
   "source": [
    "df_member[\"Monetary\"].plot()"
   ]
  },
  {
   "cell_type": "code",
   "execution_count": 40,
   "metadata": {
    "collapsed": false,
    "scrolled": true
   },
   "outputs": [
    {
     "data": {
      "text/plain": [
       "<matplotlib.axes._subplots.AxesSubplot at 0x1d167b02f28>"
      ]
     },
     "execution_count": 40,
     "metadata": {},
     "output_type": "execute_result"
    },
    {
     "data": {
      "image/png": "[encoded data removed]",
      "text/plain": [
       "<matplotlib.figure.Figure at 0x1d167b06d68>"
      ]
     },
     "metadata": {},
     "output_type": "display_data"
    }
   ],
   "source": [
    "np.log1p(df_member[\"Monetary\"]).plot()"
   ]
  },
  {
   "cell_type": "code",
   "execution_count": 41,
   "metadata": {
    "collapsed": false,
    "scrolled": true
   },
   "outputs": [
    {
     "data": {
      "text/plain": [
       "count    815782.000000\n",
       "mean       1197.218477\n",
       "std        2517.963299\n",
       "min           0.000000\n",
       "25%           0.000000\n",
       "50%         578.000000\n",
       "75%        1385.000000\n",
       "max      616493.000000\n",
       "Name: Monetary, dtype: float64"
      ]
     },
     "execution_count": 41,
     "metadata": {},
     "output_type": "execute_result"
    }
   ],
   "source": [
    "df_member[\"Monetary\"].describe()"
   ]
  },
  {
   "cell_type": "code",
   "execution_count": 43,
   "metadata": {
    "collapsed": false
   },
   "outputs": [],
   "source": [
    "outlier = df_member[\"Monetary\"].describe()[\"mean\"] + 3*df_member[\"Monetary\"].describe()[\"std\"]"
   ]
  },
  {
   "cell_type": "code",
   "execution_count": 46,
   "metadata": {
    "collapsed": false,
    "scrolled": true
   },
   "outputs": [
    {
     "data": {
      "text/plain": [
       "8751.108375479087"
      ]
     },
     "execution_count": 46,
     "metadata": {},
     "output_type": "execute_result"
    }
   ],
   "source": [
    "outlier"
   ]
  },
  {
   "cell_type": "markdown",
   "metadata": {},
   "source": [
    "### There are 12496 extrem higher records in these member "
   ]
  },
  {
   "cell_type": "code",
   "execution_count": 50,
   "metadata": {
    "collapsed": false,
    "scrolled": true
   },
   "outputs": [
    {
     "data": {
      "text/plain": [
       "12496"
      ]
     },
     "execution_count": 50,
     "metadata": {},
     "output_type": "execute_result"
    }
   ],
   "source": [
    "len(df_member.query(\"Monetary > {}\".format(outlier)))"
   ]
  },
  {
   "cell_type": "markdown",
   "metadata": {},
   "source": [
    "### But there are 325888(39%) member set their monetary equal to 0."
   ]
  },
  {
   "cell_type": "code",
   "execution_count": 49,
   "metadata": {
    "collapsed": false,
    "scrolled": false
   },
   "outputs": [
    {
     "data": {
      "text/plain": [
       "325888"
      ]
     },
     "execution_count": 49,
     "metadata": {},
     "output_type": "execute_result"
    }
   ],
   "source": [
    "len(df_member.query(\"Monetary == 0\"))"
   ]
  },
  {
   "cell_type": "code",
   "execution_count": 51,
   "metadata": {
    "collapsed": false,
    "scrolled": false
   },
   "outputs": [
    {
     "data": {
      "text/plain": [
       "0.3994792726488204"
      ]
     },
     "execution_count": 51,
     "metadata": {},
     "output_type": "execute_result"
    }
   ],
   "source": [
    "325888/815782"
   ]
  },
  {
   "cell_type": "code",
   "execution_count": 54,
   "metadata": {
    "collapsed": false,
    "scrolled": false
   },
   "outputs": [
    {
     "data": {
      "text/plain": [
       "count    489894.000000\n",
       "mean       1993.633896\n",
       "std        2994.992552\n",
       "min           1.000000\n",
       "25%         660.000000\n",
       "50%        1136.000000\n",
       "75%        2220.000000\n",
       "max      616493.000000\n",
       "Name: Monetary, dtype: float64"
      ]
     },
     "execution_count": 54,
     "metadata": {},
     "output_type": "execute_result"
    }
   ],
   "source": [
    "df_member.query(\"Monetary != 0\")['Monetary'].describe()"
   ]
  },
  {
   "cell_type": "markdown",
   "metadata": {},
   "source": [
    "### What kind of merchandise will the rich intend to buy?"
   ]
  },
  {
   "cell_type": "code",
   "execution_count": 58,
   "metadata": {
    "collapsed": false,
    "scrolled": true
   },
   "outputs": [
    {
     "data": {
      "text/plain": [
       "ShopId                                                   1317\n",
       "MemberId                 000A8916-E35D-4590-84FF-F67075DA2786\n",
       "Recency                                                    27\n",
       "Frequency                                                   5\n",
       "Monetary                                               616493\n",
       "Birthday                                                  NaN\n",
       "GenderTypeDef                                             NaN\n",
       "LocationCity                                              NaN\n",
       "LocationState                                             NaN\n",
       "LocationCountry                                           NaN\n",
       "EducationTypeDef                                          NaN\n",
       "ProfessionTypeDef                                         NaN\n",
       "MarialStatusTypeDef                                       NaN\n",
       "DependentsTypeDef                                         NaN\n",
       "AnnualIncomeTypeDef                                       NaN\n",
       "RegisterDateTime                      2015-10-22 10:34:34.077\n",
       "RegisterSourceTypeDef                                     Web\n",
       "ValidFlag                                                   1\n",
       "MinOrderDate                                       2017-09-20\n",
       "MaxOrderDate                                       2017-09-26\n",
       "IsAppInstalled                                            NaN\n",
       "IsInBlackList                                             NaN\n",
       "MinAppOpenDateTime                                        NaN\n",
       "MaxAppOpenDateTime                                        NaN\n",
       "Name: 387155, dtype: object"
      ]
     },
     "execution_count": 58,
     "metadata": {},
     "output_type": "execute_result"
    }
   ],
   "source": [
    "df_member.loc[df_member[\"Monetary\"].idxmax(),]"
   ]
  },
  {
   "cell_type": "markdown",
   "metadata": {},
   "source": [
    "## Birthday"
   ]
  },
  {
   "cell_type": "markdown",
   "metadata": {},
   "source": [
    "### Only few people has sign their birthday => Birthday gifts are not attractive?"
   ]
  },
  {
   "cell_type": "code",
   "execution_count": 59,
   "metadata": {
    "collapsed": false
   },
   "outputs": [
    {
     "data": {
      "text/plain": [
       "208546"
      ]
     },
     "execution_count": 59,
     "metadata": {},
     "output_type": "execute_result"
    }
   ],
   "source": [
    "df_member[\"Birthday\"].value_counts().sum()"
   ]
  },
  {
   "cell_type": "code",
   "execution_count": 16,
   "metadata": {
    "collapsed": false,
    "scrolled": true
   },
   "outputs": [
    {
     "data": {
      "text/plain": [
       "<matplotlib.axes._subplots.AxesSubplot at 0x1b5111418d0>"
      ]
     },
     "execution_count": 16,
     "metadata": {},
     "output_type": "execute_result"
    },
    {
     "data": {
      "image/png": "[encoded data removed]",
      "text/plain": [
       "<matplotlib.figure.Figure at 0x1b500c667b8>"
      ]
     },
     "metadata": {},
     "output_type": "display_data"
    }
   ],
   "source": [
    "df_member[\"Birthday\"].value_counts().plot()"
   ]
  },
  {
   "cell_type": "code",
   "execution_count": 63,
   "metadata": {
    "collapsed": false,
    "scrolled": true
   },
   "outputs": [
    {
     "data": {
      "text/plain": [
       "0     1980-08-08\n",
       "10    1990-06-22\n",
       "11    1986-07-15\n",
       "12    1987-01-21\n",
       "14    1998-09-11\n",
       "Name: Birthday, dtype: object"
      ]
     },
     "execution_count": 63,
     "metadata": {},
     "output_type": "execute_result"
    }
   ],
   "source": [
    "df_member[df_member[\"Birthday\"].notnull()][\"Birthday\"].head()"
   ]
  },
  {
   "cell_type": "code",
   "execution_count": 67,
   "metadata": {
    "collapsed": false
   },
   "outputs": [
    {
     "data": {
      "text/plain": [
       "array(['1980-08-08', '1990-06-22', '1986-07-15', ..., '1960-04-05',\n",
       "       '2017-08-27', '1972-08-21'], dtype=object)"
      ]
     },
     "execution_count": 67,
     "metadata": {},
     "output_type": "execute_result"
    }
   ],
   "source": [
    "df_member[df_member[\"Birthday\"].notnull()][\"Birthday\"].unique()"
   ]
  },
  {
   "cell_type": "code",
   "execution_count": 102,
   "metadata": {
    "collapsed": false
   },
   "outputs": [],
   "source": [
    "df_member[\"Birthday\"] = pd.to_datetime(df_member[\"Birthday\"], format='%Y-%m-%d', errors = 'ignore')"
   ]
  },
  {
   "cell_type": "markdown",
   "metadata": {},
   "source": [
    "### Some member will cheat on their real age..."
   ]
  },
  {
   "cell_type": "code",
   "execution_count": 81,
   "metadata": {
    "collapsed": false,
    "scrolled": true
   },
   "outputs": [
    {
     "data": {
      "text/plain": [
       "3165"
      ]
     },
     "execution_count": 81,
     "metadata": {},
     "output_type": "execute_result"
    }
   ],
   "source": [
    "len(df_member.query(\"Birthday > '2010-12-30'\")[\"Birthday\"])"
   ]
  },
  {
   "cell_type": "code",
   "execution_count": 82,
   "metadata": {
    "collapsed": false,
    "scrolled": true
   },
   "outputs": [
    {
     "name": "stdout",
     "output_type": "stream",
     "text": [
      "<class 'pandas.core.frame.DataFrame'>\n",
      "Int64Index: 815782 entries, 0 to 815791\n",
      "Data columns (total 24 columns):\n",
      "ShopId                   815782 non-null int64\n",
      "MemberId                 815782 non-null object\n",
      "Recency                  815782 non-null int64\n",
      "Frequency                815782 non-null int64\n",
      "Monetary                 815782 non-null float64\n",
      "Birthday                 208546 non-null object\n",
      "GenderTypeDef            208547 non-null object\n",
      "LocationCity             0 non-null float64\n",
      "LocationState            207834 non-null object\n",
      "LocationCountry          166343 non-null object\n",
      "EducationTypeDef         9 non-null object\n",
      "ProfessionTypeDef        208547 non-null object\n",
      "MarialStatusTypeDef      0 non-null float64\n",
      "DependentsTypeDef        0 non-null float64\n",
      "AnnualIncomeTypeDef      9 non-null object\n",
      "RegisterDateTime         815782 non-null object\n",
      "RegisterSourceTypeDef    785769 non-null object\n",
      "ValidFlag                815782 non-null int64\n",
      "MinOrderDate             815782 non-null object\n",
      "MaxOrderDate             532366 non-null object\n",
      "IsAppInstalled           324970 non-null object\n",
      "IsInBlackList            1003 non-null object\n",
      "MinAppOpenDateTime       333612 non-null object\n",
      "MaxAppOpenDateTime       333675 non-null object\n",
      "dtypes: float64(4), int64(4), object(16)\n",
      "memory usage: 155.6+ MB\n"
     ]
    }
   ],
   "source": [
    "df_member.info()"
   ]
  },
  {
   "cell_type": "markdown",
   "metadata": {},
   "source": [
    "### Female member tend to cheat on their age..."
   ]
  },
  {
   "cell_type": "code",
   "execution_count": 92,
   "metadata": {
    "collapsed": false
   },
   "outputs": [
    {
     "data": {
      "text/plain": [
       "3095"
      ]
     },
     "execution_count": 92,
     "metadata": {},
     "output_type": "execute_result"
    }
   ],
   "source": [
    "len(df_member.query(\"Birthday > '2010-12-30' and GenderTypeDef == 'Female'\"))"
   ]
  },
  {
   "cell_type": "code",
   "execution_count": 93,
   "metadata": {
    "collapsed": false,
    "scrolled": true
   },
   "outputs": [
    {
     "data": {
      "text/plain": [
       "70"
      ]
     },
     "execution_count": 93,
     "metadata": {},
     "output_type": "execute_result"
    }
   ],
   "source": [
    "len(df_member.query(\"Birthday > '2010-12-30' and GenderTypeDef == 'Male'\"))"
   ]
  },
  {
   "cell_type": "markdown",
   "metadata": {},
   "source": [
    "### If we analyze only month and day of their birthday"
   ]
  },
  {
   "cell_type": "code",
   "execution_count": 104,
   "metadata": {
    "collapsed": false
   },
   "outputs": [],
   "source": [
    "df_bir = df_member[df_member[\"Birthday\"].notnull()][\"Birthday\"]"
   ]
  },
  {
   "cell_type": "code",
   "execution_count": 108,
   "metadata": {
    "collapsed": false
   },
   "outputs": [],
   "source": [
    "df_bir = df_bir.map(lambda x: x[5:])"
   ]
  },
  {
   "cell_type": "code",
   "execution_count": 113,
   "metadata": {
    "collapsed": false
   },
   "outputs": [
    {
     "data": {
      "text/plain": [
       "<matplotlib.axes._subplots.AxesSubplot at 0x1d16d23e160>"
      ]
     },
     "execution_count": 113,
     "metadata": {},
     "output_type": "execute_result"
    },
    {
     "data": {
      "image/png": "[encoded data removed]",
      "text/plain": [
       "<matplotlib.figure.Figure at 0x1d16d26dc88>"
      ]
     },
     "metadata": {},
     "output_type": "display_data"
    }
   ],
   "source": [
    "df_bir.value_counts().sort_index().plot()"
   ]
  },
  {
   "cell_type": "code",
   "execution_count": 115,
   "metadata": {
    "collapsed": false
   },
   "outputs": [
    {
     "data": {
      "text/plain": [
       "Index(['ShopId', 'MemberId', 'Recency', 'Frequency', 'Monetary', 'Birthday',\n",
       "       'GenderTypeDef', 'LocationCity', 'LocationState', 'LocationCountry',\n",
       "       'EducationTypeDef', 'ProfessionTypeDef', 'MarialStatusTypeDef',\n",
       "       'DependentsTypeDef', 'AnnualIncomeTypeDef', 'RegisterDateTime',\n",
       "       'RegisterSourceTypeDef', 'ValidFlag', 'MinOrderDate', 'MaxOrderDate',\n",
       "       'IsAppInstalled', 'IsInBlackList', 'MinAppOpenDateTime',\n",
       "       'MaxAppOpenDateTime'],\n",
       "      dtype='object')"
      ]
     },
     "execution_count": 115,
     "metadata": {},
     "output_type": "execute_result"
    }
   ],
   "source": [
    "df_member.columns"
   ]
  },
  {
   "cell_type": "markdown",
   "metadata": {},
   "source": [
    "## GenderTypeDef"
   ]
  },
  {
   "cell_type": "code",
   "execution_count": 124,
   "metadata": {
    "collapsed": false
   },
   "outputs": [
    {
     "data": {
      "text/plain": [
       "count     208547\n",
       "unique         2\n",
       "top       Female\n",
       "freq      206132\n",
       "Name: GenderTypeDef, dtype: object"
      ]
     },
     "execution_count": 124,
     "metadata": {},
     "output_type": "execute_result"
    }
   ],
   "source": [
    "df_member[\"GenderTypeDef\"].describe()"
   ]
  },
  {
   "cell_type": "code",
   "execution_count": 118,
   "metadata": {
    "collapsed": false
   },
   "outputs": [
    {
     "data": {
      "text/plain": [
       "607235"
      ]
     },
     "execution_count": 118,
     "metadata": {},
     "output_type": "execute_result"
    }
   ],
   "source": [
    "df_member[\"GenderTypeDef\"].isnull().sum()"
   ]
  },
  {
   "cell_type": "code",
   "execution_count": 122,
   "metadata": {
    "collapsed": false
   },
   "outputs": [
    {
     "data": {
      "text/plain": [
       "206132"
      ]
     },
     "execution_count": 122,
     "metadata": {},
     "output_type": "execute_result"
    }
   ],
   "source": [
    "len(df_member[df_member[\"GenderTypeDef\"]==\"Female\"])"
   ]
  },
  {
   "cell_type": "code",
   "execution_count": 123,
   "metadata": {
    "collapsed": false,
    "scrolled": true
   },
   "outputs": [
    {
     "data": {
      "text/plain": [
       "2415"
      ]
     },
     "execution_count": 123,
     "metadata": {},
     "output_type": "execute_result"
    }
   ],
   "source": [
    "len(df_member[df_member[\"GenderTypeDef\"]==\"Male\"])"
   ]
  },
  {
   "cell_type": "markdown",
   "metadata": {},
   "source": [
    "## LocationCity"
   ]
  },
  {
   "cell_type": "code",
   "execution_count": 126,
   "metadata": {
    "collapsed": false,
    "scrolled": true
   },
   "outputs": [
    {
     "data": {
      "text/plain": [
       "count    0.0\n",
       "mean     NaN\n",
       "std      NaN\n",
       "min      NaN\n",
       "25%      NaN\n",
       "50%      NaN\n",
       "75%      NaN\n",
       "max      NaN\n",
       "Name: LocationCity, dtype: float64"
      ]
     },
     "execution_count": 126,
     "metadata": {},
     "output_type": "execute_result"
    }
   ],
   "source": [
    "df_member['LocationCity'].describe()"
   ]
  },
  {
   "cell_type": "markdown",
   "metadata": {},
   "source": [
    "## LocationState"
   ]
  },
  {
   "cell_type": "code",
   "execution_count": 127,
   "metadata": {
    "collapsed": false
   },
   "outputs": [
    {
     "data": {
      "text/plain": [
       "count     207834\n",
       "unique       370\n",
       "top          新北市\n",
       "freq       42766\n",
       "Name: LocationState, dtype: object"
      ]
     },
     "execution_count": 127,
     "metadata": {},
     "output_type": "execute_result"
    }
   ],
   "source": [
    "df_member['LocationState'].describe()"
   ]
  },
  {
   "cell_type": "code",
   "execution_count": 128,
   "metadata": {
    "collapsed": false
   },
   "outputs": [
    {
     "data": {
      "text/plain": [
       "array(['台中市', nan, '新竹市', '台北市', '高雄市', '新竹縣', '彰化縣', '桃園市', '苗栗縣', '宜蘭',\n",
       "       '新北市', '台南市', '南投縣', '屏東縣', '嘉義市', '基隆', '澎湖縣', '雲林縣', '高雄', '宜蘭縣',\n",
       "       '台東縣', '基隆市', '苗栗', '嘉義縣', '台中', '臺南', 'Taipei', '彰化', '屏東',\n",
       "       '桃园县中壢平镇市', '南投', '台南', '台灣', '花蓮縣', '新竹', 'Taichung', '桃園', '台北',\n",
       "       '金門縣', '臺中市', '臺北', '臺灣', '花蓮', '嘉義', '桃園縣', '臺北市', 'Kaohsiung ',\n",
       "       '臺南市', '桃園區', '臺中', '新北', 'TEIPEI', 'Taichung ', '金城鎮', '雲林',\n",
       "       'Ilan', 's', '。', 'Hsin Chu', 'pingtung', '台中縣', '屏東市', '中和',\n",
       "       'Melbourne', 'Kaohsiung', '金門', 'pingtun', '淡水', 'Taipei ',\n",
       "       'Tainan', 'taipei', 'Hong Kong', ',台北', '澎湖', '苗栗市', '台灣省', '嘉義是',\n",
       "       ' 新北市', 'Taiwan', '台東', 'TAIPEI ', '高雄火車市', '台北、桃園', 'Macau',\n",
       "       'Pingtung', '台東市', '新市區', '大村鄉', '好', '美濃', '新北市中', '麻豆', '墾丁',\n",
       "       'yilan', '...', '斗六', '體育', '嗯', '連江縣', '臺東縣', '高興', '雲林線', '台中市 ',\n",
       "       '竹北市', '新北區', 'tw', 'p', 'Taioei', 'taoyuan', '彰化市', 'taichung',\n",
       "       '高雄服務', '莿桐', '屏東線', '宜蘭市', '中寮', 'Taoyuan', 'Tw', '宜蘭地區',\n",
       "       'hsinchu', '高市', 'ks', '三重', 'chayi ', '台', '臺灣省', 'Tainan ', '小港',\n",
       "       'keelung', 'keeling', 'taipei ', '南投線', '中壢', 'yunlin', '台中巿',\n",
       "       '沒有城市', 'TP', 'kaohsiung', 'HSINCHU', 'PENHU', '馬祖', '板橋',\n",
       "       'new taipei', 'chichu', '竹南', 'Natou', '土城', 'punting', 'Kaoh',\n",
       "       'Chaiyn', 'taiei', '鶯歌', '北投', '但', 'Hsinchu', '埤頭', 'Nantou',\n",
       "       '蘆洲區', 'Hualien', '新城村', '都市', '中正北路97號1樓', '臺東', 'tainan', 'NTc',\n",
       "       'New Taipei', '高雄說', 'T', '新竹線', 'tapei', '台南巿', '猴子', 'changhwa',\n",
       "       'ᵀᴬᴵᴾᴱᴵ', '無', '花蓮市', 'TPE', '隨便', '新比市', 'Ping tong', '彰化線',\n",
       "       '新北巿', '八德市', 'kaoshuing', '雲', '新竹縣市', '愛臺灣的城市', 'tpe', '彰化县',\n",
       "       '汐止', '中壢市', '竹北', '中沥', 'TAOYUAN', 'tu', '平鎮市', '仁德', 'KH', '福建',\n",
       "       '潮州', 'taitung', 'Taipai', 'Hong Kong ', '南投市', 'Kaoshon', 'i-lan',\n",
       "       'newtaipei', '高雄巿', '新北縣', ' ', '高', '大安', 'Keelung', 'Huallen',\n",
       "       '新被', '內埔', 'chunhua', '恆春', 'TAICHUNG ', '員林市', 'Tanain ', '宜兰',\n",
       "       '香港', '一', '大園', '首爾', '吧', '基', '仁川', '北市', '楊梅', 'Tainai', '市',\n",
       "       ' 台北', '龍岡', 'Tayouan ', '北部', 'c', '1234', 'Yilan', 'Taiwan ',\n",
       "       '大雅', '台灣啊', '豐原', '太平區', 'kh', '高雄市長', 'Taoyuan ', '台灣省 台北市',\n",
       "       '新莊', '永和', 'tenchung', 'taicghung', '鳳山', '鹿港鎮', '平鎮區', '中部', '區',\n",
       "       '臺北縣', '臺新北市', '中華民國', '花蓮 羅東', 'pinging', '馬六甲', 'Yulin', '新北市圖',\n",
       "       'y', '新北市 ', '新竹市縣', '縣', '高雄縣', '楊梅市', '南頭', 'taipe ', '桃园',\n",
       "       '台灣人', '中', '宜蘭縣市', 'to', 'Ta', '宜蘭線', 'b', '燕巢區', 'Kaoshiung',\n",
       "       '平鎮', '..', '南京', '桃園 ㄟ', '萬華區', 'Changhua', '台北市\\u200e ', '台北縣',\n",
       "       '士林', '屏東市縣', '木柵', 'tc', 'Keelung ', 'new Taipei', '東京', '堺市',\n",
       "       '元長鄉', 'changhua ', '古坑鄉', 'Mioli', 'tp', '桃园市', 'taoyuan ', '樹林',\n",
       "       '新店', 'Taichang', '蘆州', '鄉村', 'k', '林口', '林口區', '水里', ' 台北市', '石牌',\n",
       "       'hualien', ' 台中', 't', 'tainai', 'Taipe', '合界村', '苗栗線', '板橋區',\n",
       "       '台灣台北', '頭份', '…', 'taipe', 'yulin', '土城區，板橋區', '南投縣南投市', '永和區',\n",
       "       '東勢區', 'TOE', 'Singapore ', '安南區', '埔心', '新北使', '，新北市', '---',\n",
       "       'kH', '新莊區', '七堵', '臺中只市', '台湾', '新北市土城', 'w', 'Miaoli', '鹿港',\n",
       "       '羅東', 'Tachung', '桃', '台北人', '沙美', 'hsin chi', '三重市', '東港', '崙背鄉',\n",
       "       '八德', '臺', '臺中縣', 'chaotic', '亞洲', 'KS', '花蓮/台南', '員林', '省',\n",
       "       'NewTaipei', '台中市豐原區'], dtype=object)"
      ]
     },
     "execution_count": 128,
     "metadata": {},
     "output_type": "execute_result"
    }
   ],
   "source": [
    "df_member['LocationState'].unique()"
   ]
  },
  {
   "cell_type": "markdown",
   "metadata": {},
   "source": [
    "## LocationCountry\n",
    "\n"
   ]
  },
  {
   "cell_type": "code",
   "execution_count": 132,
   "metadata": {
    "collapsed": false
   },
   "outputs": [
    {
     "data": {
      "text/plain": [
       "141"
      ]
     },
     "execution_count": 132,
     "metadata": {},
     "output_type": "execute_result"
    }
   ],
   "source": [
    "len(df_member[\"LocationCountry\"].unique())"
   ]
  },
  {
   "cell_type": "code",
   "execution_count": 133,
   "metadata": {
    "collapsed": false
   },
   "outputs": [
    {
     "data": {
      "text/plain": [
       "array(['台灣', nan, '臺灣', '印尼', 'Taiwan', 'Taiwan ', '臺灣省', 'taiwan',\n",
       "       '中華民國', '金門縣', '中國', '台湾', '台灣省', 'Australia', '台灣人', 'taiwan ',\n",
       "       '台', 'Hong Kong', 'TW', 'TAIWAN', 'Macau', '泰國', '台碗', 'tiawan',\n",
       "       '台彎', 'tw', '...', 'Tw', '臺北', '中華民國臺灣', 'Taiwn', '中華民國台灣', '中國台灣',\n",
       "       'p', 'Taipei', 'Roc', 'ROC', '國家', '台ㄨㄢ', '中国台湾', '台灣地區', 'taiwa',\n",
       "       '30064', 'the', '235', ' 台灣', '台灣部', '台灣吧', '越南', 'Korea ', '但',\n",
       "       '韓國', '灣', '太晚', '台灣台南市', '台玩', 'Taiwai', '新北市', '台灣台南', 'T',\n",
       "       'roc', 'Taiwen', '   台灣', 'ᵀᴬᴵᵂᴬᴺ', 'Taiwain', '無', '臺', '台中',\n",
       "       '台北', '桃園縣', 'Hong Kong ', '台灣🇹🇼', '馬來西亞', 'tawin', '台南', ' ',\n",
       "       'Tawain', 'R.O.C', 'taipei', '台灣啊', '中華民國 臺灣', 'hk', 'Taiean',\n",
       "       'TWM', '🇹🇼', 'taiwai', '日本', 't', '非洲', '高雄', 'TAiwan', 'toe',\n",
       "       'Taipei ', '台灣二', '台灣生', 'twain', 'TWN', '桃園', 'tiwan', '臺灣 ',\n",
       "       '中華民國/臺灣', '.臺灣', 'TW.', '中国', 'Taiwam', 'a', 'twaiwan', '台北市',\n",
       "       '️Taiwan', 'TAIWNA', '臺灣Taiwan', 'TAIWAB', '亞洲', 'Tiwan', 'tw ',\n",
       "       '雲林縣', '  台灣', 'Taiwaan', 'h', '台灣 ', 'TAIWAN ', '花蓮縣', '台語灣',\n",
       "       '澎湖縣', '台灣台北', '台臺灣', 'i', '香港', 'TWD', '台灣兒', 'Singapore ', '台我',\n",
       "       'R.O.C.', '基隆', 'Tawian', '，台灣', '花蓮', '35842', '台灣嘉義', 'Tawain ',\n",
       "       '台灣人民'], dtype=object)"
      ]
     },
     "execution_count": 133,
     "metadata": {},
     "output_type": "execute_result"
    }
   ],
   "source": [
    "df_member[\"LocationCountry\"].unique()"
   ]
  },
  {
   "cell_type": "code",
   "execution_count": 131,
   "metadata": {
    "collapsed": false
   },
   "outputs": [
    {
     "data": {
      "text/plain": [
       "count     166343\n",
       "unique       140\n",
       "top           台灣\n",
       "freq      156536\n",
       "Name: LocationCountry, dtype: object"
      ]
     },
     "execution_count": 131,
     "metadata": {},
     "output_type": "execute_result"
    }
   ],
   "source": [
    "df_member[\"LocationCountry\"].describe()"
   ]
  },
  {
   "cell_type": "markdown",
   "metadata": {},
   "source": [
    "## EducationTypeDef"
   ]
  },
  {
   "cell_type": "code",
   "execution_count": 135,
   "metadata": {
    "collapsed": false
   },
   "outputs": [
    {
     "data": {
      "text/plain": [
       "count                  9\n",
       "unique                 3\n",
       "top       PrimaryOrBelow\n",
       "freq                   6\n",
       "Name: EducationTypeDef, dtype: object"
      ]
     },
     "execution_count": 135,
     "metadata": {},
     "output_type": "execute_result"
    }
   ],
   "source": [
    "df_member['EducationTypeDef'].describe()"
   ]
  },
  {
   "cell_type": "code",
   "execution_count": 136,
   "metadata": {
    "collapsed": false,
    "scrolled": true
   },
   "outputs": [
    {
     "data": {
      "text/plain": [
       "array([nan, 'MasterDegreeOrAbove', 'PrimaryOrBelow', 'HighSchoolDiploma'],\n",
       "      dtype=object)"
      ]
     },
     "execution_count": 136,
     "metadata": {},
     "output_type": "execute_result"
    }
   ],
   "source": [
    "df_member['EducationTypeDef'].unique()"
   ]
  },
  {
   "cell_type": "markdown",
   "metadata": {},
   "source": [
    "## ProfessionTypeDef"
   ]
  },
  {
   "cell_type": "code",
   "execution_count": 137,
   "metadata": {
    "collapsed": false
   },
   "outputs": [
    {
     "data": {
      "text/plain": [
       "count              208547\n",
       "unique                 21\n",
       "top       ServiceIndustry\n",
       "freq                60889\n",
       "Name: ProfessionTypeDef, dtype: object"
      ]
     },
     "execution_count": 137,
     "metadata": {},
     "output_type": "execute_result"
    }
   ],
   "source": [
    "df_member[\"ProfessionTypeDef\"].describe()"
   ]
  },
  {
   "cell_type": "code",
   "execution_count": 138,
   "metadata": {
    "collapsed": false,
    "scrolled": true
   },
   "outputs": [
    {
     "data": {
      "text/plain": [
       "array(['EducationOrResearch', nan, 'IT', 'FinanceOrInsurance', 'Student',\n",
       "       'ServiceIndustry', 'Housekeeper', 'Unemployed',\n",
       "       'ManufacturerOrSupplier', 'Medical', 'Business', 'RealEstate',\n",
       "       'Architect', 'Retail', 'Art', 'Law',\n",
       "       'CommunicationOrPROrMarketing', 'Police',\n",
       "       'EntertainmentOrPublishing', 'Government agencies',\n",
       "       'TransportationOrTravel', 'AgricultureOrFisheryOrPoultry'],\n",
       "      dtype=object)"
      ]
     },
     "execution_count": 138,
     "metadata": {},
     "output_type": "execute_result"
    }
   ],
   "source": [
    "df_member[\"ProfessionTypeDef\"].unique()"
   ]
  },
  {
   "cell_type": "code",
   "execution_count": 141,
   "metadata": {
    "collapsed": false,
    "scrolled": true
   },
   "outputs": [
    {
     "data": {
      "text/plain": [
       "ServiceIndustry                  60889\n",
       "Student                          60346\n",
       "ManufacturerOrSupplier           16280\n",
       "Housekeeper                      14448\n",
       "Medical                           9731\n",
       "EducationOrResearch               8436\n",
       "FinanceOrInsurance                7127\n",
       "Unemployed                        6344\n",
       "IT                                4444\n",
       "Retail                            3109\n",
       "Art                               2857\n",
       "CommunicationOrPROrMarketing      2450\n",
       "Business                          2298\n",
       "Architect                         2080\n",
       "TransportationOrTravel            1904\n",
       "Government agencies               1701\n",
       "Police                            1295\n",
       "RealEstate                        1052\n",
       "EntertainmentOrPublishing          998\n",
       "Law                                484\n",
       "AgricultureOrFisheryOrPoultry      274\n",
       "Name: ProfessionTypeDef, dtype: int64"
      ]
     },
     "execution_count": 141,
     "metadata": {},
     "output_type": "execute_result"
    }
   ],
   "source": [
    "df_member[\"ProfessionTypeDef\"].value_counts()"
   ]
  },
  {
   "cell_type": "code",
   "execution_count": 187,
   "metadata": {
    "collapsed": false
   },
   "outputs": [],
   "source": [
    "xx = [i for i in df_member[\"ProfessionTypeDef\"].value_counts().index]\n",
    "yy = [j for j in df_member[\"ProfessionTypeDef\"].value_counts().values]\n",
    "zz = [i for i in range(0,len(df_member[\"ProfessionTypeDef\"].value_counts().index))]"
   ]
  },
  {
   "cell_type": "code",
   "execution_count": 192,
   "metadata": {
    "collapsed": false
   },
   "outputs": [
    {
     "data": {
      "text/plain": [
       "<matplotlib.collections.PathCollection at 0x1d10505f048>"
      ]
     },
     "execution_count": 192,
     "metadata": {},
     "output_type": "execute_result"
    },
    {
     "data": {
      "image/png": "[encoded data removed]",
      "text/plain": [
       "<matplotlib.figure.Figure at 0x1d104fd3518>"
      ]
     },
     "metadata": {},
     "output_type": "display_data"
    }
   ],
   "source": [
    "plt.scatter(x = zz, y = yy)"
   ]
  },
  {
   "cell_type": "code",
   "execution_count": 169,
   "metadata": {
    "collapsed": true
   },
   "outputs": [],
   "source": [
    "plt?"
   ]
  },
  {
   "cell_type": "markdown",
   "metadata": {},
   "source": [
    "## MarialStatusTypeDef is uesless"
   ]
  },
  {
   "cell_type": "code",
   "execution_count": 194,
   "metadata": {
    "collapsed": false
   },
   "outputs": [
    {
     "data": {
      "text/plain": [
       "count    0.0\n",
       "mean     NaN\n",
       "std      NaN\n",
       "min      NaN\n",
       "25%      NaN\n",
       "50%      NaN\n",
       "75%      NaN\n",
       "max      NaN\n",
       "Name: MarialStatusTypeDef, dtype: float64"
      ]
     },
     "execution_count": 194,
     "metadata": {},
     "output_type": "execute_result"
    }
   ],
   "source": [
    "df_member[\"MarialStatusTypeDef\"].describe()"
   ]
  },
  {
   "cell_type": "code",
   "execution_count": 195,
   "metadata": {
    "collapsed": false
   },
   "outputs": [
    {
     "data": {
      "text/plain": [
       "Index(['ShopId', 'MemberId', 'Recency', 'Frequency', 'Monetary', 'Birthday',\n",
       "       'GenderTypeDef', 'LocationCity', 'LocationState', 'LocationCountry',\n",
       "       'EducationTypeDef', 'ProfessionTypeDef', 'MarialStatusTypeDef',\n",
       "       'DependentsTypeDef', 'AnnualIncomeTypeDef', 'RegisterDateTime',\n",
       "       'RegisterSourceTypeDef', 'ValidFlag', 'MinOrderDate', 'MaxOrderDate',\n",
       "       'IsAppInstalled', 'IsInBlackList', 'MinAppOpenDateTime',\n",
       "       'MaxAppOpenDateTime'],\n",
       "      dtype='object')"
      ]
     },
     "execution_count": 195,
     "metadata": {},
     "output_type": "execute_result"
    }
   ],
   "source": [
    "df_member.columns"
   ]
  },
  {
   "cell_type": "markdown",
   "metadata": {},
   "source": [
    "## DependentsTypeDef is useless"
   ]
  },
  {
   "cell_type": "code",
   "execution_count": 196,
   "metadata": {
    "collapsed": false
   },
   "outputs": [
    {
     "data": {
      "text/plain": [
       "count    0.0\n",
       "mean     NaN\n",
       "std      NaN\n",
       "min      NaN\n",
       "25%      NaN\n",
       "50%      NaN\n",
       "75%      NaN\n",
       "max      NaN\n",
       "Name: DependentsTypeDef, dtype: float64"
      ]
     },
     "execution_count": 196,
     "metadata": {},
     "output_type": "execute_result"
    }
   ],
   "source": [
    "df_member[\"DependentsTypeDef\"].describe()"
   ]
  },
  {
   "cell_type": "code",
   "execution_count": 197,
   "metadata": {
    "collapsed": false
   },
   "outputs": [
    {
     "data": {
      "text/plain": [
       "array([nan])"
      ]
     },
     "execution_count": 197,
     "metadata": {},
     "output_type": "execute_result"
    }
   ],
   "source": [
    "df_member[\"DependentsTypeDef\"].unique()"
   ]
  },
  {
   "cell_type": "markdown",
   "metadata": {},
   "source": [
    "## AnnualIncomeTypeDef data are not enough to analyze"
   ]
  },
  {
   "cell_type": "code",
   "execution_count": 198,
   "metadata": {
    "collapsed": false
   },
   "outputs": [
    {
     "data": {
      "text/plain": [
       "count              9\n",
       "unique             3\n",
       "top       200kOrLess\n",
       "freq               6\n",
       "Name: AnnualIncomeTypeDef, dtype: object"
      ]
     },
     "execution_count": 198,
     "metadata": {},
     "output_type": "execute_result"
    }
   ],
   "source": [
    "df_member[\"AnnualIncomeTypeDef\"].describe()"
   ]
  },
  {
   "cell_type": "code",
   "execution_count": 199,
   "metadata": {
    "collapsed": false
   },
   "outputs": [
    {
     "data": {
      "text/plain": [
       "array([nan, '1MOrMore', '200kOrLess', '400kOrMore'], dtype=object)"
      ]
     },
     "execution_count": 199,
     "metadata": {},
     "output_type": "execute_result"
    }
   ],
   "source": [
    "df_member[\"AnnualIncomeTypeDef\"].unique()"
   ]
  },
  {
   "cell_type": "code",
   "execution_count": 200,
   "metadata": {
    "collapsed": false
   },
   "outputs": [
    {
     "data": {
      "text/plain": [
       "200kOrLess    6\n",
       "1MOrMore      2\n",
       "400kOrMore    1\n",
       "Name: AnnualIncomeTypeDef, dtype: int64"
      ]
     },
     "execution_count": 200,
     "metadata": {},
     "output_type": "execute_result"
    }
   ],
   "source": [
    "df_member[\"AnnualIncomeTypeDef\"].value_counts()"
   ]
  },
  {
   "cell_type": "markdown",
   "metadata": {},
   "source": [
    "## RegisterDateTime"
   ]
  },
  {
   "cell_type": "code",
   "execution_count": 203,
   "metadata": {
    "collapsed": false
   },
   "outputs": [
    {
     "data": {
      "text/plain": [
       "count                      815782\n",
       "unique                     790687\n",
       "top       2015-07-14 16:38:27.753\n",
       "freq                         1771\n",
       "Name: RegisterDateTime, dtype: object"
      ]
     },
     "execution_count": 203,
     "metadata": {},
     "output_type": "execute_result"
    }
   ],
   "source": [
    "df_member.RegisterDateTime.describe()"
   ]
  },
  {
   "cell_type": "code",
   "execution_count": 209,
   "metadata": {
    "collapsed": false
   },
   "outputs": [],
   "source": [
    "df_member.RegisterDateTime = pd.to_datetime(df_member.RegisterDateTime,format = '%Y-%m-%d %H:%M:%S', errors = \"ignore\")"
   ]
  },
  {
   "cell_type": "code",
   "execution_count": 214,
   "metadata": {
    "collapsed": false,
    "scrolled": true
   },
   "outputs": [
    {
     "data": {
      "text/plain": [
       "count                         815782\n",
       "unique                        790687\n",
       "top       2015-07-14 16:38:27.753000\n",
       "freq                            1771\n",
       "first     2015-05-20 23:29:31.137000\n",
       "last      2018-01-09 06:56:03.620000\n",
       "Name: RegisterDateTime, dtype: object"
      ]
     },
     "execution_count": 214,
     "metadata": {},
     "output_type": "execute_result"
    }
   ],
   "source": [
    "df_member.RegisterDateTime.describe()"
   ]
  },
  {
   "cell_type": "markdown",
   "metadata": {},
   "source": [
    "### There are more members register in the 2015 year."
   ]
  },
  {
   "cell_type": "code",
   "execution_count": 216,
   "metadata": {
    "collapsed": false
   },
   "outputs": [
    {
     "data": {
      "text/plain": [
       "<matplotlib.axes._subplots.AxesSubplot at 0x1d18ad6e128>"
      ]
     },
     "execution_count": 216,
     "metadata": {},
     "output_type": "execute_result"
    },
    {
     "data": {
      "image/png": "[encoded data removed]",
      "text/plain": [
       "<matplotlib.figure.Figure at 0x1d18ad5e9b0>"
      ]
     },
     "metadata": {},
     "output_type": "display_data"
    }
   ],
   "source": [
    "df_member.RegisterDateTime.value_counts().plot()"
   ]
  },
  {
   "cell_type": "code",
   "execution_count": 233,
   "metadata": {
    "collapsed": false
   },
   "outputs": [
    {
     "data": {
      "text/plain": [
       "dtype('<M8[ns]')"
      ]
     },
     "execution_count": 233,
     "metadata": {},
     "output_type": "execute_result"
    }
   ],
   "source": [
    "df_member.RegisterDateTime.values.dtype"
   ]
  },
  {
   "cell_type": "code",
   "execution_count": 237,
   "metadata": {
    "collapsed": false,
    "scrolled": true
   },
   "outputs": [
    {
     "data": {
      "text/html": [
       "<div>\n",
       "<style>\n",
       "    .dataframe thead tr:only-child th {\n",
       "        text-align: right;\n",
       "    }\n",
       "\n",
       "    .dataframe thead th {\n",
       "        text-align: left;\n",
       "    }\n",
       "\n",
       "    .dataframe tbody tr th {\n",
       "        vertical-align: top;\n",
       "    }\n",
       "</style>\n",
       "<table border=\"1\" class=\"dataframe\">\n",
       "  <thead>\n",
       "    <tr style=\"text-align: right;\">\n",
       "      <th></th>\n",
       "      <th>ShopId</th>\n",
       "      <th>Recency</th>\n",
       "      <th>Frequency</th>\n",
       "      <th>Monetary</th>\n",
       "      <th>LocationCity</th>\n",
       "      <th>MarialStatusTypeDef</th>\n",
       "      <th>DependentsTypeDef</th>\n",
       "      <th>ValidFlag</th>\n",
       "    </tr>\n",
       "    <tr>\n",
       "      <th>RegisterDateTime</th>\n",
       "      <th></th>\n",
       "      <th></th>\n",
       "      <th></th>\n",
       "      <th></th>\n",
       "      <th></th>\n",
       "      <th></th>\n",
       "      <th></th>\n",
       "      <th></th>\n",
       "    </tr>\n",
       "  </thead>\n",
       "  <tbody>\n",
       "    <tr>\n",
       "      <th>2015-05-20 23:29:31.137</th>\n",
       "      <td>1317</td>\n",
       "      <td>147</td>\n",
       "      <td>2</td>\n",
       "      <td>1633.0</td>\n",
       "      <td>NaN</td>\n",
       "      <td>NaN</td>\n",
       "      <td>NaN</td>\n",
       "      <td>1</td>\n",
       "    </tr>\n",
       "    <tr>\n",
       "      <th>2015-05-21 00:56:37.930</th>\n",
       "      <td>1317</td>\n",
       "      <td>455</td>\n",
       "      <td>3</td>\n",
       "      <td>3099.0</td>\n",
       "      <td>NaN</td>\n",
       "      <td>NaN</td>\n",
       "      <td>NaN</td>\n",
       "      <td>1</td>\n",
       "    </tr>\n",
       "    <tr>\n",
       "      <th>2015-05-21 02:01:44.230</th>\n",
       "      <td>1317</td>\n",
       "      <td>-1</td>\n",
       "      <td>0</td>\n",
       "      <td>0.0</td>\n",
       "      <td>NaN</td>\n",
       "      <td>NaN</td>\n",
       "      <td>NaN</td>\n",
       "      <td>1</td>\n",
       "    </tr>\n",
       "    <tr>\n",
       "      <th>2015-05-21 02:17:36.987</th>\n",
       "      <td>1317</td>\n",
       "      <td>770</td>\n",
       "      <td>2</td>\n",
       "      <td>2952.0</td>\n",
       "      <td>NaN</td>\n",
       "      <td>NaN</td>\n",
       "      <td>NaN</td>\n",
       "      <td>1</td>\n",
       "    </tr>\n",
       "    <tr>\n",
       "      <th>2015-05-21 09:09:29.607</th>\n",
       "      <td>1317</td>\n",
       "      <td>821</td>\n",
       "      <td>2</td>\n",
       "      <td>2062.0</td>\n",
       "      <td>NaN</td>\n",
       "      <td>NaN</td>\n",
       "      <td>NaN</td>\n",
       "      <td>1</td>\n",
       "    </tr>\n",
       "    <tr>\n",
       "      <th>2015-05-21 15:10:21.197</th>\n",
       "      <td>1317</td>\n",
       "      <td>661</td>\n",
       "      <td>1</td>\n",
       "      <td>558.0</td>\n",
       "      <td>NaN</td>\n",
       "      <td>NaN</td>\n",
       "      <td>NaN</td>\n",
       "      <td>1</td>\n",
       "    </tr>\n",
       "    <tr>\n",
       "      <th>2015-05-21 19:32:00.357</th>\n",
       "      <td>1317</td>\n",
       "      <td>-1</td>\n",
       "      <td>0</td>\n",
       "      <td>0.0</td>\n",
       "      <td>NaN</td>\n",
       "      <td>NaN</td>\n",
       "      <td>NaN</td>\n",
       "      <td>1</td>\n",
       "    </tr>\n",
       "    <tr>\n",
       "      <th>2015-05-21 22:51:48.667</th>\n",
       "      <td>1317</td>\n",
       "      <td>289</td>\n",
       "      <td>4</td>\n",
       "      <td>2608.0</td>\n",
       "      <td>NaN</td>\n",
       "      <td>NaN</td>\n",
       "      <td>NaN</td>\n",
       "      <td>1</td>\n",
       "    </tr>\n",
       "    <tr>\n",
       "      <th>2015-05-22 06:43:31.993</th>\n",
       "      <td>1317</td>\n",
       "      <td>307</td>\n",
       "      <td>3</td>\n",
       "      <td>5789.0</td>\n",
       "      <td>NaN</td>\n",
       "      <td>NaN</td>\n",
       "      <td>NaN</td>\n",
       "      <td>1</td>\n",
       "    </tr>\n",
       "    <tr>\n",
       "      <th>2015-05-22 14:34:13.293</th>\n",
       "      <td>1317</td>\n",
       "      <td>146</td>\n",
       "      <td>2</td>\n",
       "      <td>1162.0</td>\n",
       "      <td>NaN</td>\n",
       "      <td>NaN</td>\n",
       "      <td>NaN</td>\n",
       "      <td>1</td>\n",
       "    </tr>\n",
       "    <tr>\n",
       "      <th>2015-05-22 21:19:04.427</th>\n",
       "      <td>1317</td>\n",
       "      <td>-1</td>\n",
       "      <td>0</td>\n",
       "      <td>0.0</td>\n",
       "      <td>NaN</td>\n",
       "      <td>NaN</td>\n",
       "      <td>NaN</td>\n",
       "      <td>1</td>\n",
       "    </tr>\n",
       "    <tr>\n",
       "      <th>2015-05-23 11:42:00.330</th>\n",
       "      <td>1317</td>\n",
       "      <td>65</td>\n",
       "      <td>13</td>\n",
       "      <td>10313.0</td>\n",
       "      <td>NaN</td>\n",
       "      <td>NaN</td>\n",
       "      <td>NaN</td>\n",
       "      <td>1</td>\n",
       "    </tr>\n",
       "    <tr>\n",
       "      <th>2015-05-23 16:47:50.390</th>\n",
       "      <td>1317</td>\n",
       "      <td>-1</td>\n",
       "      <td>0</td>\n",
       "      <td>0.0</td>\n",
       "      <td>NaN</td>\n",
       "      <td>NaN</td>\n",
       "      <td>NaN</td>\n",
       "      <td>1</td>\n",
       "    </tr>\n",
       "    <tr>\n",
       "      <th>2015-05-23 20:43:34.100</th>\n",
       "      <td>1317</td>\n",
       "      <td>-1</td>\n",
       "      <td>0</td>\n",
       "      <td>0.0</td>\n",
       "      <td>NaN</td>\n",
       "      <td>NaN</td>\n",
       "      <td>NaN</td>\n",
       "      <td>1</td>\n",
       "    </tr>\n",
       "    <tr>\n",
       "      <th>2015-05-23 23:45:07.663</th>\n",
       "      <td>1317</td>\n",
       "      <td>-1</td>\n",
       "      <td>0</td>\n",
       "      <td>0.0</td>\n",
       "      <td>NaN</td>\n",
       "      <td>NaN</td>\n",
       "      <td>NaN</td>\n",
       "      <td>1</td>\n",
       "    </tr>\n",
       "    <tr>\n",
       "      <th>2015-05-24 03:35:56.480</th>\n",
       "      <td>1317</td>\n",
       "      <td>956</td>\n",
       "      <td>2</td>\n",
       "      <td>2672.0</td>\n",
       "      <td>NaN</td>\n",
       "      <td>NaN</td>\n",
       "      <td>NaN</td>\n",
       "      <td>1</td>\n",
       "    </tr>\n",
       "    <tr>\n",
       "      <th>2015-05-24 07:03:34.730</th>\n",
       "      <td>1317</td>\n",
       "      <td>960</td>\n",
       "      <td>1</td>\n",
       "      <td>299.0</td>\n",
       "      <td>NaN</td>\n",
       "      <td>NaN</td>\n",
       "      <td>NaN</td>\n",
       "      <td>1</td>\n",
       "    </tr>\n",
       "    <tr>\n",
       "      <th>2015-05-24 11:14:45.383</th>\n",
       "      <td>1317</td>\n",
       "      <td>272</td>\n",
       "      <td>5</td>\n",
       "      <td>2482.0</td>\n",
       "      <td>NaN</td>\n",
       "      <td>NaN</td>\n",
       "      <td>NaN</td>\n",
       "      <td>1</td>\n",
       "    </tr>\n",
       "    <tr>\n",
       "      <th>2015-05-24 11:48:35.900</th>\n",
       "      <td>1317</td>\n",
       "      <td>376</td>\n",
       "      <td>4</td>\n",
       "      <td>1993.0</td>\n",
       "      <td>NaN</td>\n",
       "      <td>NaN</td>\n",
       "      <td>NaN</td>\n",
       "      <td>1</td>\n",
       "    </tr>\n",
       "    <tr>\n",
       "      <th>2015-05-24 11:59:16.787</th>\n",
       "      <td>1317</td>\n",
       "      <td>435</td>\n",
       "      <td>5</td>\n",
       "      <td>1804.0</td>\n",
       "      <td>NaN</td>\n",
       "      <td>NaN</td>\n",
       "      <td>NaN</td>\n",
       "      <td>1</td>\n",
       "    </tr>\n",
       "    <tr>\n",
       "      <th>2015-05-24 12:31:04.363</th>\n",
       "      <td>1317</td>\n",
       "      <td>546</td>\n",
       "      <td>7</td>\n",
       "      <td>3911.0</td>\n",
       "      <td>NaN</td>\n",
       "      <td>NaN</td>\n",
       "      <td>NaN</td>\n",
       "      <td>1</td>\n",
       "    </tr>\n",
       "    <tr>\n",
       "      <th>2015-05-24 17:12:33.667</th>\n",
       "      <td>1317</td>\n",
       "      <td>960</td>\n",
       "      <td>1</td>\n",
       "      <td>1046.0</td>\n",
       "      <td>NaN</td>\n",
       "      <td>NaN</td>\n",
       "      <td>NaN</td>\n",
       "      <td>1</td>\n",
       "    </tr>\n",
       "    <tr>\n",
       "      <th>2015-05-24 21:32:13.207</th>\n",
       "      <td>1317</td>\n",
       "      <td>967</td>\n",
       "      <td>1</td>\n",
       "      <td>1283.0</td>\n",
       "      <td>NaN</td>\n",
       "      <td>NaN</td>\n",
       "      <td>NaN</td>\n",
       "      <td>1</td>\n",
       "    </tr>\n",
       "    <tr>\n",
       "      <th>2015-05-25 17:53:37.693</th>\n",
       "      <td>1317</td>\n",
       "      <td>770</td>\n",
       "      <td>3</td>\n",
       "      <td>2334.0</td>\n",
       "      <td>NaN</td>\n",
       "      <td>NaN</td>\n",
       "      <td>NaN</td>\n",
       "      <td>1</td>\n",
       "    </tr>\n",
       "    <tr>\n",
       "      <th>2015-05-25 21:35:51.100</th>\n",
       "      <td>1317</td>\n",
       "      <td>953</td>\n",
       "      <td>2</td>\n",
       "      <td>1860.0</td>\n",
       "      <td>NaN</td>\n",
       "      <td>NaN</td>\n",
       "      <td>NaN</td>\n",
       "      <td>1</td>\n",
       "    </tr>\n",
       "    <tr>\n",
       "      <th>2015-05-25 22:48:05.757</th>\n",
       "      <td>1317</td>\n",
       "      <td>960</td>\n",
       "      <td>1</td>\n",
       "      <td>1338.0</td>\n",
       "      <td>NaN</td>\n",
       "      <td>NaN</td>\n",
       "      <td>NaN</td>\n",
       "      <td>1</td>\n",
       "    </tr>\n",
       "    <tr>\n",
       "      <th>2015-05-26 00:46:25.273</th>\n",
       "      <td>1317</td>\n",
       "      <td>39</td>\n",
       "      <td>2</td>\n",
       "      <td>1455.0</td>\n",
       "      <td>NaN</td>\n",
       "      <td>NaN</td>\n",
       "      <td>NaN</td>\n",
       "      <td>1</td>\n",
       "    </tr>\n",
       "    <tr>\n",
       "      <th>2015-05-26 01:02:50.843</th>\n",
       "      <td>1317</td>\n",
       "      <td>959</td>\n",
       "      <td>1</td>\n",
       "      <td>1048.0</td>\n",
       "      <td>NaN</td>\n",
       "      <td>NaN</td>\n",
       "      <td>NaN</td>\n",
       "      <td>1</td>\n",
       "    </tr>\n",
       "    <tr>\n",
       "      <th>2015-05-26 03:03:17.267</th>\n",
       "      <td>1317</td>\n",
       "      <td>259</td>\n",
       "      <td>10</td>\n",
       "      <td>7205.0</td>\n",
       "      <td>NaN</td>\n",
       "      <td>NaN</td>\n",
       "      <td>NaN</td>\n",
       "      <td>1</td>\n",
       "    </tr>\n",
       "    <tr>\n",
       "      <th>2015-05-26 12:29:24.430</th>\n",
       "      <td>1317</td>\n",
       "      <td>-1</td>\n",
       "      <td>0</td>\n",
       "      <td>0.0</td>\n",
       "      <td>NaN</td>\n",
       "      <td>NaN</td>\n",
       "      <td>NaN</td>\n",
       "      <td>1</td>\n",
       "    </tr>\n",
       "    <tr>\n",
       "      <th>...</th>\n",
       "      <td>...</td>\n",
       "      <td>...</td>\n",
       "      <td>...</td>\n",
       "      <td>...</td>\n",
       "      <td>...</td>\n",
       "      <td>...</td>\n",
       "      <td>...</td>\n",
       "      <td>...</td>\n",
       "    </tr>\n",
       "    <tr>\n",
       "      <th>2018-01-09 01:46:44.860</th>\n",
       "      <td>1317</td>\n",
       "      <td>-1</td>\n",
       "      <td>0</td>\n",
       "      <td>0.0</td>\n",
       "      <td>NaN</td>\n",
       "      <td>NaN</td>\n",
       "      <td>NaN</td>\n",
       "      <td>1</td>\n",
       "    </tr>\n",
       "    <tr>\n",
       "      <th>2018-01-09 01:49:10.240</th>\n",
       "      <td>1317</td>\n",
       "      <td>-1</td>\n",
       "      <td>0</td>\n",
       "      <td>0.0</td>\n",
       "      <td>NaN</td>\n",
       "      <td>NaN</td>\n",
       "      <td>NaN</td>\n",
       "      <td>1</td>\n",
       "    </tr>\n",
       "    <tr>\n",
       "      <th>2018-01-09 01:57:11.130</th>\n",
       "      <td>1317</td>\n",
       "      <td>-1</td>\n",
       "      <td>0</td>\n",
       "      <td>0.0</td>\n",
       "      <td>NaN</td>\n",
       "      <td>NaN</td>\n",
       "      <td>NaN</td>\n",
       "      <td>1</td>\n",
       "    </tr>\n",
       "    <tr>\n",
       "      <th>2018-01-09 01:59:30.957</th>\n",
       "      <td>1317</td>\n",
       "      <td>-1</td>\n",
       "      <td>0</td>\n",
       "      <td>0.0</td>\n",
       "      <td>NaN</td>\n",
       "      <td>NaN</td>\n",
       "      <td>NaN</td>\n",
       "      <td>1</td>\n",
       "    </tr>\n",
       "    <tr>\n",
       "      <th>2018-01-09 02:10:03.213</th>\n",
       "      <td>1317</td>\n",
       "      <td>-1</td>\n",
       "      <td>0</td>\n",
       "      <td>0.0</td>\n",
       "      <td>NaN</td>\n",
       "      <td>NaN</td>\n",
       "      <td>NaN</td>\n",
       "      <td>1</td>\n",
       "    </tr>\n",
       "    <tr>\n",
       "      <th>2018-01-09 02:24:07.733</th>\n",
       "      <td>1317</td>\n",
       "      <td>-1</td>\n",
       "      <td>0</td>\n",
       "      <td>0.0</td>\n",
       "      <td>NaN</td>\n",
       "      <td>NaN</td>\n",
       "      <td>NaN</td>\n",
       "      <td>1</td>\n",
       "    </tr>\n",
       "    <tr>\n",
       "      <th>2018-01-09 02:37:50.537</th>\n",
       "      <td>1317</td>\n",
       "      <td>-1</td>\n",
       "      <td>0</td>\n",
       "      <td>0.0</td>\n",
       "      <td>NaN</td>\n",
       "      <td>NaN</td>\n",
       "      <td>NaN</td>\n",
       "      <td>1</td>\n",
       "    </tr>\n",
       "    <tr>\n",
       "      <th>2018-01-09 02:38:23.017</th>\n",
       "      <td>1317</td>\n",
       "      <td>-1</td>\n",
       "      <td>0</td>\n",
       "      <td>0.0</td>\n",
       "      <td>NaN</td>\n",
       "      <td>NaN</td>\n",
       "      <td>NaN</td>\n",
       "      <td>1</td>\n",
       "    </tr>\n",
       "    <tr>\n",
       "      <th>2018-01-09 02:39:11.713</th>\n",
       "      <td>1317</td>\n",
       "      <td>-1</td>\n",
       "      <td>0</td>\n",
       "      <td>0.0</td>\n",
       "      <td>NaN</td>\n",
       "      <td>NaN</td>\n",
       "      <td>NaN</td>\n",
       "      <td>1</td>\n",
       "    </tr>\n",
       "    <tr>\n",
       "      <th>2018-01-09 02:42:40.473</th>\n",
       "      <td>1317</td>\n",
       "      <td>-1</td>\n",
       "      <td>0</td>\n",
       "      <td>0.0</td>\n",
       "      <td>NaN</td>\n",
       "      <td>NaN</td>\n",
       "      <td>NaN</td>\n",
       "      <td>1</td>\n",
       "    </tr>\n",
       "    <tr>\n",
       "      <th>2018-01-09 02:50:32.753</th>\n",
       "      <td>1317</td>\n",
       "      <td>-1</td>\n",
       "      <td>0</td>\n",
       "      <td>0.0</td>\n",
       "      <td>NaN</td>\n",
       "      <td>NaN</td>\n",
       "      <td>NaN</td>\n",
       "      <td>1</td>\n",
       "    </tr>\n",
       "    <tr>\n",
       "      <th>2018-01-09 03:03:26.737</th>\n",
       "      <td>1317</td>\n",
       "      <td>-1</td>\n",
       "      <td>0</td>\n",
       "      <td>0.0</td>\n",
       "      <td>NaN</td>\n",
       "      <td>NaN</td>\n",
       "      <td>NaN</td>\n",
       "      <td>1</td>\n",
       "    </tr>\n",
       "    <tr>\n",
       "      <th>2018-01-09 03:10:04.813</th>\n",
       "      <td>1317</td>\n",
       "      <td>-1</td>\n",
       "      <td>0</td>\n",
       "      <td>0.0</td>\n",
       "      <td>NaN</td>\n",
       "      <td>NaN</td>\n",
       "      <td>NaN</td>\n",
       "      <td>1</td>\n",
       "    </tr>\n",
       "    <tr>\n",
       "      <th>2018-01-09 03:33:12.957</th>\n",
       "      <td>1317</td>\n",
       "      <td>-1</td>\n",
       "      <td>0</td>\n",
       "      <td>0.0</td>\n",
       "      <td>NaN</td>\n",
       "      <td>NaN</td>\n",
       "      <td>NaN</td>\n",
       "      <td>1</td>\n",
       "    </tr>\n",
       "    <tr>\n",
       "      <th>2018-01-09 03:49:35.580</th>\n",
       "      <td>1317</td>\n",
       "      <td>-1</td>\n",
       "      <td>0</td>\n",
       "      <td>0.0</td>\n",
       "      <td>NaN</td>\n",
       "      <td>NaN</td>\n",
       "      <td>NaN</td>\n",
       "      <td>1</td>\n",
       "    </tr>\n",
       "    <tr>\n",
       "      <th>2018-01-09 03:59:17.087</th>\n",
       "      <td>1317</td>\n",
       "      <td>-1</td>\n",
       "      <td>0</td>\n",
       "      <td>0.0</td>\n",
       "      <td>NaN</td>\n",
       "      <td>NaN</td>\n",
       "      <td>NaN</td>\n",
       "      <td>1</td>\n",
       "    </tr>\n",
       "    <tr>\n",
       "      <th>2018-01-09 03:59:46.383</th>\n",
       "      <td>1317</td>\n",
       "      <td>-1</td>\n",
       "      <td>0</td>\n",
       "      <td>0.0</td>\n",
       "      <td>NaN</td>\n",
       "      <td>NaN</td>\n",
       "      <td>NaN</td>\n",
       "      <td>1</td>\n",
       "    </tr>\n",
       "    <tr>\n",
       "      <th>2018-01-09 04:30:37.263</th>\n",
       "      <td>1317</td>\n",
       "      <td>-1</td>\n",
       "      <td>0</td>\n",
       "      <td>0.0</td>\n",
       "      <td>NaN</td>\n",
       "      <td>NaN</td>\n",
       "      <td>NaN</td>\n",
       "      <td>1</td>\n",
       "    </tr>\n",
       "    <tr>\n",
       "      <th>2018-01-09 04:40:07.503</th>\n",
       "      <td>1317</td>\n",
       "      <td>-1</td>\n",
       "      <td>0</td>\n",
       "      <td>0.0</td>\n",
       "      <td>NaN</td>\n",
       "      <td>NaN</td>\n",
       "      <td>NaN</td>\n",
       "      <td>1</td>\n",
       "    </tr>\n",
       "    <tr>\n",
       "      <th>2018-01-09 04:44:25.100</th>\n",
       "      <td>1317</td>\n",
       "      <td>-1</td>\n",
       "      <td>0</td>\n",
       "      <td>0.0</td>\n",
       "      <td>NaN</td>\n",
       "      <td>NaN</td>\n",
       "      <td>NaN</td>\n",
       "      <td>1</td>\n",
       "    </tr>\n",
       "    <tr>\n",
       "      <th>2018-01-09 04:47:16.317</th>\n",
       "      <td>1317</td>\n",
       "      <td>-1</td>\n",
       "      <td>0</td>\n",
       "      <td>0.0</td>\n",
       "      <td>NaN</td>\n",
       "      <td>NaN</td>\n",
       "      <td>NaN</td>\n",
       "      <td>1</td>\n",
       "    </tr>\n",
       "    <tr>\n",
       "      <th>2018-01-09 05:06:47.117</th>\n",
       "      <td>1317</td>\n",
       "      <td>-1</td>\n",
       "      <td>0</td>\n",
       "      <td>0.0</td>\n",
       "      <td>NaN</td>\n",
       "      <td>NaN</td>\n",
       "      <td>NaN</td>\n",
       "      <td>1</td>\n",
       "    </tr>\n",
       "    <tr>\n",
       "      <th>2018-01-09 05:46:39.063</th>\n",
       "      <td>1317</td>\n",
       "      <td>-1</td>\n",
       "      <td>0</td>\n",
       "      <td>0.0</td>\n",
       "      <td>NaN</td>\n",
       "      <td>NaN</td>\n",
       "      <td>NaN</td>\n",
       "      <td>1</td>\n",
       "    </tr>\n",
       "    <tr>\n",
       "      <th>2018-01-09 06:08:19.277</th>\n",
       "      <td>1317</td>\n",
       "      <td>-1</td>\n",
       "      <td>0</td>\n",
       "      <td>0.0</td>\n",
       "      <td>NaN</td>\n",
       "      <td>NaN</td>\n",
       "      <td>NaN</td>\n",
       "      <td>1</td>\n",
       "    </tr>\n",
       "    <tr>\n",
       "      <th>2018-01-09 06:08:55.837</th>\n",
       "      <td>1317</td>\n",
       "      <td>-1</td>\n",
       "      <td>0</td>\n",
       "      <td>0.0</td>\n",
       "      <td>NaN</td>\n",
       "      <td>NaN</td>\n",
       "      <td>NaN</td>\n",
       "      <td>1</td>\n",
       "    </tr>\n",
       "    <tr>\n",
       "      <th>2018-01-09 06:12:18.267</th>\n",
       "      <td>1317</td>\n",
       "      <td>-1</td>\n",
       "      <td>0</td>\n",
       "      <td>0.0</td>\n",
       "      <td>NaN</td>\n",
       "      <td>NaN</td>\n",
       "      <td>NaN</td>\n",
       "      <td>1</td>\n",
       "    </tr>\n",
       "    <tr>\n",
       "      <th>2018-01-09 06:27:02.947</th>\n",
       "      <td>1317</td>\n",
       "      <td>-1</td>\n",
       "      <td>0</td>\n",
       "      <td>0.0</td>\n",
       "      <td>NaN</td>\n",
       "      <td>NaN</td>\n",
       "      <td>NaN</td>\n",
       "      <td>1</td>\n",
       "    </tr>\n",
       "    <tr>\n",
       "      <th>2018-01-09 06:38:40.263</th>\n",
       "      <td>1317</td>\n",
       "      <td>-1</td>\n",
       "      <td>0</td>\n",
       "      <td>0.0</td>\n",
       "      <td>NaN</td>\n",
       "      <td>NaN</td>\n",
       "      <td>NaN</td>\n",
       "      <td>1</td>\n",
       "    </tr>\n",
       "    <tr>\n",
       "      <th>2018-01-09 06:53:24.257</th>\n",
       "      <td>1317</td>\n",
       "      <td>-1</td>\n",
       "      <td>0</td>\n",
       "      <td>0.0</td>\n",
       "      <td>NaN</td>\n",
       "      <td>NaN</td>\n",
       "      <td>NaN</td>\n",
       "      <td>1</td>\n",
       "    </tr>\n",
       "    <tr>\n",
       "      <th>2018-01-09 06:56:03.620</th>\n",
       "      <td>1317</td>\n",
       "      <td>-1</td>\n",
       "      <td>0</td>\n",
       "      <td>0.0</td>\n",
       "      <td>NaN</td>\n",
       "      <td>NaN</td>\n",
       "      <td>NaN</td>\n",
       "      <td>1</td>\n",
       "    </tr>\n",
       "  </tbody>\n",
       "</table>\n",
       "<p>790687 rows × 8 columns</p>\n",
       "</div>"
      ],
      "text/plain": [
       "                         ShopId  Recency  Frequency  Monetary  LocationCity  \\\n",
       "RegisterDateTime                                                              \n",
       "2015-05-20 23:29:31.137    1317      147          2    1633.0           NaN   \n",
       "2015-05-21 00:56:37.930    1317      455          3    3099.0           NaN   \n",
       "2015-05-21 02:01:44.230    1317       -1          0       0.0           NaN   \n",
       "2015-05-21 02:17:36.987    1317      770          2    2952.0           NaN   \n",
       "2015-05-21 09:09:29.607    1317      821          2    2062.0           NaN   \n",
       "2015-05-21 15:10:21.197    1317      661          1     558.0           NaN   \n",
       "2015-05-21 19:32:00.357    1317       -1          0       0.0           NaN   \n",
       "2015-05-21 22:51:48.667    1317      289          4    2608.0           NaN   \n",
       "2015-05-22 06:43:31.993    1317      307          3    5789.0           NaN   \n",
       "2015-05-22 14:34:13.293    1317      146          2    1162.0           NaN   \n",
       "2015-05-22 21:19:04.427    1317       -1          0       0.0           NaN   \n",
       "2015-05-23 11:42:00.330    1317       65         13   10313.0           NaN   \n",
       "2015-05-23 16:47:50.390    1317       -1          0       0.0           NaN   \n",
       "2015-05-23 20:43:34.100    1317       -1          0       0.0           NaN   \n",
       "2015-05-23 23:45:07.663    1317       -1          0       0.0           NaN   \n",
       "2015-05-24 03:35:56.480    1317      956          2    2672.0           NaN   \n",
       "2015-05-24 07:03:34.730    1317      960          1     299.0           NaN   \n",
       "2015-05-24 11:14:45.383    1317      272          5    2482.0           NaN   \n",
       "2015-05-24 11:48:35.900    1317      376          4    1993.0           NaN   \n",
       "2015-05-24 11:59:16.787    1317      435          5    1804.0           NaN   \n",
       "2015-05-24 12:31:04.363    1317      546          7    3911.0           NaN   \n",
       "2015-05-24 17:12:33.667    1317      960          1    1046.0           NaN   \n",
       "2015-05-24 21:32:13.207    1317      967          1    1283.0           NaN   \n",
       "2015-05-25 17:53:37.693    1317      770          3    2334.0           NaN   \n",
       "2015-05-25 21:35:51.100    1317      953          2    1860.0           NaN   \n",
       "2015-05-25 22:48:05.757    1317      960          1    1338.0           NaN   \n",
       "2015-05-26 00:46:25.273    1317       39          2    1455.0           NaN   \n",
       "2015-05-26 01:02:50.843    1317      959          1    1048.0           NaN   \n",
       "2015-05-26 03:03:17.267    1317      259         10    7205.0           NaN   \n",
       "2015-05-26 12:29:24.430    1317       -1          0       0.0           NaN   \n",
       "...                         ...      ...        ...       ...           ...   \n",
       "2018-01-09 01:46:44.860    1317       -1          0       0.0           NaN   \n",
       "2018-01-09 01:49:10.240    1317       -1          0       0.0           NaN   \n",
       "2018-01-09 01:57:11.130    1317       -1          0       0.0           NaN   \n",
       "2018-01-09 01:59:30.957    1317       -1          0       0.0           NaN   \n",
       "2018-01-09 02:10:03.213    1317       -1          0       0.0           NaN   \n",
       "2018-01-09 02:24:07.733    1317       -1          0       0.0           NaN   \n",
       "2018-01-09 02:37:50.537    1317       -1          0       0.0           NaN   \n",
       "2018-01-09 02:38:23.017    1317       -1          0       0.0           NaN   \n",
       "2018-01-09 02:39:11.713    1317       -1          0       0.0           NaN   \n",
       "2018-01-09 02:42:40.473    1317       -1          0       0.0           NaN   \n",
       "2018-01-09 02:50:32.753    1317       -1          0       0.0           NaN   \n",
       "2018-01-09 03:03:26.737    1317       -1          0       0.0           NaN   \n",
       "2018-01-09 03:10:04.813    1317       -1          0       0.0           NaN   \n",
       "2018-01-09 03:33:12.957    1317       -1          0       0.0           NaN   \n",
       "2018-01-09 03:49:35.580    1317       -1          0       0.0           NaN   \n",
       "2018-01-09 03:59:17.087    1317       -1          0       0.0           NaN   \n",
       "2018-01-09 03:59:46.383    1317       -1          0       0.0           NaN   \n",
       "2018-01-09 04:30:37.263    1317       -1          0       0.0           NaN   \n",
       "2018-01-09 04:40:07.503    1317       -1          0       0.0           NaN   \n",
       "2018-01-09 04:44:25.100    1317       -1          0       0.0           NaN   \n",
       "2018-01-09 04:47:16.317    1317       -1          0       0.0           NaN   \n",
       "2018-01-09 05:06:47.117    1317       -1          0       0.0           NaN   \n",
       "2018-01-09 05:46:39.063    1317       -1          0       0.0           NaN   \n",
       "2018-01-09 06:08:19.277    1317       -1          0       0.0           NaN   \n",
       "2018-01-09 06:08:55.837    1317       -1          0       0.0           NaN   \n",
       "2018-01-09 06:12:18.267    1317       -1          0       0.0           NaN   \n",
       "2018-01-09 06:27:02.947    1317       -1          0       0.0           NaN   \n",
       "2018-01-09 06:38:40.263    1317       -1          0       0.0           NaN   \n",
       "2018-01-09 06:53:24.257    1317       -1          0       0.0           NaN   \n",
       "2018-01-09 06:56:03.620    1317       -1          0       0.0           NaN   \n",
       "\n",
       "                         MarialStatusTypeDef  DependentsTypeDef  ValidFlag  \n",
       "RegisterDateTime                                                            \n",
       "2015-05-20 23:29:31.137                  NaN                NaN          1  \n",
       "2015-05-21 00:56:37.930                  NaN                NaN          1  \n",
       "2015-05-21 02:01:44.230                  NaN                NaN          1  \n",
       "2015-05-21 02:17:36.987                  NaN                NaN          1  \n",
       "2015-05-21 09:09:29.607                  NaN                NaN          1  \n",
       "2015-05-21 15:10:21.197                  NaN                NaN          1  \n",
       "2015-05-21 19:32:00.357                  NaN                NaN          1  \n",
       "2015-05-21 22:51:48.667                  NaN                NaN          1  \n",
       "2015-05-22 06:43:31.993                  NaN                NaN          1  \n",
       "2015-05-22 14:34:13.293                  NaN                NaN          1  \n",
       "2015-05-22 21:19:04.427                  NaN                NaN          1  \n",
       "2015-05-23 11:42:00.330                  NaN                NaN          1  \n",
       "2015-05-23 16:47:50.390                  NaN                NaN          1  \n",
       "2015-05-23 20:43:34.100                  NaN                NaN          1  \n",
       "2015-05-23 23:45:07.663                  NaN                NaN          1  \n",
       "2015-05-24 03:35:56.480                  NaN                NaN          1  \n",
       "2015-05-24 07:03:34.730                  NaN                NaN          1  \n",
       "2015-05-24 11:14:45.383                  NaN                NaN          1  \n",
       "2015-05-24 11:48:35.900                  NaN                NaN          1  \n",
       "2015-05-24 11:59:16.787                  NaN                NaN          1  \n",
       "2015-05-24 12:31:04.363                  NaN                NaN          1  \n",
       "2015-05-24 17:12:33.667                  NaN                NaN          1  \n",
       "2015-05-24 21:32:13.207                  NaN                NaN          1  \n",
       "2015-05-25 17:53:37.693                  NaN                NaN          1  \n",
       "2015-05-25 21:35:51.100                  NaN                NaN          1  \n",
       "2015-05-25 22:48:05.757                  NaN                NaN          1  \n",
       "2015-05-26 00:46:25.273                  NaN                NaN          1  \n",
       "2015-05-26 01:02:50.843                  NaN                NaN          1  \n",
       "2015-05-26 03:03:17.267                  NaN                NaN          1  \n",
       "2015-05-26 12:29:24.430                  NaN                NaN          1  \n",
       "...                                      ...                ...        ...  \n",
       "2018-01-09 01:46:44.860                  NaN                NaN          1  \n",
       "2018-01-09 01:49:10.240                  NaN                NaN          1  \n",
       "2018-01-09 01:57:11.130                  NaN                NaN          1  \n",
       "2018-01-09 01:59:30.957                  NaN                NaN          1  \n",
       "2018-01-09 02:10:03.213                  NaN                NaN          1  \n",
       "2018-01-09 02:24:07.733                  NaN                NaN          1  \n",
       "2018-01-09 02:37:50.537                  NaN                NaN          1  \n",
       "2018-01-09 02:38:23.017                  NaN                NaN          1  \n",
       "2018-01-09 02:39:11.713                  NaN                NaN          1  \n",
       "2018-01-09 02:42:40.473                  NaN                NaN          1  \n",
       "2018-01-09 02:50:32.753                  NaN                NaN          1  \n",
       "2018-01-09 03:03:26.737                  NaN                NaN          1  \n",
       "2018-01-09 03:10:04.813                  NaN                NaN          1  \n",
       "2018-01-09 03:33:12.957                  NaN                NaN          1  \n",
       "2018-01-09 03:49:35.580                  NaN                NaN          1  \n",
       "2018-01-09 03:59:17.087                  NaN                NaN          1  \n",
       "2018-01-09 03:59:46.383                  NaN                NaN          1  \n",
       "2018-01-09 04:30:37.263                  NaN                NaN          1  \n",
       "2018-01-09 04:40:07.503                  NaN                NaN          1  \n",
       "2018-01-09 04:44:25.100                  NaN                NaN          1  \n",
       "2018-01-09 04:47:16.317                  NaN                NaN          1  \n",
       "2018-01-09 05:06:47.117                  NaN                NaN          1  \n",
       "2018-01-09 05:46:39.063                  NaN                NaN          1  \n",
       "2018-01-09 06:08:19.277                  NaN                NaN          1  \n",
       "2018-01-09 06:08:55.837                  NaN                NaN          1  \n",
       "2018-01-09 06:12:18.267                  NaN                NaN          1  \n",
       "2018-01-09 06:27:02.947                  NaN                NaN          1  \n",
       "2018-01-09 06:38:40.263                  NaN                NaN          1  \n",
       "2018-01-09 06:53:24.257                  NaN                NaN          1  \n",
       "2018-01-09 06:56:03.620                  NaN                NaN          1  \n",
       "\n",
       "[790687 rows x 8 columns]"
      ]
     },
     "execution_count": 237,
     "metadata": {},
     "output_type": "execute_result"
    }
   ],
   "source": [
    "df_memberRDT = df_member['RegisterDateTime'].v"
   ]
  },
  {
   "cell_type": "code",
   "execution_count": 252,
   "metadata": {
    "collapsed": false
   },
   "outputs": [
    {
     "data": {
      "text/plain": [
       "<matplotlib.axes._subplots.AxesSubplot at 0x1d1a96efa20>"
      ]
     },
     "execution_count": 252,
     "metadata": {},
     "output_type": "execute_result"
    },
    {
     "data": {
      "image/png": "[encoded data removed]",
      "text/plain": [
       "<matplotlib.figure.Figure at 0x1d191ac4278>"
      ]
     },
     "metadata": {},
     "output_type": "display_data"
    }
   ],
   "source": [
    "df_member['RDTy'] = df_member['RegisterDateTime'].map(lambda x: x.year)\n",
    "df_member.groupby(by=['RDTy']).sum().plot(y=\"ValidFlag\")"
   ]
  },
  {
   "cell_type": "code",
   "execution_count": 253,
   "metadata": {
    "collapsed": false,
    "scrolled": true
   },
   "outputs": [
    {
     "data": {
      "text/plain": [
       "<matplotlib.axes._subplots.AxesSubplot at 0x1d1ab524cc0>"
      ]
     },
     "execution_count": 253,
     "metadata": {},
     "output_type": "execute_result"
    },
    {
     "data": {
      "image/png": "[encoded data removed]",
      "text/plain": [
       "<matplotlib.figure.Figure at 0x1d1a960df60>"
      ]
     },
     "metadata": {},
     "output_type": "display_data"
    }
   ],
   "source": [
    "df_member['RDTm'] = df_member['RegisterDateTime'].map(lambda x: x.month)\n",
    "df_member.groupby(by=['RDTm']).sum().plot(y=\"ValidFlag\")"
   ]
  },
  {
   "cell_type": "markdown",
   "metadata": {},
   "source": [
    "## There are more member register (for shopping) when they just get salary?"
   ]
  },
  {
   "cell_type": "code",
   "execution_count": 254,
   "metadata": {
    "collapsed": false
   },
   "outputs": [
    {
     "data": {
      "text/plain": [
       "<matplotlib.axes._subplots.AxesSubplot at 0x1d16e05d5f8>"
      ]
     },
     "execution_count": 254,
     "metadata": {},
     "output_type": "execute_result"
    },
    {
     "data": {
      "image/png": "[encoded data removed]",
      "text/plain": [
       "<matplotlib.figure.Figure at 0x1d1ab543fd0>"
      ]
     },
     "metadata": {},
     "output_type": "display_data"
    }
   ],
   "source": [
    "df_member['RDTd'] = df_member['RegisterDateTime'].map(lambda x: x.day)\n",
    "df_member.groupby(by=['RDTd']).sum().plot(y=\"ValidFlag\")"
   ]
  },
  {
   "cell_type": "code",
   "execution_count": 257,
   "metadata": {
    "collapsed": false,
    "scrolled": true
   },
   "outputs": [
    {
     "data": {
      "text/plain": [
       "<matplotlib.axes._subplots.AxesSubplot at 0x1d16e0c3588>"
      ]
     },
     "execution_count": 257,
     "metadata": {},
     "output_type": "execute_result"
    },
    {
     "data": {
      "image/png": "[encoded data removed]",
      "text/plain": [
       "<matplotlib.figure.Figure at 0x1d16e0e5358>"
      ]
     },
     "metadata": {},
     "output_type": "display_data"
    }
   ],
   "source": [
    "df_member.groupby(by=['RDTy','RDTm']).sum().plot(y=\"ValidFlag\")"
   ]
  },
  {
   "cell_type": "markdown",
   "metadata": {},
   "source": [
    "## There are more member register in july -> Student?"
   ]
  },
  {
   "cell_type": "code",
   "execution_count": 258,
   "metadata": {
    "collapsed": false
   },
   "outputs": [
    {
     "data": {
      "text/plain": [
       "<matplotlib.axes._subplots.AxesSubplot at 0x1d16e1537b8>"
      ]
     },
     "execution_count": 258,
     "metadata": {},
     "output_type": "execute_result"
    },
    {
     "data": {
      "image/png": "[encoded data removed]",
      "text/plain": [
       "<matplotlib.figure.Figure at 0x1d16e1666a0>"
      ]
     },
     "metadata": {},
     "output_type": "display_data"
    }
   ],
   "source": [
    "df_member.groupby(by=['RDTm','RDTd']).sum().plot(y=\"ValidFlag\")"
   ]
  },
  {
   "cell_type": "code",
   "execution_count": 262,
   "metadata": {
    "collapsed": false
   },
   "outputs": [
    {
     "data": {
      "text/plain": [
       "ServiceIndustry           6883\n",
       "Student                   5962\n",
       "ManufacturerOrSupplier    1823\n",
       "Housekeeper               1636\n",
       "Medical                   1010\n",
       "Name: ProfessionTypeDef, dtype: int64"
      ]
     },
     "execution_count": 262,
     "metadata": {},
     "output_type": "execute_result"
    }
   ],
   "source": [
    "df_member.query(\"RDTm == 7\").ProfessionTypeDef.value_counts().head()"
   ]
  },
  {
   "cell_type": "code",
   "execution_count": 263,
   "metadata": {
    "collapsed": false
   },
   "outputs": [
    {
     "data": {
      "text/plain": [
       "Index(['ShopId', 'MemberId', 'Recency', 'Frequency', 'Monetary', 'Birthday',\n",
       "       'GenderTypeDef', 'LocationCity', 'LocationState', 'LocationCountry',\n",
       "       'EducationTypeDef', 'ProfessionTypeDef', 'MarialStatusTypeDef',\n",
       "       'DependentsTypeDef', 'AnnualIncomeTypeDef', 'RegisterDateTime',\n",
       "       'RegisterSourceTypeDef', 'ValidFlag', 'MinOrderDate', 'MaxOrderDate',\n",
       "       'IsAppInstalled', 'IsInBlackList', 'MinAppOpenDateTime',\n",
       "       'MaxAppOpenDateTime', 'RDTy', 'RDTm', 'RDTd'],\n",
       "      dtype='object')"
      ]
     },
     "execution_count": 263,
     "metadata": {},
     "output_type": "execute_result"
    }
   ],
   "source": [
    "df_member.columns"
   ]
  },
  {
   "cell_type": "markdown",
   "metadata": {},
   "source": [
    "## RegisterSourceTypeDef"
   ]
  },
  {
   "cell_type": "code",
   "execution_count": 265,
   "metadata": {
    "collapsed": false,
    "scrolled": true
   },
   "outputs": [
    {
     "data": {
      "text/plain": [
       "array(['iOSApp', 'Web', 'AndroidApp', nan], dtype=object)"
      ]
     },
     "execution_count": 265,
     "metadata": {},
     "output_type": "execute_result"
    }
   ],
   "source": [
    "df_member.RegisterSourceTypeDef.unique()"
   ]
  },
  {
   "cell_type": "code",
   "execution_count": 271,
   "metadata": {
    "collapsed": false
   },
   "outputs": [
    {
     "data": {
      "text/plain": [
       "RegisterSourceTypeDef\n",
       "AndroidApp    102192.0\n",
       "Web           596307.0\n",
       "iOSApp         87270.0\n",
       "Name: count, dtype: float64"
      ]
     },
     "execution_count": 271,
     "metadata": {},
     "output_type": "execute_result"
    }
   ],
   "source": [
    "df_member.groupby(['RegisterSourceTypeDef']).describe().ValidFlag['count']"
   ]
  },
  {
   "cell_type": "code",
   "execution_count": 270,
   "metadata": {
    "collapsed": false
   },
   "outputs": [
    {
     "data": {
      "text/plain": [
       "<matplotlib.axes._subplots.AxesSubplot at 0x1d1abcece48>"
      ]
     },
     "execution_count": 270,
     "metadata": {},
     "output_type": "execute_result"
    },
    {
     "data": {
      "image/png": "[encoded data removed]",
      "text/plain": [
       "<matplotlib.figure.Figure at 0x1d1aa985b00>"
      ]
     },
     "metadata": {},
     "output_type": "display_data"
    }
   ],
   "source": [
    "df_member.groupby(['RegisterSourceTypeDef']).describe().ValidFlag['count'].plot()"
   ]
  },
  {
   "cell_type": "code",
   "execution_count": 272,
   "metadata": {
    "collapsed": false
   },
   "outputs": [
    {
     "data": {
      "text/plain": [
       "<matplotlib.axes._subplots.AxesSubplot at 0x1d18ca5d4a8>"
      ]
     },
     "execution_count": 272,
     "metadata": {},
     "output_type": "execute_result"
    },
    {
     "data": {
      "image/png": "[encoded data removed]",
      "text/plain": [
       "<matplotlib.figure.Figure at 0x1d16e600c18>"
      ]
     },
     "metadata": {},
     "output_type": "display_data"
    }
   ],
   "source": [
    "df_member.groupby(['RegisterSourceTypeDef','RDTy']).describe().ValidFlag['count'].plot()"
   ]
  },
  {
   "cell_type": "code",
   "execution_count": 273,
   "metadata": {
    "collapsed": false
   },
   "outputs": [
    {
     "data": {
      "text/plain": [
       "<matplotlib.axes._subplots.AxesSubplot at 0x1d18cacccc0>"
      ]
     },
     "execution_count": 273,
     "metadata": {},
     "output_type": "execute_result"
    },
    {
     "data": {
      "image/png": "[encoded data removed]",
      "text/plain": [
       "<matplotlib.figure.Figure at 0x1d18cabbc50>"
      ]
     },
     "metadata": {},
     "output_type": "display_data"
    }
   ],
   "source": [
    "df_member.groupby(['RegisterSourceTypeDef','RDTm']).describe().ValidFlag['count'].plot()"
   ]
  },
  {
   "cell_type": "markdown",
   "metadata": {},
   "source": [
    "## MinOrderDate\n",
    "### 283523 members never order online."
   ]
  },
  {
   "cell_type": "code",
   "execution_count": 281,
   "metadata": {
    "collapsed": false,
    "scrolled": false
   },
   "outputs": [
    {
     "data": {
      "text/plain": [
       "1900-01-01    283523\n",
       "2016-11-11      2461\n",
       "2016-07-08      2008\n",
       "2016-11-13      1987\n",
       "2016-09-28      1852\n",
       "2016-09-27      1809\n",
       "2016-04-10      1805\n",
       "2016-07-09      1624\n",
       "2016-03-20      1604\n",
       "2016-03-06      1596\n",
       "Name: MinOrderDate, dtype: int64"
      ]
     },
     "execution_count": 281,
     "metadata": {},
     "output_type": "execute_result"
    }
   ],
   "source": [
    "df_member.MinOrderDate.value_counts().head(10)"
   ]
  },
  {
   "cell_type": "code",
   "execution_count": 286,
   "metadata": {
    "collapsed": true
   },
   "outputs": [],
   "source": [
    "df_member.MinOrderDate = pd.to_datetime(df_member.MinOrderDate,format = '%Y-%m-%d %H:%M:%S', errors = \"ignore\")"
   ]
  },
  {
   "cell_type": "code",
   "execution_count": 290,
   "metadata": {
    "collapsed": false,
    "scrolled": true
   },
   "outputs": [
    {
     "data": {
      "text/plain": [
       "<matplotlib.axes._subplots.AxesSubplot at 0x1d16e29ff60>"
      ]
     },
     "execution_count": 290,
     "metadata": {},
     "output_type": "execute_result"
    },
    {
     "data": {
      "image/png": "[encoded data removed]",
      "text/plain": [
       "<matplotlib.figure.Figure at 0x1d18ca5dbe0>"
      ]
     },
     "metadata": {},
     "output_type": "display_data"
    }
   ],
   "source": [
    "df_member['MiOy'] = df_member['MinOrderDate'].map(lambda x: x.year)\n",
    "df_member.groupby(by=['MiOy']).sum().plot(y=\"ValidFlag\")"
   ]
  },
  {
   "cell_type": "code",
   "execution_count": null,
   "metadata": {
    "collapsed": true
   },
   "outputs": [],
   "source": []
  },
  {
   "cell_type": "markdown",
   "metadata": {},
   "source": [
    "## MaxOrderDate"
   ]
  },
  {
   "cell_type": "code",
   "execution_count": 285,
   "metadata": {
    "collapsed": false
   },
   "outputs": [
    {
     "data": {
      "text/plain": [
       "532366"
      ]
     },
     "execution_count": 285,
     "metadata": {},
     "output_type": "execute_result"
    }
   ],
   "source": [
    "df_member.MaxOrderDate.notnull().sum()"
   ]
  },
  {
   "cell_type": "code",
   "execution_count": 282,
   "metadata": {
    "collapsed": false
   },
   "outputs": [
    {
     "data": {
      "text/plain": [
       "2016-11-11    2755\n",
       "2017-05-30    2091\n",
       "2017-11-11    2023\n",
       "2016-11-13    1995\n",
       "2017-11-12    1823\n",
       "2016-09-28    1740\n",
       "2016-09-27    1728\n",
       "2016-07-08    1675\n",
       "2016-11-12    1620\n",
       "2016-11-14    1454\n",
       "Name: MaxOrderDate, dtype: int64"
      ]
     },
     "execution_count": 282,
     "metadata": {},
     "output_type": "execute_result"
    }
   ],
   "source": [
    "df_member.MaxOrderDate.value_counts().head(10)"
   ]
  },
  {
   "cell_type": "code",
   "execution_count": 287,
   "metadata": {
    "collapsed": false
   },
   "outputs": [],
   "source": [
    "df_member.MaxOrderDate = pd.to_datetime(df_member.MaxOrderDate,format = '%Y-%m-%d %H:%M:%S', errors = \"ignore\")"
   ]
  },
  {
   "cell_type": "code",
   "execution_count": 291,
   "metadata": {
    "collapsed": false
   },
   "outputs": [
    {
     "data": {
      "text/plain": [
       "<matplotlib.axes._subplots.AxesSubplot at 0x1d18ecf3908>"
      ]
     },
     "execution_count": 291,
     "metadata": {},
     "output_type": "execute_result"
    },
    {
     "data": {
      "image/png": "[encoded data removed]",
      "text/plain": [
       "<matplotlib.figure.Figure at 0x1d18ecf9e80>"
      ]
     },
     "metadata": {},
     "output_type": "display_data"
    }
   ],
   "source": [
    "df_member['MaOy'] = df_member['MaxOrderDate'].map(lambda x: x.year)\n",
    "df_member.groupby(by=['MaOy']).sum().plot(y=\"ValidFlag\")"
   ]
  },
  {
   "cell_type": "code",
   "execution_count": 292,
   "metadata": {
    "collapsed": false
   },
   "outputs": [
    {
     "data": {
      "text/plain": [
       "<matplotlib.axes._subplots.AxesSubplot at 0x1d1add19940>"
      ]
     },
     "execution_count": 292,
     "metadata": {},
     "output_type": "execute_result"
    },
    {
     "data": {
      "image/png": "[encoded data removed]",
      "text/plain": [
       "<matplotlib.figure.Figure at 0x1d18ecf7208>"
      ]
     },
     "metadata": {},
     "output_type": "display_data"
    }
   ],
   "source": [
    "df_member['MaOm'] = df_member['MaxOrderDate'].map(lambda x: x.month)\n",
    "df_member.groupby(by=['MaOm']).sum().plot(y=\"ValidFlag\")"
   ]
  },
  {
   "cell_type": "code",
   "execution_count": 293,
   "metadata": {
    "collapsed": false,
    "scrolled": true
   },
   "outputs": [
    {
     "data": {
      "text/plain": [
       "<matplotlib.axes._subplots.AxesSubplot at 0x1d1b0f27240>"
      ]
     },
     "execution_count": 293,
     "metadata": {},
     "output_type": "execute_result"
    },
    {
     "data": {
      "image/png": "[encoded data removed]",
      "text/plain": [
       "<matplotlib.figure.Figure at 0x1d1ad68a6a0>"
      ]
     },
     "metadata": {},
     "output_type": "display_data"
    }
   ],
   "source": [
    "df_member['MaOd'] = df_member['MaxOrderDate'].map(lambda x: x.day)\n",
    "df_member.groupby(by=['MaOd']).sum().plot(y=\"ValidFlag\")"
   ]
  },
  {
   "cell_type": "code",
   "execution_count": 303,
   "metadata": {
    "collapsed": false
   },
   "outputs": [
    {
     "data": {
      "text/plain": [
       "MaOm  MaOd\n",
       "11.0  11.0    5309\n",
       "      12.0    3888\n",
       "      13.0    3359\n",
       "      14.0    3287\n",
       "7.0   8.0     3074\n",
       "      9.0     2731\n",
       "5.0   30.0    2699\n",
       "9.0   28.0    2532\n",
       "7.0   10.0    2507\n",
       "      6.0     2463\n",
       "Name: ValidFlag, dtype: int64"
      ]
     },
     "execution_count": 303,
     "metadata": {},
     "output_type": "execute_result"
    }
   ],
   "source": [
    "df_member.groupby(by=['MaOm','MaOd']).sum().ValidFlag.sort_values(ascending = False).head(10)"
   ]
  },
  {
   "cell_type": "code",
   "execution_count": 295,
   "metadata": {
    "collapsed": false
   },
   "outputs": [
    {
     "data": {
      "text/plain": [
       "<matplotlib.axes._subplots.AxesSubplot at 0x1d18d8a5da0>"
      ]
     },
     "execution_count": 295,
     "metadata": {},
     "output_type": "execute_result"
    },
    {
     "data": {
      "image/png": "[encoded data removed]",
      "text/plain": [
       "<matplotlib.figure.Figure at 0x1d18d8c2390>"
      ]
     },
     "metadata": {},
     "output_type": "display_data"
    }
   ],
   "source": [
    "df_member.groupby(by=['MaOm','MaOd']).sum().plot(y=\"ValidFlag\",figsize = (15,8))"
   ]
  },
  {
   "cell_type": "markdown",
   "metadata": {},
   "source": [
    "## IsAppInstalled"
   ]
  },
  {
   "cell_type": "code",
   "execution_count": 307,
   "metadata": {
    "collapsed": false
   },
   "outputs": [
    {
     "data": {
      "text/plain": [
       "count     324970\n",
       "unique         1\n",
       "top            有\n",
       "freq      324970\n",
       "Name: IsAppInstalled, dtype: object"
      ]
     },
     "execution_count": 307,
     "metadata": {},
     "output_type": "execute_result"
    }
   ],
   "source": [
    "df_member.IsAppInstalled.describe()"
   ]
  },
  {
   "cell_type": "code",
   "execution_count": 309,
   "metadata": {
    "collapsed": false,
    "scrolled": true
   },
   "outputs": [
    {
     "data": {
      "text/plain": [
       "array(['有', nan], dtype=object)"
      ]
     },
     "execution_count": 309,
     "metadata": {},
     "output_type": "execute_result"
    }
   ],
   "source": [
    "df_member.IsAppInstalled.unique()"
   ]
  },
  {
   "cell_type": "code",
   "execution_count": 314,
   "metadata": {
    "collapsed": false
   },
   "outputs": [
    {
     "data": {
      "text/plain": [
       "array(['yes', 'no'], dtype=object)"
      ]
     },
     "execution_count": 314,
     "metadata": {},
     "output_type": "execute_result"
    }
   ],
   "source": [
    "df_member.IsAppInstalled = df_member.IsAppInstalled.map(lambda x: 'yes' if x == '有' else 'no' )\n",
    "df_member.IsAppInstalled.unique()"
   ]
  },
  {
   "cell_type": "markdown",
   "metadata": {},
   "source": [
    "## MinAppOpenDateTime"
   ]
  },
  {
   "cell_type": "code",
   "execution_count": 316,
   "metadata": {
    "collapsed": true
   },
   "outputs": [],
   "source": [
    "df_member.MinAppOpenDateTime = pd.to_datetime(df_member.MinAppOpenDateTime,format = '%Y-%m-%d %H:%M:%S', errors = \"ignore\")"
   ]
  },
  {
   "cell_type": "code",
   "execution_count": 317,
   "metadata": {
    "collapsed": false
   },
   "outputs": [
    {
     "data": {
      "text/plain": [
       "<matplotlib.axes._subplots.AxesSubplot at 0x1d16e1711d0>"
      ]
     },
     "execution_count": 317,
     "metadata": {},
     "output_type": "execute_result"
    },
    {
     "data": {
      "image/png": "[encoded data removed]",
      "text/plain": [
       "<matplotlib.figure.Figure at 0x1d18cc78940>"
      ]
     },
     "metadata": {},
     "output_type": "display_data"
    }
   ],
   "source": [
    "df_member['MiAODy'] = df_member['MinAppOpenDateTime'].map(lambda x: x.year)\n",
    "df_member.groupby(by=['MiAODy']).sum().plot(y=\"ValidFlag\")"
   ]
  },
  {
   "cell_type": "code",
   "execution_count": 318,
   "metadata": {
    "collapsed": false
   },
   "outputs": [
    {
     "data": {
      "text/plain": [
       "<matplotlib.axes._subplots.AxesSubplot at 0x1d1a81ac908>"
      ]
     },
     "execution_count": 318,
     "metadata": {},
     "output_type": "execute_result"
    },
    {
     "data": {
      "image/png": "[encoded data removed]",
      "text/plain": [
       "<matplotlib.figure.Figure at 0x1d18d95b2e8>"
      ]
     },
     "metadata": {},
     "output_type": "display_data"
    }
   ],
   "source": [
    "df_member['MiAODm'] = df_member['MinAppOpenDateTime'].map(lambda x: x.month)\n",
    "df_member.groupby(by=['MiAODm']).sum().plot(y=\"ValidFlag\")"
   ]
  },
  {
   "cell_type": "code",
   "execution_count": 319,
   "metadata": {
    "collapsed": false
   },
   "outputs": [
    {
     "data": {
      "text/plain": [
       "<matplotlib.axes._subplots.AxesSubplot at 0x1d18e6966d8>"
      ]
     },
     "execution_count": 319,
     "metadata": {},
     "output_type": "execute_result"
    },
    {
     "data": {
      "image/png": "[encoded data removed]",
      "text/plain": [
       "<matplotlib.figure.Figure at 0x1d18d940080>"
      ]
     },
     "metadata": {},
     "output_type": "display_data"
    }
   ],
   "source": [
    "df_member['MiAODd'] = df_member['MinAppOpenDateTime'].map(lambda x: x.day)\n",
    "df_member.groupby(by=['MiAODd']).sum().plot(y=\"ValidFlag\")"
   ]
  },
  {
   "cell_type": "code",
   "execution_count": 321,
   "metadata": {
    "collapsed": false
   },
   "outputs": [
    {
     "data": {
      "text/plain": [
       "<matplotlib.axes._subplots.AxesSubplot at 0x1d18e76ee80>"
      ]
     },
     "execution_count": 321,
     "metadata": {},
     "output_type": "execute_result"
    },
    {
     "data": {
      "image/png": "[encoded data removed]",
      "text/plain": [
       "<matplotlib.figure.Figure at 0x1d18e7456a0>"
      ]
     },
     "metadata": {},
     "output_type": "display_data"
    }
   ],
   "source": [
    "df_member['MiAODh'] = df_member['MinAppOpenDateTime'].map(lambda x: x.hour)\n",
    "df_member.groupby(by=['MiAODh']).sum().plot(y=\"ValidFlag\",figsize=(15,8))"
   ]
  },
  {
   "cell_type": "code",
   "execution_count": 322,
   "metadata": {
    "collapsed": false
   },
   "outputs": [
    {
     "data": {
      "text/plain": [
       "<matplotlib.axes._subplots.AxesSubplot at 0x1d18e7aeeb8>"
      ]
     },
     "execution_count": 322,
     "metadata": {},
     "output_type": "execute_result"
    },
    {
     "data": {
      "image/png": "[encoded data removed]",
      "text/plain": [
       "<matplotlib.figure.Figure at 0x1d1a81a0940>"
      ]
     },
     "metadata": {},
     "output_type": "display_data"
    }
   ],
   "source": [
    "df_member['MiAODmi'] = df_member['MinAppOpenDateTime'].map(lambda x: x.minute)\n",
    "df_member.groupby(by=['MiAODmi']).sum().plot(y=\"ValidFlag\",figsize=(15,8))"
   ]
  },
  {
   "cell_type": "code",
   "execution_count": 323,
   "metadata": {
    "collapsed": false
   },
   "outputs": [
    {
     "data": {
      "text/plain": [
       "<matplotlib.axes._subplots.AxesSubplot at 0x1d18e787160>"
      ]
     },
     "execution_count": 323,
     "metadata": {},
     "output_type": "execute_result"
    },
    {
     "data": {
      "image/png": "[encoded data removed]",
      "text/plain": [
       "<matplotlib.figure.Figure at 0x1d18e83ecf8>"
      ]
     },
     "metadata": {},
     "output_type": "display_data"
    }
   ],
   "source": [
    "df_member.groupby(by=['MiAODm','MiAODd']).sum().plot(y=\"ValidFlag\",figsize = (15,8))"
   ]
  },
  {
   "cell_type": "code",
   "execution_count": 324,
   "metadata": {
    "collapsed": false
   },
   "outputs": [
    {
     "data": {
      "text/plain": [
       "<matplotlib.axes._subplots.AxesSubplot at 0x1d18eaa3a90>"
      ]
     },
     "execution_count": 324,
     "metadata": {},
     "output_type": "execute_result"
    },
    {
     "data": {
      "image/png": "[encoded data removed]",
      "text/plain": [
       "<matplotlib.figure.Figure at 0x1d18eab0b38>"
      ]
     },
     "metadata": {},
     "output_type": "display_data"
    }
   ],
   "source": [
    "df_member.groupby(by=['MiAODm','MiAODd','MiAODmi']).sum().plot(y=\"ValidFlag\",figsize = (15,8))"
   ]
  },
  {
   "cell_type": "code",
   "execution_count": 325,
   "metadata": {
    "collapsed": false,
    "scrolled": true
   },
   "outputs": [
    {
     "data": {
      "text/plain": [
       "Index(['ShopId', 'MemberId', 'Recency', 'Frequency', 'Monetary', 'Birthday',\n",
       "       'GenderTypeDef', 'LocationCity', 'LocationState', 'LocationCountry',\n",
       "       'EducationTypeDef', 'ProfessionTypeDef', 'MarialStatusTypeDef',\n",
       "       'DependentsTypeDef', 'AnnualIncomeTypeDef', 'RegisterDateTime',\n",
       "       'RegisterSourceTypeDef', 'ValidFlag', 'MinOrderDate', 'MaxOrderDate',\n",
       "       'IsAppInstalled', 'IsInBlackList', 'MinAppOpenDateTime',\n",
       "       'MaxAppOpenDateTime', 'RDTy', 'RDTm', 'RDTd', 'MiOy', 'MaOy', 'MaOm',\n",
       "       'MaOd', 'MiAODy', 'MiAODm', 'MiAODd', 'MiAODh', 'MiAODmi'],\n",
       "      dtype='object')"
      ]
     },
     "execution_count": 325,
     "metadata": {},
     "output_type": "execute_result"
    }
   ],
   "source": [
    "df_member.columns"
   ]
  },
  {
   "cell_type": "markdown",
   "metadata": {},
   "source": [
    "## Clean data"
   ]
  },
  {
   "cell_type": "code",
   "execution_count": 335,
   "metadata": {
    "collapsed": false
   },
   "outputs": [],
   "source": [
    "del_list = [i for i in df_member.columns[24:]]\n",
    "for i in del_list:del df_member[i]"
   ]
  },
  {
   "cell_type": "code",
   "execution_count": 346,
   "metadata": {
    "collapsed": false
   },
   "outputs": [
    {
     "data": {
      "text/html": [
       "<div>\n",
       "<style>\n",
       "    .dataframe thead tr:only-child th {\n",
       "        text-align: right;\n",
       "    }\n",
       "\n",
       "    .dataframe thead th {\n",
       "        text-align: left;\n",
       "    }\n",
       "\n",
       "    .dataframe tbody tr th {\n",
       "        vertical-align: top;\n",
       "    }\n",
       "</style>\n",
       "<table border=\"1\" class=\"dataframe\">\n",
       "  <thead>\n",
       "    <tr style=\"text-align: right;\">\n",
       "      <th></th>\n",
       "      <th>ShopId</th>\n",
       "      <th>MemberId</th>\n",
       "      <th>Recency</th>\n",
       "      <th>Frequency</th>\n",
       "      <th>Monetary</th>\n",
       "      <th>Birthday</th>\n",
       "      <th>GenderTypeDef</th>\n",
       "      <th>LocationCity</th>\n",
       "      <th>LocationState</th>\n",
       "      <th>LocationCountry</th>\n",
       "      <th>...</th>\n",
       "      <th>AnnualIncomeTypeDef</th>\n",
       "      <th>RegisterDateTime</th>\n",
       "      <th>RegisterSourceTypeDef</th>\n",
       "      <th>ValidFlag</th>\n",
       "      <th>MinOrderDate</th>\n",
       "      <th>MaxOrderDate</th>\n",
       "      <th>IsAppInstalled</th>\n",
       "      <th>IsInBlackList</th>\n",
       "      <th>MinAppOpenDateTime</th>\n",
       "      <th>MaxAppOpenDateTime</th>\n",
       "    </tr>\n",
       "  </thead>\n",
       "  <tbody>\n",
       "    <tr>\n",
       "      <th>0</th>\n",
       "      <td>1317</td>\n",
       "      <td>88812F54-9F19-49C0-BC77-86065C356D26</td>\n",
       "      <td>251</td>\n",
       "      <td>3</td>\n",
       "      <td>4011.0</td>\n",
       "      <td>1980-08-08</td>\n",
       "      <td>Female</td>\n",
       "      <td>NaN</td>\n",
       "      <td>台中市</td>\n",
       "      <td>台灣</td>\n",
       "      <td>...</td>\n",
       "      <td>NaN</td>\n",
       "      <td>2015-09-18 19:18:48.050</td>\n",
       "      <td>iOSApp</td>\n",
       "      <td>1</td>\n",
       "      <td>2015-09-18</td>\n",
       "      <td>2017-05-02</td>\n",
       "      <td>yes</td>\n",
       "      <td>NaN</td>\n",
       "      <td>2015-09-18 18:45:35.707</td>\n",
       "      <td>2017-07-30 21:30:34.940</td>\n",
       "    </tr>\n",
       "    <tr>\n",
       "      <th>1</th>\n",
       "      <td>1317</td>\n",
       "      <td>AB3232A1-03C6-4425-8062-EEECB633FB5A</td>\n",
       "      <td>-1</td>\n",
       "      <td>0</td>\n",
       "      <td>0.0</td>\n",
       "      <td>NaN</td>\n",
       "      <td>NaN</td>\n",
       "      <td>NaN</td>\n",
       "      <td>NaN</td>\n",
       "      <td>NaN</td>\n",
       "      <td>...</td>\n",
       "      <td>NaN</td>\n",
       "      <td>2016-03-13 01:11:05.403</td>\n",
       "      <td>Web</td>\n",
       "      <td>1</td>\n",
       "      <td>1900-01-01</td>\n",
       "      <td>NaT</td>\n",
       "      <td>no</td>\n",
       "      <td>NaN</td>\n",
       "      <td>NaT</td>\n",
       "      <td>NaN</td>\n",
       "    </tr>\n",
       "    <tr>\n",
       "      <th>2</th>\n",
       "      <td>1317</td>\n",
       "      <td>CC63B70D-CD6D-4538-BDDE-4B293F95A654</td>\n",
       "      <td>659</td>\n",
       "      <td>1</td>\n",
       "      <td>529.0</td>\n",
       "      <td>NaN</td>\n",
       "      <td>NaN</td>\n",
       "      <td>NaN</td>\n",
       "      <td>NaN</td>\n",
       "      <td>NaN</td>\n",
       "      <td>...</td>\n",
       "      <td>NaN</td>\n",
       "      <td>2016-03-20 02:20:35.493</td>\n",
       "      <td>Web</td>\n",
       "      <td>1</td>\n",
       "      <td>2016-03-20</td>\n",
       "      <td>2016-03-20</td>\n",
       "      <td>no</td>\n",
       "      <td>NaN</td>\n",
       "      <td>NaT</td>\n",
       "      <td>NaN</td>\n",
       "    </tr>\n",
       "    <tr>\n",
       "      <th>3</th>\n",
       "      <td>1317</td>\n",
       "      <td>17ED6C4D-0B91-4EB4-9992-117E9440425D</td>\n",
       "      <td>56</td>\n",
       "      <td>3</td>\n",
       "      <td>2438.0</td>\n",
       "      <td>NaN</td>\n",
       "      <td>NaN</td>\n",
       "      <td>NaN</td>\n",
       "      <td>NaN</td>\n",
       "      <td>NaN</td>\n",
       "      <td>...</td>\n",
       "      <td>NaN</td>\n",
       "      <td>2017-06-02 22:16:47.363</td>\n",
       "      <td>Web</td>\n",
       "      <td>1</td>\n",
       "      <td>2017-06-02</td>\n",
       "      <td>2017-10-27</td>\n",
       "      <td>no</td>\n",
       "      <td>NaN</td>\n",
       "      <td>NaT</td>\n",
       "      <td>NaN</td>\n",
       "    </tr>\n",
       "    <tr>\n",
       "      <th>4</th>\n",
       "      <td>1317</td>\n",
       "      <td>1BA9F6E3-67FD-4AAF-8011-2CBEA98B4828</td>\n",
       "      <td>717</td>\n",
       "      <td>1</td>\n",
       "      <td>550.0</td>\n",
       "      <td>NaN</td>\n",
       "      <td>NaN</td>\n",
       "      <td>NaN</td>\n",
       "      <td>NaN</td>\n",
       "      <td>NaN</td>\n",
       "      <td>...</td>\n",
       "      <td>NaN</td>\n",
       "      <td>2016-01-22 14:46:30.040</td>\n",
       "      <td>Web</td>\n",
       "      <td>1</td>\n",
       "      <td>2016-01-22</td>\n",
       "      <td>2016-01-22</td>\n",
       "      <td>yes</td>\n",
       "      <td>NaN</td>\n",
       "      <td>2016-01-22 14:50:32.173</td>\n",
       "      <td>2017-02-21 05:51:05.080</td>\n",
       "    </tr>\n",
       "    <tr>\n",
       "      <th>5</th>\n",
       "      <td>1317</td>\n",
       "      <td>E697E909-3142-4686-A7C6-540909465169</td>\n",
       "      <td>13</td>\n",
       "      <td>3</td>\n",
       "      <td>2651.0</td>\n",
       "      <td>NaN</td>\n",
       "      <td>NaN</td>\n",
       "      <td>NaN</td>\n",
       "      <td>NaN</td>\n",
       "      <td>NaN</td>\n",
       "      <td>...</td>\n",
       "      <td>NaN</td>\n",
       "      <td>2015-10-01 20:13:05.657</td>\n",
       "      <td>Web</td>\n",
       "      <td>1</td>\n",
       "      <td>2015-10-01</td>\n",
       "      <td>2015-10-16</td>\n",
       "      <td>no</td>\n",
       "      <td>NaN</td>\n",
       "      <td>NaT</td>\n",
       "      <td>NaN</td>\n",
       "    </tr>\n",
       "    <tr>\n",
       "      <th>6</th>\n",
       "      <td>1317</td>\n",
       "      <td>93FC0272-134F-48FF-8678-AD4A4DBB5069</td>\n",
       "      <td>-1</td>\n",
       "      <td>0</td>\n",
       "      <td>0.0</td>\n",
       "      <td>NaN</td>\n",
       "      <td>NaN</td>\n",
       "      <td>NaN</td>\n",
       "      <td>NaN</td>\n",
       "      <td>NaN</td>\n",
       "      <td>...</td>\n",
       "      <td>NaN</td>\n",
       "      <td>2017-02-24 08:51:00.343</td>\n",
       "      <td>AndroidApp</td>\n",
       "      <td>1</td>\n",
       "      <td>1900-01-01</td>\n",
       "      <td>NaT</td>\n",
       "      <td>yes</td>\n",
       "      <td>NaN</td>\n",
       "      <td>2017-02-24 08:50:14.220</td>\n",
       "      <td>2017-02-28 05:47:26.317</td>\n",
       "    </tr>\n",
       "    <tr>\n",
       "      <th>7</th>\n",
       "      <td>1317</td>\n",
       "      <td>D8A55D64-AEB0-4DC4-85C6-3372238C46D3</td>\n",
       "      <td>-1</td>\n",
       "      <td>0</td>\n",
       "      <td>0.0</td>\n",
       "      <td>NaN</td>\n",
       "      <td>NaN</td>\n",
       "      <td>NaN</td>\n",
       "      <td>NaN</td>\n",
       "      <td>NaN</td>\n",
       "      <td>...</td>\n",
       "      <td>NaN</td>\n",
       "      <td>2017-03-19 13:13:10.527</td>\n",
       "      <td>Web</td>\n",
       "      <td>1</td>\n",
       "      <td>2017-03-19</td>\n",
       "      <td>2017-03-19</td>\n",
       "      <td>no</td>\n",
       "      <td>NaN</td>\n",
       "      <td>NaT</td>\n",
       "      <td>NaN</td>\n",
       "    </tr>\n",
       "    <tr>\n",
       "      <th>8</th>\n",
       "      <td>1317</td>\n",
       "      <td>978EBCAE-9E66-44D9-926B-D35B0C1079E9</td>\n",
       "      <td>190</td>\n",
       "      <td>1</td>\n",
       "      <td>1174.0</td>\n",
       "      <td>NaN</td>\n",
       "      <td>NaN</td>\n",
       "      <td>NaN</td>\n",
       "      <td>NaN</td>\n",
       "      <td>NaN</td>\n",
       "      <td>...</td>\n",
       "      <td>NaN</td>\n",
       "      <td>2017-07-02 10:58:30.220</td>\n",
       "      <td>Web</td>\n",
       "      <td>1</td>\n",
       "      <td>2017-07-02</td>\n",
       "      <td>2017-07-02</td>\n",
       "      <td>no</td>\n",
       "      <td>NaN</td>\n",
       "      <td>NaT</td>\n",
       "      <td>NaN</td>\n",
       "    </tr>\n",
       "    <tr>\n",
       "      <th>9</th>\n",
       "      <td>1317</td>\n",
       "      <td>761C39F9-CDA6-44E2-AFA8-7A1CAA037573</td>\n",
       "      <td>-1</td>\n",
       "      <td>0</td>\n",
       "      <td>0.0</td>\n",
       "      <td>NaN</td>\n",
       "      <td>NaN</td>\n",
       "      <td>NaN</td>\n",
       "      <td>NaN</td>\n",
       "      <td>NaN</td>\n",
       "      <td>...</td>\n",
       "      <td>NaN</td>\n",
       "      <td>2016-04-25 21:46:57.683</td>\n",
       "      <td>Web</td>\n",
       "      <td>1</td>\n",
       "      <td>2016-12-29</td>\n",
       "      <td>2016-12-29</td>\n",
       "      <td>no</td>\n",
       "      <td>NaN</td>\n",
       "      <td>NaT</td>\n",
       "      <td>NaN</td>\n",
       "    </tr>\n",
       "    <tr>\n",
       "      <th>10</th>\n",
       "      <td>1317</td>\n",
       "      <td>78FB737B-5BD4-48BD-8A4F-E39E6F2E7DB5</td>\n",
       "      <td>-1</td>\n",
       "      <td>0</td>\n",
       "      <td>0.0</td>\n",
       "      <td>1990-06-22</td>\n",
       "      <td>Female</td>\n",
       "      <td>NaN</td>\n",
       "      <td>新竹市</td>\n",
       "      <td>台灣</td>\n",
       "      <td>...</td>\n",
       "      <td>NaN</td>\n",
       "      <td>2016-02-15 23:01:52.577</td>\n",
       "      <td>AndroidApp</td>\n",
       "      <td>1</td>\n",
       "      <td>1900-01-01</td>\n",
       "      <td>NaT</td>\n",
       "      <td>yes</td>\n",
       "      <td>NaN</td>\n",
       "      <td>2016-02-15 23:01:14.760</td>\n",
       "      <td>2016-08-23 23:11:20.197</td>\n",
       "    </tr>\n",
       "    <tr>\n",
       "      <th>11</th>\n",
       "      <td>1317</td>\n",
       "      <td>A8E7F918-8B05-422E-A9F9-F4972E1186E0</td>\n",
       "      <td>165</td>\n",
       "      <td>2</td>\n",
       "      <td>2508.0</td>\n",
       "      <td>1986-07-15</td>\n",
       "      <td>Female</td>\n",
       "      <td>NaN</td>\n",
       "      <td>台北市</td>\n",
       "      <td>台灣</td>\n",
       "      <td>...</td>\n",
       "      <td>NaN</td>\n",
       "      <td>2017-04-30 20:43:30.083</td>\n",
       "      <td>Web</td>\n",
       "      <td>1</td>\n",
       "      <td>2017-05-01</td>\n",
       "      <td>2017-07-27</td>\n",
       "      <td>yes</td>\n",
       "      <td>NaN</td>\n",
       "      <td>2017-04-30 23:13:29.093</td>\n",
       "      <td>2017-08-30 00:02:57.377</td>\n",
       "    </tr>\n",
       "    <tr>\n",
       "      <th>12</th>\n",
       "      <td>1317</td>\n",
       "      <td>7A3C8291-59AC-47C2-A22B-64AFC324619B</td>\n",
       "      <td>36</td>\n",
       "      <td>9</td>\n",
       "      <td>13489.0</td>\n",
       "      <td>1987-01-21</td>\n",
       "      <td>Female</td>\n",
       "      <td>NaN</td>\n",
       "      <td>高雄市</td>\n",
       "      <td>台灣</td>\n",
       "      <td>...</td>\n",
       "      <td>NaN</td>\n",
       "      <td>2016-09-04 23:42:52.570</td>\n",
       "      <td>AndroidApp</td>\n",
       "      <td>1</td>\n",
       "      <td>2016-09-04</td>\n",
       "      <td>2017-08-05</td>\n",
       "      <td>yes</td>\n",
       "      <td>NaN</td>\n",
       "      <td>2016-09-01 15:21:25.957</td>\n",
       "      <td>2017-07-14 07:02:36.593</td>\n",
       "    </tr>\n",
       "    <tr>\n",
       "      <th>13</th>\n",
       "      <td>1317</td>\n",
       "      <td>52B48400-EB1B-4797-9430-52C7398E28D2</td>\n",
       "      <td>-1</td>\n",
       "      <td>0</td>\n",
       "      <td>0.0</td>\n",
       "      <td>NaN</td>\n",
       "      <td>NaN</td>\n",
       "      <td>NaN</td>\n",
       "      <td>NaN</td>\n",
       "      <td>NaN</td>\n",
       "      <td>...</td>\n",
       "      <td>NaN</td>\n",
       "      <td>2017-12-21 20:59:40.597</td>\n",
       "      <td>Web</td>\n",
       "      <td>1</td>\n",
       "      <td>1900-01-01</td>\n",
       "      <td>NaT</td>\n",
       "      <td>no</td>\n",
       "      <td>NaN</td>\n",
       "      <td>NaT</td>\n",
       "      <td>NaN</td>\n",
       "    </tr>\n",
       "    <tr>\n",
       "      <th>14</th>\n",
       "      <td>1317</td>\n",
       "      <td>059EE4B4-13A3-471D-80F1-AD897227E8A2</td>\n",
       "      <td>-1</td>\n",
       "      <td>0</td>\n",
       "      <td>0.0</td>\n",
       "      <td>1998-09-11</td>\n",
       "      <td>Female</td>\n",
       "      <td>NaN</td>\n",
       "      <td>新竹縣</td>\n",
       "      <td>台灣</td>\n",
       "      <td>...</td>\n",
       "      <td>NaN</td>\n",
       "      <td>2016-08-15 12:42:45.033</td>\n",
       "      <td>Web</td>\n",
       "      <td>1</td>\n",
       "      <td>1900-01-01</td>\n",
       "      <td>NaT</td>\n",
       "      <td>yes</td>\n",
       "      <td>NaN</td>\n",
       "      <td>2016-10-04 23:04:41.330</td>\n",
       "      <td>2016-12-04 05:45:43.153</td>\n",
       "    </tr>\n",
       "    <tr>\n",
       "      <th>15</th>\n",
       "      <td>1317</td>\n",
       "      <td>FE0428CE-1DDE-4419-9B0F-459BE501C855</td>\n",
       "      <td>481</td>\n",
       "      <td>1</td>\n",
       "      <td>693.0</td>\n",
       "      <td>NaN</td>\n",
       "      <td>NaN</td>\n",
       "      <td>NaN</td>\n",
       "      <td>NaN</td>\n",
       "      <td>NaN</td>\n",
       "      <td>...</td>\n",
       "      <td>NaN</td>\n",
       "      <td>2016-09-14 10:41:32.337</td>\n",
       "      <td>Web</td>\n",
       "      <td>1</td>\n",
       "      <td>2016-09-14</td>\n",
       "      <td>2016-09-14</td>\n",
       "      <td>no</td>\n",
       "      <td>NaN</td>\n",
       "      <td>NaT</td>\n",
       "      <td>NaN</td>\n",
       "    </tr>\n",
       "    <tr>\n",
       "      <th>16</th>\n",
       "      <td>1317</td>\n",
       "      <td>84152EFC-EE1C-4E31-AA8A-B86E6B9B5A73</td>\n",
       "      <td>588</td>\n",
       "      <td>1</td>\n",
       "      <td>747.0</td>\n",
       "      <td>NaN</td>\n",
       "      <td>NaN</td>\n",
       "      <td>NaN</td>\n",
       "      <td>NaN</td>\n",
       "      <td>NaN</td>\n",
       "      <td>...</td>\n",
       "      <td>NaN</td>\n",
       "      <td>2016-05-29 23:34:45.587</td>\n",
       "      <td>Web</td>\n",
       "      <td>1</td>\n",
       "      <td>2016-05-30</td>\n",
       "      <td>2016-05-30</td>\n",
       "      <td>yes</td>\n",
       "      <td>NaN</td>\n",
       "      <td>2016-05-29 23:56:10.310</td>\n",
       "      <td>2016-06-14 12:27:49.917</td>\n",
       "    </tr>\n",
       "    <tr>\n",
       "      <th>17</th>\n",
       "      <td>1317</td>\n",
       "      <td>ECCC9C73-E4B5-4052-9688-1CE4EC33D086</td>\n",
       "      <td>-1</td>\n",
       "      <td>0</td>\n",
       "      <td>0.0</td>\n",
       "      <td>NaN</td>\n",
       "      <td>NaN</td>\n",
       "      <td>NaN</td>\n",
       "      <td>NaN</td>\n",
       "      <td>NaN</td>\n",
       "      <td>...</td>\n",
       "      <td>NaN</td>\n",
       "      <td>2017-12-02 16:36:43.387</td>\n",
       "      <td>Web</td>\n",
       "      <td>1</td>\n",
       "      <td>1900-01-01</td>\n",
       "      <td>NaT</td>\n",
       "      <td>no</td>\n",
       "      <td>NaN</td>\n",
       "      <td>NaT</td>\n",
       "      <td>NaN</td>\n",
       "    </tr>\n",
       "    <tr>\n",
       "      <th>18</th>\n",
       "      <td>1317</td>\n",
       "      <td>B3E3DE19-15AE-42ED-91FB-19E18177531A</td>\n",
       "      <td>359</td>\n",
       "      <td>1</td>\n",
       "      <td>2108.0</td>\n",
       "      <td>NaN</td>\n",
       "      <td>NaN</td>\n",
       "      <td>NaN</td>\n",
       "      <td>NaN</td>\n",
       "      <td>NaN</td>\n",
       "      <td>...</td>\n",
       "      <td>NaN</td>\n",
       "      <td>2017-01-14 20:37:40.677</td>\n",
       "      <td>Web</td>\n",
       "      <td>1</td>\n",
       "      <td>2017-01-14</td>\n",
       "      <td>2017-01-14</td>\n",
       "      <td>yes</td>\n",
       "      <td>NaN</td>\n",
       "      <td>2017-01-30 17:53:11.957</td>\n",
       "      <td>2017-04-11 05:44:45.480</td>\n",
       "    </tr>\n",
       "    <tr>\n",
       "      <th>19</th>\n",
       "      <td>1317</td>\n",
       "      <td>A1A54713-CB23-4BC0-BA10-C2430CCF11B0</td>\n",
       "      <td>649</td>\n",
       "      <td>1</td>\n",
       "      <td>948.0</td>\n",
       "      <td>NaN</td>\n",
       "      <td>NaN</td>\n",
       "      <td>NaN</td>\n",
       "      <td>NaN</td>\n",
       "      <td>NaN</td>\n",
       "      <td>...</td>\n",
       "      <td>NaN</td>\n",
       "      <td>2016-03-30 19:51:50.397</td>\n",
       "      <td>Web</td>\n",
       "      <td>1</td>\n",
       "      <td>2016-03-30</td>\n",
       "      <td>2016-03-30</td>\n",
       "      <td>no</td>\n",
       "      <td>NaN</td>\n",
       "      <td>NaT</td>\n",
       "      <td>NaN</td>\n",
       "    </tr>\n",
       "    <tr>\n",
       "      <th>20</th>\n",
       "      <td>1317</td>\n",
       "      <td>9E2F2520-D00C-4759-BC8F-0A50828D69F5</td>\n",
       "      <td>-1</td>\n",
       "      <td>0</td>\n",
       "      <td>0.0</td>\n",
       "      <td>NaN</td>\n",
       "      <td>NaN</td>\n",
       "      <td>NaN</td>\n",
       "      <td>NaN</td>\n",
       "      <td>NaN</td>\n",
       "      <td>...</td>\n",
       "      <td>NaN</td>\n",
       "      <td>2016-05-15 00:40:41.763</td>\n",
       "      <td>Web</td>\n",
       "      <td>1</td>\n",
       "      <td>2016-05-17</td>\n",
       "      <td>2016-05-17</td>\n",
       "      <td>yes</td>\n",
       "      <td>NaN</td>\n",
       "      <td>2016-05-18 16:27:14.167</td>\n",
       "      <td>2016-05-22 05:50:26.350</td>\n",
       "    </tr>\n",
       "    <tr>\n",
       "      <th>21</th>\n",
       "      <td>1317</td>\n",
       "      <td>CFD48B12-770D-4AE8-BCF5-1543C8242320</td>\n",
       "      <td>273</td>\n",
       "      <td>2</td>\n",
       "      <td>2774.0</td>\n",
       "      <td>NaN</td>\n",
       "      <td>NaN</td>\n",
       "      <td>NaN</td>\n",
       "      <td>NaN</td>\n",
       "      <td>NaN</td>\n",
       "      <td>...</td>\n",
       "      <td>NaN</td>\n",
       "      <td>2016-10-18 00:52:11.473</td>\n",
       "      <td>Web</td>\n",
       "      <td>1</td>\n",
       "      <td>2016-10-18</td>\n",
       "      <td>2017-04-10</td>\n",
       "      <td>no</td>\n",
       "      <td>NaN</td>\n",
       "      <td>NaT</td>\n",
       "      <td>NaN</td>\n",
       "    </tr>\n",
       "    <tr>\n",
       "      <th>22</th>\n",
       "      <td>1317</td>\n",
       "      <td>2B73AC64-4794-4676-8954-337131A2A666</td>\n",
       "      <td>467</td>\n",
       "      <td>1</td>\n",
       "      <td>783.0</td>\n",
       "      <td>NaN</td>\n",
       "      <td>NaN</td>\n",
       "      <td>NaN</td>\n",
       "      <td>NaN</td>\n",
       "      <td>NaN</td>\n",
       "      <td>...</td>\n",
       "      <td>NaN</td>\n",
       "      <td>2016-09-28 11:14:10.760</td>\n",
       "      <td>Web</td>\n",
       "      <td>1</td>\n",
       "      <td>2016-09-28</td>\n",
       "      <td>2016-09-28</td>\n",
       "      <td>no</td>\n",
       "      <td>NaN</td>\n",
       "      <td>NaT</td>\n",
       "      <td>NaN</td>\n",
       "    </tr>\n",
       "    <tr>\n",
       "      <th>23</th>\n",
       "      <td>1317</td>\n",
       "      <td>930A7AF9-2D4D-49D2-8BF9-6B8E0D40B1EC</td>\n",
       "      <td>-1</td>\n",
       "      <td>0</td>\n",
       "      <td>0.0</td>\n",
       "      <td>1999-01-28</td>\n",
       "      <td>Female</td>\n",
       "      <td>NaN</td>\n",
       "      <td>彰化縣</td>\n",
       "      <td>台灣</td>\n",
       "      <td>...</td>\n",
       "      <td>NaN</td>\n",
       "      <td>2017-08-13 17:36:40.113</td>\n",
       "      <td>Web</td>\n",
       "      <td>1</td>\n",
       "      <td>1900-01-01</td>\n",
       "      <td>NaT</td>\n",
       "      <td>yes</td>\n",
       "      <td>NaN</td>\n",
       "      <td>2017-09-03 01:09:50.880</td>\n",
       "      <td>2017-09-05 05:56:07.987</td>\n",
       "    </tr>\n",
       "    <tr>\n",
       "      <th>24</th>\n",
       "      <td>1317</td>\n",
       "      <td>B8319921-51D5-4E62-A4D6-E1A6C1D99C0F</td>\n",
       "      <td>-1</td>\n",
       "      <td>0</td>\n",
       "      <td>0.0</td>\n",
       "      <td>NaN</td>\n",
       "      <td>NaN</td>\n",
       "      <td>NaN</td>\n",
       "      <td>NaN</td>\n",
       "      <td>NaN</td>\n",
       "      <td>...</td>\n",
       "      <td>NaN</td>\n",
       "      <td>2017-04-21 00:15:12.927</td>\n",
       "      <td>Web</td>\n",
       "      <td>1</td>\n",
       "      <td>1900-01-01</td>\n",
       "      <td>NaT</td>\n",
       "      <td>no</td>\n",
       "      <td>NaN</td>\n",
       "      <td>NaT</td>\n",
       "      <td>NaN</td>\n",
       "    </tr>\n",
       "    <tr>\n",
       "      <th>25</th>\n",
       "      <td>1317</td>\n",
       "      <td>44DFCAC0-B57B-440C-904A-85E7F14DE034</td>\n",
       "      <td>180</td>\n",
       "      <td>1</td>\n",
       "      <td>1230.0</td>\n",
       "      <td>NaN</td>\n",
       "      <td>NaN</td>\n",
       "      <td>NaN</td>\n",
       "      <td>NaN</td>\n",
       "      <td>NaN</td>\n",
       "      <td>...</td>\n",
       "      <td>NaN</td>\n",
       "      <td>2017-07-12 21:56:51.550</td>\n",
       "      <td>Web</td>\n",
       "      <td>1</td>\n",
       "      <td>2017-07-12</td>\n",
       "      <td>2017-07-12</td>\n",
       "      <td>no</td>\n",
       "      <td>NaN</td>\n",
       "      <td>NaT</td>\n",
       "      <td>NaN</td>\n",
       "    </tr>\n",
       "    <tr>\n",
       "      <th>26</th>\n",
       "      <td>1317</td>\n",
       "      <td>A050C9FB-E2D7-449D-919F-2151DEED2223</td>\n",
       "      <td>59</td>\n",
       "      <td>1</td>\n",
       "      <td>730.0</td>\n",
       "      <td>NaN</td>\n",
       "      <td>NaN</td>\n",
       "      <td>NaN</td>\n",
       "      <td>NaN</td>\n",
       "      <td>NaN</td>\n",
       "      <td>...</td>\n",
       "      <td>NaN</td>\n",
       "      <td>2017-11-10 21:22:57.937</td>\n",
       "      <td>Web</td>\n",
       "      <td>1</td>\n",
       "      <td>2017-11-10</td>\n",
       "      <td>2017-11-10</td>\n",
       "      <td>no</td>\n",
       "      <td>NaN</td>\n",
       "      <td>NaT</td>\n",
       "      <td>NaN</td>\n",
       "    </tr>\n",
       "    <tr>\n",
       "      <th>27</th>\n",
       "      <td>1317</td>\n",
       "      <td>1B8E29C1-3A88-43E4-989B-5046BC3676AB</td>\n",
       "      <td>-1</td>\n",
       "      <td>0</td>\n",
       "      <td>0.0</td>\n",
       "      <td>NaN</td>\n",
       "      <td>NaN</td>\n",
       "      <td>NaN</td>\n",
       "      <td>NaN</td>\n",
       "      <td>NaN</td>\n",
       "      <td>...</td>\n",
       "      <td>NaN</td>\n",
       "      <td>2016-12-10 13:41:19.250</td>\n",
       "      <td>Web</td>\n",
       "      <td>1</td>\n",
       "      <td>1900-01-01</td>\n",
       "      <td>NaT</td>\n",
       "      <td>no</td>\n",
       "      <td>NaN</td>\n",
       "      <td>NaT</td>\n",
       "      <td>NaN</td>\n",
       "    </tr>\n",
       "    <tr>\n",
       "      <th>28</th>\n",
       "      <td>1317</td>\n",
       "      <td>EACC5339-0CA9-4724-BC14-D7FBFB0AF486</td>\n",
       "      <td>-1</td>\n",
       "      <td>0</td>\n",
       "      <td>0.0</td>\n",
       "      <td>1998-09-19</td>\n",
       "      <td>Female</td>\n",
       "      <td>NaN</td>\n",
       "      <td>桃園市</td>\n",
       "      <td>台灣</td>\n",
       "      <td>...</td>\n",
       "      <td>NaN</td>\n",
       "      <td>2016-04-18 07:54:16.560</td>\n",
       "      <td>iOSApp</td>\n",
       "      <td>1</td>\n",
       "      <td>1900-01-01</td>\n",
       "      <td>NaT</td>\n",
       "      <td>yes</td>\n",
       "      <td>NaN</td>\n",
       "      <td>2016-04-18 07:53:36.037</td>\n",
       "      <td>2016-12-06 05:44:45.527</td>\n",
       "    </tr>\n",
       "    <tr>\n",
       "      <th>29</th>\n",
       "      <td>1317</td>\n",
       "      <td>858F8540-153D-46CB-8E22-16590FE085B6</td>\n",
       "      <td>93</td>\n",
       "      <td>3</td>\n",
       "      <td>752.0</td>\n",
       "      <td>NaN</td>\n",
       "      <td>NaN</td>\n",
       "      <td>NaN</td>\n",
       "      <td>NaN</td>\n",
       "      <td>NaN</td>\n",
       "      <td>...</td>\n",
       "      <td>NaN</td>\n",
       "      <td>2016-07-23 21:52:24.887</td>\n",
       "      <td>Web</td>\n",
       "      <td>1</td>\n",
       "      <td>2016-07-23</td>\n",
       "      <td>2016-07-27</td>\n",
       "      <td>yes</td>\n",
       "      <td>NaN</td>\n",
       "      <td>2016-07-23 21:54:27.030</td>\n",
       "      <td>2016-09-02 14:40:30.067</td>\n",
       "    </tr>\n",
       "    <tr>\n",
       "      <th>...</th>\n",
       "      <td>...</td>\n",
       "      <td>...</td>\n",
       "      <td>...</td>\n",
       "      <td>...</td>\n",
       "      <td>...</td>\n",
       "      <td>...</td>\n",
       "      <td>...</td>\n",
       "      <td>...</td>\n",
       "      <td>...</td>\n",
       "      <td>...</td>\n",
       "      <td>...</td>\n",
       "      <td>...</td>\n",
       "      <td>...</td>\n",
       "      <td>...</td>\n",
       "      <td>...</td>\n",
       "      <td>...</td>\n",
       "      <td>...</td>\n",
       "      <td>...</td>\n",
       "      <td>...</td>\n",
       "      <td>...</td>\n",
       "      <td>...</td>\n",
       "    </tr>\n",
       "    <tr>\n",
       "      <th>815762</th>\n",
       "      <td>1317</td>\n",
       "      <td>058E1695-322B-4D26-9597-A02741C5F3D6</td>\n",
       "      <td>824</td>\n",
       "      <td>2</td>\n",
       "      <td>1724.0</td>\n",
       "      <td>1994-05-08</td>\n",
       "      <td>Female</td>\n",
       "      <td>NaN</td>\n",
       "      <td>新北市</td>\n",
       "      <td>台灣</td>\n",
       "      <td>...</td>\n",
       "      <td>NaN</td>\n",
       "      <td>2015-07-23 18:30:36.873</td>\n",
       "      <td>NaN</td>\n",
       "      <td>1</td>\n",
       "      <td>2015-07-23</td>\n",
       "      <td>2015-10-07</td>\n",
       "      <td>yes</td>\n",
       "      <td>NaN</td>\n",
       "      <td>2015-07-21 12:18:14.223</td>\n",
       "      <td>2016-06-01 05:47:10.960</td>\n",
       "    </tr>\n",
       "    <tr>\n",
       "      <th>815763</th>\n",
       "      <td>1317</td>\n",
       "      <td>6788BB6D-51D6-4887-9453-8FCADB787AA8</td>\n",
       "      <td>887</td>\n",
       "      <td>1</td>\n",
       "      <td>849.0</td>\n",
       "      <td>NaN</td>\n",
       "      <td>NaN</td>\n",
       "      <td>NaN</td>\n",
       "      <td>NaN</td>\n",
       "      <td>NaN</td>\n",
       "      <td>...</td>\n",
       "      <td>NaN</td>\n",
       "      <td>2015-08-05 13:56:59.967</td>\n",
       "      <td>Web</td>\n",
       "      <td>1</td>\n",
       "      <td>2015-08-05</td>\n",
       "      <td>2015-08-05</td>\n",
       "      <td>no</td>\n",
       "      <td>NaN</td>\n",
       "      <td>NaT</td>\n",
       "      <td>NaN</td>\n",
       "    </tr>\n",
       "    <tr>\n",
       "      <th>815764</th>\n",
       "      <td>1317</td>\n",
       "      <td>AEF56674-4668-418E-BD82-FB9AE88DE893</td>\n",
       "      <td>131</td>\n",
       "      <td>4</td>\n",
       "      <td>1169.0</td>\n",
       "      <td>NaN</td>\n",
       "      <td>NaN</td>\n",
       "      <td>NaN</td>\n",
       "      <td>NaN</td>\n",
       "      <td>NaN</td>\n",
       "      <td>...</td>\n",
       "      <td>NaN</td>\n",
       "      <td>2017-06-03 12:58:37.823</td>\n",
       "      <td>Web</td>\n",
       "      <td>1</td>\n",
       "      <td>2017-06-03</td>\n",
       "      <td>2017-08-30</td>\n",
       "      <td>yes</td>\n",
       "      <td>NaN</td>\n",
       "      <td>2017-02-25 10:45:16.197</td>\n",
       "      <td>2017-10-23 02:44:46.330</td>\n",
       "    </tr>\n",
       "    <tr>\n",
       "      <th>815765</th>\n",
       "      <td>1317</td>\n",
       "      <td>93000A27-9249-42DC-8157-33139326E096</td>\n",
       "      <td>257</td>\n",
       "      <td>1</td>\n",
       "      <td>859.0</td>\n",
       "      <td>NaN</td>\n",
       "      <td>NaN</td>\n",
       "      <td>NaN</td>\n",
       "      <td>NaN</td>\n",
       "      <td>NaN</td>\n",
       "      <td>...</td>\n",
       "      <td>NaN</td>\n",
       "      <td>2016-08-11 23:03:56.713</td>\n",
       "      <td>Web</td>\n",
       "      <td>1</td>\n",
       "      <td>2017-04-24</td>\n",
       "      <td>2017-04-26</td>\n",
       "      <td>no</td>\n",
       "      <td>NaN</td>\n",
       "      <td>NaT</td>\n",
       "      <td>NaN</td>\n",
       "    </tr>\n",
       "    <tr>\n",
       "      <th>815766</th>\n",
       "      <td>1317</td>\n",
       "      <td>076A9D5B-6FF9-447B-893E-E8FB77BF751F</td>\n",
       "      <td>206</td>\n",
       "      <td>1</td>\n",
       "      <td>1083.0</td>\n",
       "      <td>NaN</td>\n",
       "      <td>NaN</td>\n",
       "      <td>NaN</td>\n",
       "      <td>NaN</td>\n",
       "      <td>NaN</td>\n",
       "      <td>...</td>\n",
       "      <td>NaN</td>\n",
       "      <td>2017-06-16 15:57:24.407</td>\n",
       "      <td>Web</td>\n",
       "      <td>1</td>\n",
       "      <td>2017-06-16</td>\n",
       "      <td>2017-06-16</td>\n",
       "      <td>no</td>\n",
       "      <td>NaN</td>\n",
       "      <td>NaT</td>\n",
       "      <td>NaN</td>\n",
       "    </tr>\n",
       "    <tr>\n",
       "      <th>815767</th>\n",
       "      <td>1317</td>\n",
       "      <td>88F329D3-0F8D-4D3E-B731-98548E7F2FFF</td>\n",
       "      <td>-1</td>\n",
       "      <td>0</td>\n",
       "      <td>0.0</td>\n",
       "      <td>NaN</td>\n",
       "      <td>NaN</td>\n",
       "      <td>NaN</td>\n",
       "      <td>NaN</td>\n",
       "      <td>NaN</td>\n",
       "      <td>...</td>\n",
       "      <td>NaN</td>\n",
       "      <td>2015-08-09 23:38:23.040</td>\n",
       "      <td>Web</td>\n",
       "      <td>1</td>\n",
       "      <td>1900-01-01</td>\n",
       "      <td>NaT</td>\n",
       "      <td>no</td>\n",
       "      <td>NaN</td>\n",
       "      <td>NaT</td>\n",
       "      <td>NaN</td>\n",
       "    </tr>\n",
       "    <tr>\n",
       "      <th>815768</th>\n",
       "      <td>1317</td>\n",
       "      <td>FE085DA9-35E4-4334-8825-2AC04ED9318E</td>\n",
       "      <td>-1</td>\n",
       "      <td>0</td>\n",
       "      <td>0.0</td>\n",
       "      <td>NaN</td>\n",
       "      <td>NaN</td>\n",
       "      <td>NaN</td>\n",
       "      <td>NaN</td>\n",
       "      <td>NaN</td>\n",
       "      <td>...</td>\n",
       "      <td>NaN</td>\n",
       "      <td>2015-11-07 21:34:11.513</td>\n",
       "      <td>Web</td>\n",
       "      <td>1</td>\n",
       "      <td>1900-01-01</td>\n",
       "      <td>NaT</td>\n",
       "      <td>no</td>\n",
       "      <td>NaN</td>\n",
       "      <td>NaT</td>\n",
       "      <td>NaN</td>\n",
       "    </tr>\n",
       "    <tr>\n",
       "      <th>815769</th>\n",
       "      <td>1317</td>\n",
       "      <td>24ACCA37-644E-4EAC-8222-067EBAC67DE9</td>\n",
       "      <td>-1</td>\n",
       "      <td>0</td>\n",
       "      <td>0.0</td>\n",
       "      <td>NaN</td>\n",
       "      <td>NaN</td>\n",
       "      <td>NaN</td>\n",
       "      <td>NaN</td>\n",
       "      <td>NaN</td>\n",
       "      <td>...</td>\n",
       "      <td>NaN</td>\n",
       "      <td>2015-09-14 21:21:02.167</td>\n",
       "      <td>iOSApp</td>\n",
       "      <td>1</td>\n",
       "      <td>1900-01-01</td>\n",
       "      <td>NaT</td>\n",
       "      <td>yes</td>\n",
       "      <td>NaN</td>\n",
       "      <td>2015-08-25 22:52:38.333</td>\n",
       "      <td>2015-10-18 05:42:27.870</td>\n",
       "    </tr>\n",
       "    <tr>\n",
       "      <th>815770</th>\n",
       "      <td>1317</td>\n",
       "      <td>D4C74F24-108A-4175-A351-08CC96F266B7</td>\n",
       "      <td>-1</td>\n",
       "      <td>0</td>\n",
       "      <td>0.0</td>\n",
       "      <td>NaN</td>\n",
       "      <td>NaN</td>\n",
       "      <td>NaN</td>\n",
       "      <td>NaN</td>\n",
       "      <td>NaN</td>\n",
       "      <td>...</td>\n",
       "      <td>NaN</td>\n",
       "      <td>2017-12-01 23:45:10.767</td>\n",
       "      <td>Web</td>\n",
       "      <td>1</td>\n",
       "      <td>1900-01-01</td>\n",
       "      <td>NaT</td>\n",
       "      <td>no</td>\n",
       "      <td>NaN</td>\n",
       "      <td>NaT</td>\n",
       "      <td>NaN</td>\n",
       "    </tr>\n",
       "    <tr>\n",
       "      <th>815771</th>\n",
       "      <td>1317</td>\n",
       "      <td>44E7E070-5E74-4C41-88A1-CF2BB1AE9097</td>\n",
       "      <td>10</td>\n",
       "      <td>2</td>\n",
       "      <td>2545.0</td>\n",
       "      <td>NaN</td>\n",
       "      <td>NaN</td>\n",
       "      <td>NaN</td>\n",
       "      <td>NaN</td>\n",
       "      <td>NaN</td>\n",
       "      <td>...</td>\n",
       "      <td>NaN</td>\n",
       "      <td>2017-01-03 00:47:44.483</td>\n",
       "      <td>AndroidApp</td>\n",
       "      <td>1</td>\n",
       "      <td>2017-03-18</td>\n",
       "      <td>2017-12-29</td>\n",
       "      <td>yes</td>\n",
       "      <td>NaN</td>\n",
       "      <td>2017-01-03 00:47:27.453</td>\n",
       "      <td>2018-01-08 21:27:20.053</td>\n",
       "    </tr>\n",
       "    <tr>\n",
       "      <th>815772</th>\n",
       "      <td>1317</td>\n",
       "      <td>2508310F-84EC-40CD-B8D6-E4CB6D5AB777</td>\n",
       "      <td>787</td>\n",
       "      <td>1</td>\n",
       "      <td>1013.0</td>\n",
       "      <td>1982-05-24</td>\n",
       "      <td>Female</td>\n",
       "      <td>NaN</td>\n",
       "      <td>桃園市</td>\n",
       "      <td>台灣</td>\n",
       "      <td>...</td>\n",
       "      <td>NaN</td>\n",
       "      <td>2015-11-13 03:09:07.757</td>\n",
       "      <td>AndroidApp</td>\n",
       "      <td>1</td>\n",
       "      <td>2015-11-13</td>\n",
       "      <td>2015-11-13</td>\n",
       "      <td>yes</td>\n",
       "      <td>NaN</td>\n",
       "      <td>2015-11-13 02:40:50.340</td>\n",
       "      <td>2017-03-21 02:25:56.640</td>\n",
       "    </tr>\n",
       "    <tr>\n",
       "      <th>815773</th>\n",
       "      <td>1317</td>\n",
       "      <td>1640147E-DF73-4E0A-977E-74B79FBAAAAA</td>\n",
       "      <td>268</td>\n",
       "      <td>1</td>\n",
       "      <td>199.0</td>\n",
       "      <td>NaN</td>\n",
       "      <td>NaN</td>\n",
       "      <td>NaN</td>\n",
       "      <td>NaN</td>\n",
       "      <td>NaN</td>\n",
       "      <td>...</td>\n",
       "      <td>NaN</td>\n",
       "      <td>2015-08-26 22:41:29.520</td>\n",
       "      <td>Web</td>\n",
       "      <td>1</td>\n",
       "      <td>2016-11-09</td>\n",
       "      <td>2017-04-15</td>\n",
       "      <td>no</td>\n",
       "      <td>NaN</td>\n",
       "      <td>NaT</td>\n",
       "      <td>NaN</td>\n",
       "    </tr>\n",
       "    <tr>\n",
       "      <th>815774</th>\n",
       "      <td>1317</td>\n",
       "      <td>B789B39F-9379-49C3-9A94-A56210E2D106</td>\n",
       "      <td>-1</td>\n",
       "      <td>0</td>\n",
       "      <td>0.0</td>\n",
       "      <td>NaN</td>\n",
       "      <td>NaN</td>\n",
       "      <td>NaN</td>\n",
       "      <td>NaN</td>\n",
       "      <td>NaN</td>\n",
       "      <td>...</td>\n",
       "      <td>NaN</td>\n",
       "      <td>2015-08-23 14:46:00.660</td>\n",
       "      <td>Web</td>\n",
       "      <td>1</td>\n",
       "      <td>1900-01-01</td>\n",
       "      <td>NaT</td>\n",
       "      <td>no</td>\n",
       "      <td>NaN</td>\n",
       "      <td>NaT</td>\n",
       "      <td>NaN</td>\n",
       "    </tr>\n",
       "    <tr>\n",
       "      <th>815775</th>\n",
       "      <td>1317</td>\n",
       "      <td>28CAFE1C-B4D7-49BB-8950-7947A6233D47</td>\n",
       "      <td>-1</td>\n",
       "      <td>0</td>\n",
       "      <td>0.0</td>\n",
       "      <td>NaN</td>\n",
       "      <td>NaN</td>\n",
       "      <td>NaN</td>\n",
       "      <td>NaN</td>\n",
       "      <td>NaN</td>\n",
       "      <td>...</td>\n",
       "      <td>NaN</td>\n",
       "      <td>2016-07-13 20:47:42.737</td>\n",
       "      <td>Web</td>\n",
       "      <td>1</td>\n",
       "      <td>2016-07-13</td>\n",
       "      <td>2016-07-13</td>\n",
       "      <td>no</td>\n",
       "      <td>NaN</td>\n",
       "      <td>NaT</td>\n",
       "      <td>NaN</td>\n",
       "    </tr>\n",
       "    <tr>\n",
       "      <th>815776</th>\n",
       "      <td>1317</td>\n",
       "      <td>732CA049-DA27-46DE-82C1-AB8D8FC1E4F4</td>\n",
       "      <td>371</td>\n",
       "      <td>1</td>\n",
       "      <td>1038.0</td>\n",
       "      <td>1987-04-25</td>\n",
       "      <td>Female</td>\n",
       "      <td>NaN</td>\n",
       "      <td>高雄市</td>\n",
       "      <td>台灣</td>\n",
       "      <td>...</td>\n",
       "      <td>NaN</td>\n",
       "      <td>2017-01-01 20:01:40.167</td>\n",
       "      <td>AndroidApp</td>\n",
       "      <td>1</td>\n",
       "      <td>2017-01-02</td>\n",
       "      <td>2017-01-02</td>\n",
       "      <td>yes</td>\n",
       "      <td>NaN</td>\n",
       "      <td>2016-12-31 21:37:26.257</td>\n",
       "      <td>2017-08-08 05:55:08.290</td>\n",
       "    </tr>\n",
       "    <tr>\n",
       "      <th>815777</th>\n",
       "      <td>1317</td>\n",
       "      <td>7838D9E6-6DBC-42D9-B6CA-DEADAA38340C</td>\n",
       "      <td>374</td>\n",
       "      <td>2</td>\n",
       "      <td>3224.0</td>\n",
       "      <td>1982-01-25</td>\n",
       "      <td>Female</td>\n",
       "      <td>NaN</td>\n",
       "      <td>台中市</td>\n",
       "      <td>台灣</td>\n",
       "      <td>...</td>\n",
       "      <td>NaN</td>\n",
       "      <td>2016-12-08 06:32:42.147</td>\n",
       "      <td>iOSApp</td>\n",
       "      <td>1</td>\n",
       "      <td>2016-12-08</td>\n",
       "      <td>2016-12-30</td>\n",
       "      <td>yes</td>\n",
       "      <td>NaN</td>\n",
       "      <td>2016-12-08 06:32:02.757</td>\n",
       "      <td>2017-04-30 05:55:15.800</td>\n",
       "    </tr>\n",
       "    <tr>\n",
       "      <th>815778</th>\n",
       "      <td>1317</td>\n",
       "      <td>DD5269CD-290C-4A62-9CF7-65A99766B2F8</td>\n",
       "      <td>-1</td>\n",
       "      <td>0</td>\n",
       "      <td>0.0</td>\n",
       "      <td>NaN</td>\n",
       "      <td>NaN</td>\n",
       "      <td>NaN</td>\n",
       "      <td>NaN</td>\n",
       "      <td>NaN</td>\n",
       "      <td>...</td>\n",
       "      <td>NaN</td>\n",
       "      <td>2016-11-04 20:01:44.493</td>\n",
       "      <td>Web</td>\n",
       "      <td>1</td>\n",
       "      <td>1900-01-01</td>\n",
       "      <td>NaT</td>\n",
       "      <td>no</td>\n",
       "      <td>NaN</td>\n",
       "      <td>NaT</td>\n",
       "      <td>NaN</td>\n",
       "    </tr>\n",
       "    <tr>\n",
       "      <th>815779</th>\n",
       "      <td>1317</td>\n",
       "      <td>F92FF0B9-E47E-46E9-BB11-84C35912C95A</td>\n",
       "      <td>-1</td>\n",
       "      <td>0</td>\n",
       "      <td>0.0</td>\n",
       "      <td>NaN</td>\n",
       "      <td>NaN</td>\n",
       "      <td>NaN</td>\n",
       "      <td>NaN</td>\n",
       "      <td>NaN</td>\n",
       "      <td>...</td>\n",
       "      <td>NaN</td>\n",
       "      <td>2016-09-28 19:12:52.667</td>\n",
       "      <td>AndroidApp</td>\n",
       "      <td>1</td>\n",
       "      <td>1900-01-01</td>\n",
       "      <td>NaT</td>\n",
       "      <td>yes</td>\n",
       "      <td>NaN</td>\n",
       "      <td>2016-09-28 19:11:34.127</td>\n",
       "      <td>2017-03-05 05:45:01.793</td>\n",
       "    </tr>\n",
       "    <tr>\n",
       "      <th>815780</th>\n",
       "      <td>1317</td>\n",
       "      <td>2E7C7DA0-45DE-49D0-B9BA-54A99BA0DE83</td>\n",
       "      <td>613</td>\n",
       "      <td>1</td>\n",
       "      <td>1443.0</td>\n",
       "      <td>NaN</td>\n",
       "      <td>NaN</td>\n",
       "      <td>NaN</td>\n",
       "      <td>NaN</td>\n",
       "      <td>NaN</td>\n",
       "      <td>...</td>\n",
       "      <td>NaN</td>\n",
       "      <td>2016-05-05 01:51:28.403</td>\n",
       "      <td>Web</td>\n",
       "      <td>1</td>\n",
       "      <td>2016-05-05</td>\n",
       "      <td>2016-05-05</td>\n",
       "      <td>no</td>\n",
       "      <td>NaN</td>\n",
       "      <td>NaT</td>\n",
       "      <td>NaN</td>\n",
       "    </tr>\n",
       "    <tr>\n",
       "      <th>815781</th>\n",
       "      <td>1317</td>\n",
       "      <td>8FDA7650-DD8F-4E15-9780-753DA8D3DCA4</td>\n",
       "      <td>-1</td>\n",
       "      <td>0</td>\n",
       "      <td>0.0</td>\n",
       "      <td>NaN</td>\n",
       "      <td>NaN</td>\n",
       "      <td>NaN</td>\n",
       "      <td>NaN</td>\n",
       "      <td>NaN</td>\n",
       "      <td>...</td>\n",
       "      <td>NaN</td>\n",
       "      <td>2017-09-04 19:47:22.137</td>\n",
       "      <td>Web</td>\n",
       "      <td>1</td>\n",
       "      <td>2017-09-04</td>\n",
       "      <td>2017-09-04</td>\n",
       "      <td>no</td>\n",
       "      <td>NaN</td>\n",
       "      <td>NaT</td>\n",
       "      <td>NaN</td>\n",
       "    </tr>\n",
       "    <tr>\n",
       "      <th>815782</th>\n",
       "      <td>1317</td>\n",
       "      <td>DF3F5E18-AF03-49CD-995A-4E9082E53C06</td>\n",
       "      <td>-1</td>\n",
       "      <td>0</td>\n",
       "      <td>0.0</td>\n",
       "      <td>NaN</td>\n",
       "      <td>NaN</td>\n",
       "      <td>NaN</td>\n",
       "      <td>NaN</td>\n",
       "      <td>NaN</td>\n",
       "      <td>...</td>\n",
       "      <td>NaN</td>\n",
       "      <td>2017-10-24 22:06:40.023</td>\n",
       "      <td>Web</td>\n",
       "      <td>1</td>\n",
       "      <td>1900-01-01</td>\n",
       "      <td>NaT</td>\n",
       "      <td>no</td>\n",
       "      <td>NaN</td>\n",
       "      <td>NaT</td>\n",
       "      <td>NaN</td>\n",
       "    </tr>\n",
       "    <tr>\n",
       "      <th>815783</th>\n",
       "      <td>1317</td>\n",
       "      <td>C99381CA-6D33-492D-87B4-9AE83CBE4FE0</td>\n",
       "      <td>-1</td>\n",
       "      <td>0</td>\n",
       "      <td>0.0</td>\n",
       "      <td>NaN</td>\n",
       "      <td>NaN</td>\n",
       "      <td>NaN</td>\n",
       "      <td>NaN</td>\n",
       "      <td>NaN</td>\n",
       "      <td>...</td>\n",
       "      <td>NaN</td>\n",
       "      <td>2017-06-15 18:21:51.653</td>\n",
       "      <td>Web</td>\n",
       "      <td>1</td>\n",
       "      <td>1900-01-01</td>\n",
       "      <td>NaT</td>\n",
       "      <td>no</td>\n",
       "      <td>NaN</td>\n",
       "      <td>NaT</td>\n",
       "      <td>NaN</td>\n",
       "    </tr>\n",
       "    <tr>\n",
       "      <th>815784</th>\n",
       "      <td>1317</td>\n",
       "      <td>10CA861B-5EAD-4FF4-A196-F384EC1F3C9F</td>\n",
       "      <td>217</td>\n",
       "      <td>3</td>\n",
       "      <td>3243.0</td>\n",
       "      <td>1985-05-08</td>\n",
       "      <td>Female</td>\n",
       "      <td>NaN</td>\n",
       "      <td>台南市</td>\n",
       "      <td>NaN</td>\n",
       "      <td>...</td>\n",
       "      <td>NaN</td>\n",
       "      <td>2016-10-02 00:50:06.620</td>\n",
       "      <td>Web</td>\n",
       "      <td>1</td>\n",
       "      <td>2016-10-02</td>\n",
       "      <td>2017-06-05</td>\n",
       "      <td>yes</td>\n",
       "      <td>NaN</td>\n",
       "      <td>2016-11-11 22:52:15.430</td>\n",
       "      <td>2017-05-12 10:29:57.830</td>\n",
       "    </tr>\n",
       "    <tr>\n",
       "      <th>815785</th>\n",
       "      <td>1317</td>\n",
       "      <td>21CA76FE-FCD5-4880-85A4-5864DEE9CF9B</td>\n",
       "      <td>-1</td>\n",
       "      <td>0</td>\n",
       "      <td>0.0</td>\n",
       "      <td>NaN</td>\n",
       "      <td>NaN</td>\n",
       "      <td>NaN</td>\n",
       "      <td>NaN</td>\n",
       "      <td>NaN</td>\n",
       "      <td>...</td>\n",
       "      <td>NaN</td>\n",
       "      <td>2015-11-28 00:30:18.397</td>\n",
       "      <td>iOSApp</td>\n",
       "      <td>1</td>\n",
       "      <td>1900-01-01</td>\n",
       "      <td>NaT</td>\n",
       "      <td>yes</td>\n",
       "      <td>NaN</td>\n",
       "      <td>2015-11-25 02:23:33.473</td>\n",
       "      <td>2016-01-17 18:49:47.473</td>\n",
       "    </tr>\n",
       "    <tr>\n",
       "      <th>815786</th>\n",
       "      <td>1317</td>\n",
       "      <td>F4035CDB-008B-4078-827F-035C4FD05174</td>\n",
       "      <td>599</td>\n",
       "      <td>2</td>\n",
       "      <td>1115.0</td>\n",
       "      <td>NaN</td>\n",
       "      <td>NaN</td>\n",
       "      <td>NaN</td>\n",
       "      <td>NaN</td>\n",
       "      <td>NaN</td>\n",
       "      <td>...</td>\n",
       "      <td>NaN</td>\n",
       "      <td>2016-03-17 10:56:44.957</td>\n",
       "      <td>Web</td>\n",
       "      <td>1</td>\n",
       "      <td>2016-03-17</td>\n",
       "      <td>2016-05-19</td>\n",
       "      <td>no</td>\n",
       "      <td>NaN</td>\n",
       "      <td>NaT</td>\n",
       "      <td>NaN</td>\n",
       "    </tr>\n",
       "    <tr>\n",
       "      <th>815787</th>\n",
       "      <td>1317</td>\n",
       "      <td>A13E0AB8-5276-4FDA-AA06-CB5EACE64E0B</td>\n",
       "      <td>292</td>\n",
       "      <td>1</td>\n",
       "      <td>1166.0</td>\n",
       "      <td>NaN</td>\n",
       "      <td>NaN</td>\n",
       "      <td>NaN</td>\n",
       "      <td>NaN</td>\n",
       "      <td>NaN</td>\n",
       "      <td>...</td>\n",
       "      <td>NaN</td>\n",
       "      <td>2017-03-22 17:19:27.327</td>\n",
       "      <td>Web</td>\n",
       "      <td>1</td>\n",
       "      <td>2017-03-22</td>\n",
       "      <td>2017-03-22</td>\n",
       "      <td>no</td>\n",
       "      <td>NaN</td>\n",
       "      <td>NaT</td>\n",
       "      <td>NaN</td>\n",
       "    </tr>\n",
       "    <tr>\n",
       "      <th>815788</th>\n",
       "      <td>1317</td>\n",
       "      <td>0BF15A9B-85A1-4C38-A13A-97BEDE0DA0D2</td>\n",
       "      <td>-1</td>\n",
       "      <td>0</td>\n",
       "      <td>0.0</td>\n",
       "      <td>NaN</td>\n",
       "      <td>NaN</td>\n",
       "      <td>NaN</td>\n",
       "      <td>NaN</td>\n",
       "      <td>NaN</td>\n",
       "      <td>...</td>\n",
       "      <td>NaN</td>\n",
       "      <td>2016-11-25 11:40:55.257</td>\n",
       "      <td>Web</td>\n",
       "      <td>1</td>\n",
       "      <td>1900-01-01</td>\n",
       "      <td>NaT</td>\n",
       "      <td>no</td>\n",
       "      <td>NaN</td>\n",
       "      <td>NaT</td>\n",
       "      <td>NaN</td>\n",
       "    </tr>\n",
       "    <tr>\n",
       "      <th>815789</th>\n",
       "      <td>1317</td>\n",
       "      <td>AF7B3E91-0E31-40A7-B96A-29BEF7DE3255</td>\n",
       "      <td>-1</td>\n",
       "      <td>0</td>\n",
       "      <td>0.0</td>\n",
       "      <td>NaN</td>\n",
       "      <td>NaN</td>\n",
       "      <td>NaN</td>\n",
       "      <td>NaN</td>\n",
       "      <td>NaN</td>\n",
       "      <td>...</td>\n",
       "      <td>NaN</td>\n",
       "      <td>2016-07-01 23:09:46.943</td>\n",
       "      <td>Web</td>\n",
       "      <td>1</td>\n",
       "      <td>1900-01-01</td>\n",
       "      <td>NaT</td>\n",
       "      <td>no</td>\n",
       "      <td>NaN</td>\n",
       "      <td>NaT</td>\n",
       "      <td>NaN</td>\n",
       "    </tr>\n",
       "    <tr>\n",
       "      <th>815790</th>\n",
       "      <td>1317</td>\n",
       "      <td>D98A03B6-0E96-48B3-AF07-0FD5DEBF4F62</td>\n",
       "      <td>-1</td>\n",
       "      <td>0</td>\n",
       "      <td>0.0</td>\n",
       "      <td>NaN</td>\n",
       "      <td>NaN</td>\n",
       "      <td>NaN</td>\n",
       "      <td>NaN</td>\n",
       "      <td>NaN</td>\n",
       "      <td>...</td>\n",
       "      <td>NaN</td>\n",
       "      <td>2017-07-12 10:54:12.313</td>\n",
       "      <td>AndroidApp</td>\n",
       "      <td>1</td>\n",
       "      <td>1900-01-01</td>\n",
       "      <td>NaT</td>\n",
       "      <td>yes</td>\n",
       "      <td>NaN</td>\n",
       "      <td>2017-07-11 19:21:18.100</td>\n",
       "      <td>2017-07-30 05:57:34.527</td>\n",
       "    </tr>\n",
       "    <tr>\n",
       "      <th>815791</th>\n",
       "      <td>1317</td>\n",
       "      <td>A432F3E3-831E-4DA1-9B74-1003EC9630A6</td>\n",
       "      <td>-1</td>\n",
       "      <td>0</td>\n",
       "      <td>0.0</td>\n",
       "      <td>1995-09-03</td>\n",
       "      <td>Female</td>\n",
       "      <td>NaN</td>\n",
       "      <td>臺中市</td>\n",
       "      <td>臺灣</td>\n",
       "      <td>...</td>\n",
       "      <td>NaN</td>\n",
       "      <td>2015-11-04 09:20:10.070</td>\n",
       "      <td>Web</td>\n",
       "      <td>1</td>\n",
       "      <td>2015-11-05</td>\n",
       "      <td>2015-11-05</td>\n",
       "      <td>yes</td>\n",
       "      <td>NaN</td>\n",
       "      <td>2015-11-04 22:13:38.233</td>\n",
       "      <td>2015-11-17 05:40:18.577</td>\n",
       "    </tr>\n",
       "  </tbody>\n",
       "</table>\n",
       "<p>815782 rows × 24 columns</p>\n",
       "</div>"
      ],
      "text/plain": [
       "        ShopId                              MemberId  Recency  Frequency  \\\n",
       "0         1317  88812F54-9F19-49C0-BC77-86065C356D26      251          3   \n",
       "1         1317  AB3232A1-03C6-4425-8062-EEECB633FB5A       -1          0   \n",
       "2         1317  CC63B70D-CD6D-4538-BDDE-4B293F95A654      659          1   \n",
       "3         1317  17ED6C4D-0B91-4EB4-9992-117E9440425D       56          3   \n",
       "4         1317  1BA9F6E3-67FD-4AAF-8011-2CBEA98B4828      717          1   \n",
       "5         1317  E697E909-3142-4686-A7C6-540909465169       13          3   \n",
       "6         1317  93FC0272-134F-48FF-8678-AD4A4DBB5069       -1          0   \n",
       "7         1317  D8A55D64-AEB0-4DC4-85C6-3372238C46D3       -1          0   \n",
       "8         1317  978EBCAE-9E66-44D9-926B-D35B0C1079E9      190          1   \n",
       "9         1317  761C39F9-CDA6-44E2-AFA8-7A1CAA037573       -1          0   \n",
       "10        1317  78FB737B-5BD4-48BD-8A4F-E39E6F2E7DB5       -1          0   \n",
       "11        1317  A8E7F918-8B05-422E-A9F9-F4972E1186E0      165          2   \n",
       "12        1317  7A3C8291-59AC-47C2-A22B-64AFC324619B       36          9   \n",
       "13        1317  52B48400-EB1B-4797-9430-52C7398E28D2       -1          0   \n",
       "14        1317  059EE4B4-13A3-471D-80F1-AD897227E8A2       -1          0   \n",
       "15        1317  FE0428CE-1DDE-4419-9B0F-459BE501C855      481          1   \n",
       "16        1317  84152EFC-EE1C-4E31-AA8A-B86E6B9B5A73      588          1   \n",
       "17        1317  ECCC9C73-E4B5-4052-9688-1CE4EC33D086       -1          0   \n",
       "18        1317  B3E3DE19-15AE-42ED-91FB-19E18177531A      359          1   \n",
       "19        1317  A1A54713-CB23-4BC0-BA10-C2430CCF11B0      649          1   \n",
       "20        1317  9E2F2520-D00C-4759-BC8F-0A50828D69F5       -1          0   \n",
       "21        1317  CFD48B12-770D-4AE8-BCF5-1543C8242320      273          2   \n",
       "22        1317  2B73AC64-4794-4676-8954-337131A2A666      467          1   \n",
       "23        1317  930A7AF9-2D4D-49D2-8BF9-6B8E0D40B1EC       -1          0   \n",
       "24        1317  B8319921-51D5-4E62-A4D6-E1A6C1D99C0F       -1          0   \n",
       "25        1317  44DFCAC0-B57B-440C-904A-85E7F14DE034      180          1   \n",
       "26        1317  A050C9FB-E2D7-449D-919F-2151DEED2223       59          1   \n",
       "27        1317  1B8E29C1-3A88-43E4-989B-5046BC3676AB       -1          0   \n",
       "28        1317  EACC5339-0CA9-4724-BC14-D7FBFB0AF486       -1          0   \n",
       "29        1317  858F8540-153D-46CB-8E22-16590FE085B6       93          3   \n",
       "...        ...                                   ...      ...        ...   \n",
       "815762    1317  058E1695-322B-4D26-9597-A02741C5F3D6      824          2   \n",
       "815763    1317  6788BB6D-51D6-4887-9453-8FCADB787AA8      887          1   \n",
       "815764    1317  AEF56674-4668-418E-BD82-FB9AE88DE893      131          4   \n",
       "815765    1317  93000A27-9249-42DC-8157-33139326E096      257          1   \n",
       "815766    1317  076A9D5B-6FF9-447B-893E-E8FB77BF751F      206          1   \n",
       "815767    1317  88F329D3-0F8D-4D3E-B731-98548E7F2FFF       -1          0   \n",
       "815768    1317  FE085DA9-35E4-4334-8825-2AC04ED9318E       -1          0   \n",
       "815769    1317  24ACCA37-644E-4EAC-8222-067EBAC67DE9       -1          0   \n",
       "815770    1317  D4C74F24-108A-4175-A351-08CC96F266B7       -1          0   \n",
       "815771    1317  44E7E070-5E74-4C41-88A1-CF2BB1AE9097       10          2   \n",
       "815772    1317  2508310F-84EC-40CD-B8D6-E4CB6D5AB777      787          1   \n",
       "815773    1317  1640147E-DF73-4E0A-977E-74B79FBAAAAA      268          1   \n",
       "815774    1317  B789B39F-9379-49C3-9A94-A56210E2D106       -1          0   \n",
       "815775    1317  28CAFE1C-B4D7-49BB-8950-7947A6233D47       -1          0   \n",
       "815776    1317  732CA049-DA27-46DE-82C1-AB8D8FC1E4F4      371          1   \n",
       "815777    1317  7838D9E6-6DBC-42D9-B6CA-DEADAA38340C      374          2   \n",
       "815778    1317  DD5269CD-290C-4A62-9CF7-65A99766B2F8       -1          0   \n",
       "815779    1317  F92FF0B9-E47E-46E9-BB11-84C35912C95A       -1          0   \n",
       "815780    1317  2E7C7DA0-45DE-49D0-B9BA-54A99BA0DE83      613          1   \n",
       "815781    1317  8FDA7650-DD8F-4E15-9780-753DA8D3DCA4       -1          0   \n",
       "815782    1317  DF3F5E18-AF03-49CD-995A-4E9082E53C06       -1          0   \n",
       "815783    1317  C99381CA-6D33-492D-87B4-9AE83CBE4FE0       -1          0   \n",
       "815784    1317  10CA861B-5EAD-4FF4-A196-F384EC1F3C9F      217          3   \n",
       "815785    1317  21CA76FE-FCD5-4880-85A4-5864DEE9CF9B       -1          0   \n",
       "815786    1317  F4035CDB-008B-4078-827F-035C4FD05174      599          2   \n",
       "815787    1317  A13E0AB8-5276-4FDA-AA06-CB5EACE64E0B      292          1   \n",
       "815788    1317  0BF15A9B-85A1-4C38-A13A-97BEDE0DA0D2       -1          0   \n",
       "815789    1317  AF7B3E91-0E31-40A7-B96A-29BEF7DE3255       -1          0   \n",
       "815790    1317  D98A03B6-0E96-48B3-AF07-0FD5DEBF4F62       -1          0   \n",
       "815791    1317  A432F3E3-831E-4DA1-9B74-1003EC9630A6       -1          0   \n",
       "\n",
       "        Monetary    Birthday GenderTypeDef  LocationCity LocationState  \\\n",
       "0         4011.0  1980-08-08        Female           NaN           台中市   \n",
       "1            0.0         NaN           NaN           NaN           NaN   \n",
       "2          529.0         NaN           NaN           NaN           NaN   \n",
       "3         2438.0         NaN           NaN           NaN           NaN   \n",
       "4          550.0         NaN           NaN           NaN           NaN   \n",
       "5         2651.0         NaN           NaN           NaN           NaN   \n",
       "6            0.0         NaN           NaN           NaN           NaN   \n",
       "7            0.0         NaN           NaN           NaN           NaN   \n",
       "8         1174.0         NaN           NaN           NaN           NaN   \n",
       "9            0.0         NaN           NaN           NaN           NaN   \n",
       "10           0.0  1990-06-22        Female           NaN           新竹市   \n",
       "11        2508.0  1986-07-15        Female           NaN           台北市   \n",
       "12       13489.0  1987-01-21        Female           NaN           高雄市   \n",
       "13           0.0         NaN           NaN           NaN           NaN   \n",
       "14           0.0  1998-09-11        Female           NaN           新竹縣   \n",
       "15         693.0         NaN           NaN           NaN           NaN   \n",
       "16         747.0         NaN           NaN           NaN           NaN   \n",
       "17           0.0         NaN           NaN           NaN           NaN   \n",
       "18        2108.0         NaN           NaN           NaN           NaN   \n",
       "19         948.0         NaN           NaN           NaN           NaN   \n",
       "20           0.0         NaN           NaN           NaN           NaN   \n",
       "21        2774.0         NaN           NaN           NaN           NaN   \n",
       "22         783.0         NaN           NaN           NaN           NaN   \n",
       "23           0.0  1999-01-28        Female           NaN           彰化縣   \n",
       "24           0.0         NaN           NaN           NaN           NaN   \n",
       "25        1230.0         NaN           NaN           NaN           NaN   \n",
       "26         730.0         NaN           NaN           NaN           NaN   \n",
       "27           0.0         NaN           NaN           NaN           NaN   \n",
       "28           0.0  1998-09-19        Female           NaN           桃園市   \n",
       "29         752.0         NaN           NaN           NaN           NaN   \n",
       "...          ...         ...           ...           ...           ...   \n",
       "815762    1724.0  1994-05-08        Female           NaN           新北市   \n",
       "815763     849.0         NaN           NaN           NaN           NaN   \n",
       "815764    1169.0         NaN           NaN           NaN           NaN   \n",
       "815765     859.0         NaN           NaN           NaN           NaN   \n",
       "815766    1083.0         NaN           NaN           NaN           NaN   \n",
       "815767       0.0         NaN           NaN           NaN           NaN   \n",
       "815768       0.0         NaN           NaN           NaN           NaN   \n",
       "815769       0.0         NaN           NaN           NaN           NaN   \n",
       "815770       0.0         NaN           NaN           NaN           NaN   \n",
       "815771    2545.0         NaN           NaN           NaN           NaN   \n",
       "815772    1013.0  1982-05-24        Female           NaN           桃園市   \n",
       "815773     199.0         NaN           NaN           NaN           NaN   \n",
       "815774       0.0         NaN           NaN           NaN           NaN   \n",
       "815775       0.0         NaN           NaN           NaN           NaN   \n",
       "815776    1038.0  1987-04-25        Female           NaN           高雄市   \n",
       "815777    3224.0  1982-01-25        Female           NaN           台中市   \n",
       "815778       0.0         NaN           NaN           NaN           NaN   \n",
       "815779       0.0         NaN           NaN           NaN           NaN   \n",
       "815780    1443.0         NaN           NaN           NaN           NaN   \n",
       "815781       0.0         NaN           NaN           NaN           NaN   \n",
       "815782       0.0         NaN           NaN           NaN           NaN   \n",
       "815783       0.0         NaN           NaN           NaN           NaN   \n",
       "815784    3243.0  1985-05-08        Female           NaN           台南市   \n",
       "815785       0.0         NaN           NaN           NaN           NaN   \n",
       "815786    1115.0         NaN           NaN           NaN           NaN   \n",
       "815787    1166.0         NaN           NaN           NaN           NaN   \n",
       "815788       0.0         NaN           NaN           NaN           NaN   \n",
       "815789       0.0         NaN           NaN           NaN           NaN   \n",
       "815790       0.0         NaN           NaN           NaN           NaN   \n",
       "815791       0.0  1995-09-03        Female           NaN           臺中市   \n",
       "\n",
       "       LocationCountry           ...            AnnualIncomeTypeDef  \\\n",
       "0                   台灣           ...                            NaN   \n",
       "1                  NaN           ...                            NaN   \n",
       "2                  NaN           ...                            NaN   \n",
       "3                  NaN           ...                            NaN   \n",
       "4                  NaN           ...                            NaN   \n",
       "5                  NaN           ...                            NaN   \n",
       "6                  NaN           ...                            NaN   \n",
       "7                  NaN           ...                            NaN   \n",
       "8                  NaN           ...                            NaN   \n",
       "9                  NaN           ...                            NaN   \n",
       "10                  台灣           ...                            NaN   \n",
       "11                  台灣           ...                            NaN   \n",
       "12                  台灣           ...                            NaN   \n",
       "13                 NaN           ...                            NaN   \n",
       "14                  台灣           ...                            NaN   \n",
       "15                 NaN           ...                            NaN   \n",
       "16                 NaN           ...                            NaN   \n",
       "17                 NaN           ...                            NaN   \n",
       "18                 NaN           ...                            NaN   \n",
       "19                 NaN           ...                            NaN   \n",
       "20                 NaN           ...                            NaN   \n",
       "21                 NaN           ...                            NaN   \n",
       "22                 NaN           ...                            NaN   \n",
       "23                  台灣           ...                            NaN   \n",
       "24                 NaN           ...                            NaN   \n",
       "25                 NaN           ...                            NaN   \n",
       "26                 NaN           ...                            NaN   \n",
       "27                 NaN           ...                            NaN   \n",
       "28                  台灣           ...                            NaN   \n",
       "29                 NaN           ...                            NaN   \n",
       "...                ...           ...                            ...   \n",
       "815762              台灣           ...                            NaN   \n",
       "815763             NaN           ...                            NaN   \n",
       "815764             NaN           ...                            NaN   \n",
       "815765             NaN           ...                            NaN   \n",
       "815766             NaN           ...                            NaN   \n",
       "815767             NaN           ...                            NaN   \n",
       "815768             NaN           ...                            NaN   \n",
       "815769             NaN           ...                            NaN   \n",
       "815770             NaN           ...                            NaN   \n",
       "815771             NaN           ...                            NaN   \n",
       "815772              台灣           ...                            NaN   \n",
       "815773             NaN           ...                            NaN   \n",
       "815774             NaN           ...                            NaN   \n",
       "815775             NaN           ...                            NaN   \n",
       "815776              台灣           ...                            NaN   \n",
       "815777              台灣           ...                            NaN   \n",
       "815778             NaN           ...                            NaN   \n",
       "815779             NaN           ...                            NaN   \n",
       "815780             NaN           ...                            NaN   \n",
       "815781             NaN           ...                            NaN   \n",
       "815782             NaN           ...                            NaN   \n",
       "815783             NaN           ...                            NaN   \n",
       "815784             NaN           ...                            NaN   \n",
       "815785             NaN           ...                            NaN   \n",
       "815786             NaN           ...                            NaN   \n",
       "815787             NaN           ...                            NaN   \n",
       "815788             NaN           ...                            NaN   \n",
       "815789             NaN           ...                            NaN   \n",
       "815790             NaN           ...                            NaN   \n",
       "815791              臺灣           ...                            NaN   \n",
       "\n",
       "              RegisterDateTime  RegisterSourceTypeDef  ValidFlag MinOrderDate  \\\n",
       "0      2015-09-18 19:18:48.050                 iOSApp          1   2015-09-18   \n",
       "1      2016-03-13 01:11:05.403                    Web          1   1900-01-01   \n",
       "2      2016-03-20 02:20:35.493                    Web          1   2016-03-20   \n",
       "3      2017-06-02 22:16:47.363                    Web          1   2017-06-02   \n",
       "4      2016-01-22 14:46:30.040                    Web          1   2016-01-22   \n",
       "5      2015-10-01 20:13:05.657                    Web          1   2015-10-01   \n",
       "6      2017-02-24 08:51:00.343             AndroidApp          1   1900-01-01   \n",
       "7      2017-03-19 13:13:10.527                    Web          1   2017-03-19   \n",
       "8      2017-07-02 10:58:30.220                    Web          1   2017-07-02   \n",
       "9      2016-04-25 21:46:57.683                    Web          1   2016-12-29   \n",
       "10     2016-02-15 23:01:52.577             AndroidApp          1   1900-01-01   \n",
       "11     2017-04-30 20:43:30.083                    Web          1   2017-05-01   \n",
       "12     2016-09-04 23:42:52.570             AndroidApp          1   2016-09-04   \n",
       "13     2017-12-21 20:59:40.597                    Web          1   1900-01-01   \n",
       "14     2016-08-15 12:42:45.033                    Web          1   1900-01-01   \n",
       "15     2016-09-14 10:41:32.337                    Web          1   2016-09-14   \n",
       "16     2016-05-29 23:34:45.587                    Web          1   2016-05-30   \n",
       "17     2017-12-02 16:36:43.387                    Web          1   1900-01-01   \n",
       "18     2017-01-14 20:37:40.677                    Web          1   2017-01-14   \n",
       "19     2016-03-30 19:51:50.397                    Web          1   2016-03-30   \n",
       "20     2016-05-15 00:40:41.763                    Web          1   2016-05-17   \n",
       "21     2016-10-18 00:52:11.473                    Web          1   2016-10-18   \n",
       "22     2016-09-28 11:14:10.760                    Web          1   2016-09-28   \n",
       "23     2017-08-13 17:36:40.113                    Web          1   1900-01-01   \n",
       "24     2017-04-21 00:15:12.927                    Web          1   1900-01-01   \n",
       "25     2017-07-12 21:56:51.550                    Web          1   2017-07-12   \n",
       "26     2017-11-10 21:22:57.937                    Web          1   2017-11-10   \n",
       "27     2016-12-10 13:41:19.250                    Web          1   1900-01-01   \n",
       "28     2016-04-18 07:54:16.560                 iOSApp          1   1900-01-01   \n",
       "29     2016-07-23 21:52:24.887                    Web          1   2016-07-23   \n",
       "...                        ...                    ...        ...          ...   \n",
       "815762 2015-07-23 18:30:36.873                    NaN          1   2015-07-23   \n",
       "815763 2015-08-05 13:56:59.967                    Web          1   2015-08-05   \n",
       "815764 2017-06-03 12:58:37.823                    Web          1   2017-06-03   \n",
       "815765 2016-08-11 23:03:56.713                    Web          1   2017-04-24   \n",
       "815766 2017-06-16 15:57:24.407                    Web          1   2017-06-16   \n",
       "815767 2015-08-09 23:38:23.040                    Web          1   1900-01-01   \n",
       "815768 2015-11-07 21:34:11.513                    Web          1   1900-01-01   \n",
       "815769 2015-09-14 21:21:02.167                 iOSApp          1   1900-01-01   \n",
       "815770 2017-12-01 23:45:10.767                    Web          1   1900-01-01   \n",
       "815771 2017-01-03 00:47:44.483             AndroidApp          1   2017-03-18   \n",
       "815772 2015-11-13 03:09:07.757             AndroidApp          1   2015-11-13   \n",
       "815773 2015-08-26 22:41:29.520                    Web          1   2016-11-09   \n",
       "815774 2015-08-23 14:46:00.660                    Web          1   1900-01-01   \n",
       "815775 2016-07-13 20:47:42.737                    Web          1   2016-07-13   \n",
       "815776 2017-01-01 20:01:40.167             AndroidApp          1   2017-01-02   \n",
       "815777 2016-12-08 06:32:42.147                 iOSApp          1   2016-12-08   \n",
       "815778 2016-11-04 20:01:44.493                    Web          1   1900-01-01   \n",
       "815779 2016-09-28 19:12:52.667             AndroidApp          1   1900-01-01   \n",
       "815780 2016-05-05 01:51:28.403                    Web          1   2016-05-05   \n",
       "815781 2017-09-04 19:47:22.137                    Web          1   2017-09-04   \n",
       "815782 2017-10-24 22:06:40.023                    Web          1   1900-01-01   \n",
       "815783 2017-06-15 18:21:51.653                    Web          1   1900-01-01   \n",
       "815784 2016-10-02 00:50:06.620                    Web          1   2016-10-02   \n",
       "815785 2015-11-28 00:30:18.397                 iOSApp          1   1900-01-01   \n",
       "815786 2016-03-17 10:56:44.957                    Web          1   2016-03-17   \n",
       "815787 2017-03-22 17:19:27.327                    Web          1   2017-03-22   \n",
       "815788 2016-11-25 11:40:55.257                    Web          1   1900-01-01   \n",
       "815789 2016-07-01 23:09:46.943                    Web          1   1900-01-01   \n",
       "815790 2017-07-12 10:54:12.313             AndroidApp          1   1900-01-01   \n",
       "815791 2015-11-04 09:20:10.070                    Web          1   2015-11-05   \n",
       "\n",
       "       MaxOrderDate IsAppInstalled  IsInBlackList      MinAppOpenDateTime  \\\n",
       "0        2017-05-02            yes            NaN 2015-09-18 18:45:35.707   \n",
       "1               NaT             no            NaN                     NaT   \n",
       "2        2016-03-20             no            NaN                     NaT   \n",
       "3        2017-10-27             no            NaN                     NaT   \n",
       "4        2016-01-22            yes            NaN 2016-01-22 14:50:32.173   \n",
       "5        2015-10-16             no            NaN                     NaT   \n",
       "6               NaT            yes            NaN 2017-02-24 08:50:14.220   \n",
       "7        2017-03-19             no            NaN                     NaT   \n",
       "8        2017-07-02             no            NaN                     NaT   \n",
       "9        2016-12-29             no            NaN                     NaT   \n",
       "10              NaT            yes            NaN 2016-02-15 23:01:14.760   \n",
       "11       2017-07-27            yes            NaN 2017-04-30 23:13:29.093   \n",
       "12       2017-08-05            yes            NaN 2016-09-01 15:21:25.957   \n",
       "13              NaT             no            NaN                     NaT   \n",
       "14              NaT            yes            NaN 2016-10-04 23:04:41.330   \n",
       "15       2016-09-14             no            NaN                     NaT   \n",
       "16       2016-05-30            yes            NaN 2016-05-29 23:56:10.310   \n",
       "17              NaT             no            NaN                     NaT   \n",
       "18       2017-01-14            yes            NaN 2017-01-30 17:53:11.957   \n",
       "19       2016-03-30             no            NaN                     NaT   \n",
       "20       2016-05-17            yes            NaN 2016-05-18 16:27:14.167   \n",
       "21       2017-04-10             no            NaN                     NaT   \n",
       "22       2016-09-28             no            NaN                     NaT   \n",
       "23              NaT            yes            NaN 2017-09-03 01:09:50.880   \n",
       "24              NaT             no            NaN                     NaT   \n",
       "25       2017-07-12             no            NaN                     NaT   \n",
       "26       2017-11-10             no            NaN                     NaT   \n",
       "27              NaT             no            NaN                     NaT   \n",
       "28              NaT            yes            NaN 2016-04-18 07:53:36.037   \n",
       "29       2016-07-27            yes            NaN 2016-07-23 21:54:27.030   \n",
       "...             ...            ...            ...                     ...   \n",
       "815762   2015-10-07            yes            NaN 2015-07-21 12:18:14.223   \n",
       "815763   2015-08-05             no            NaN                     NaT   \n",
       "815764   2017-08-30            yes            NaN 2017-02-25 10:45:16.197   \n",
       "815765   2017-04-26             no            NaN                     NaT   \n",
       "815766   2017-06-16             no            NaN                     NaT   \n",
       "815767          NaT             no            NaN                     NaT   \n",
       "815768          NaT             no            NaN                     NaT   \n",
       "815769          NaT            yes            NaN 2015-08-25 22:52:38.333   \n",
       "815770          NaT             no            NaN                     NaT   \n",
       "815771   2017-12-29            yes            NaN 2017-01-03 00:47:27.453   \n",
       "815772   2015-11-13            yes            NaN 2015-11-13 02:40:50.340   \n",
       "815773   2017-04-15             no            NaN                     NaT   \n",
       "815774          NaT             no            NaN                     NaT   \n",
       "815775   2016-07-13             no            NaN                     NaT   \n",
       "815776   2017-01-02            yes            NaN 2016-12-31 21:37:26.257   \n",
       "815777   2016-12-30            yes            NaN 2016-12-08 06:32:02.757   \n",
       "815778          NaT             no            NaN                     NaT   \n",
       "815779          NaT            yes            NaN 2016-09-28 19:11:34.127   \n",
       "815780   2016-05-05             no            NaN                     NaT   \n",
       "815781   2017-09-04             no            NaN                     NaT   \n",
       "815782          NaT             no            NaN                     NaT   \n",
       "815783          NaT             no            NaN                     NaT   \n",
       "815784   2017-06-05            yes            NaN 2016-11-11 22:52:15.430   \n",
       "815785          NaT            yes            NaN 2015-11-25 02:23:33.473   \n",
       "815786   2016-05-19             no            NaN                     NaT   \n",
       "815787   2017-03-22             no            NaN                     NaT   \n",
       "815788          NaT             no            NaN                     NaT   \n",
       "815789          NaT             no            NaN                     NaT   \n",
       "815790          NaT            yes            NaN 2017-07-11 19:21:18.100   \n",
       "815791   2015-11-05            yes            NaN 2015-11-04 22:13:38.233   \n",
       "\n",
       "             MaxAppOpenDateTime  \n",
       "0       2017-07-30 21:30:34.940  \n",
       "1                           NaN  \n",
       "2                           NaN  \n",
       "3                           NaN  \n",
       "4       2017-02-21 05:51:05.080  \n",
       "5                           NaN  \n",
       "6       2017-02-28 05:47:26.317  \n",
       "7                           NaN  \n",
       "8                           NaN  \n",
       "9                           NaN  \n",
       "10      2016-08-23 23:11:20.197  \n",
       "11      2017-08-30 00:02:57.377  \n",
       "12      2017-07-14 07:02:36.593  \n",
       "13                          NaN  \n",
       "14      2016-12-04 05:45:43.153  \n",
       "15                          NaN  \n",
       "16      2016-06-14 12:27:49.917  \n",
       "17                          NaN  \n",
       "18      2017-04-11 05:44:45.480  \n",
       "19                          NaN  \n",
       "20      2016-05-22 05:50:26.350  \n",
       "21                          NaN  \n",
       "22                          NaN  \n",
       "23      2017-09-05 05:56:07.987  \n",
       "24                          NaN  \n",
       "25                          NaN  \n",
       "26                          NaN  \n",
       "27                          NaN  \n",
       "28      2016-12-06 05:44:45.527  \n",
       "29      2016-09-02 14:40:30.067  \n",
       "...                         ...  \n",
       "815762  2016-06-01 05:47:10.960  \n",
       "815763                      NaN  \n",
       "815764  2017-10-23 02:44:46.330  \n",
       "815765                      NaN  \n",
       "815766                      NaN  \n",
       "815767                      NaN  \n",
       "815768                      NaN  \n",
       "815769  2015-10-18 05:42:27.870  \n",
       "815770                      NaN  \n",
       "815771  2018-01-08 21:27:20.053  \n",
       "815772  2017-03-21 02:25:56.640  \n",
       "815773                      NaN  \n",
       "815774                      NaN  \n",
       "815775                      NaN  \n",
       "815776  2017-08-08 05:55:08.290  \n",
       "815777  2017-04-30 05:55:15.800  \n",
       "815778                      NaN  \n",
       "815779  2017-03-05 05:45:01.793  \n",
       "815780                      NaN  \n",
       "815781                      NaN  \n",
       "815782                      NaN  \n",
       "815783                      NaN  \n",
       "815784  2017-05-12 10:29:57.830  \n",
       "815785  2016-01-17 18:49:47.473  \n",
       "815786                      NaN  \n",
       "815787                      NaN  \n",
       "815788                      NaN  \n",
       "815789                      NaN  \n",
       "815790  2017-07-30 05:57:34.527  \n",
       "815791  2015-11-17 05:40:18.577  \n",
       "\n",
       "[815782 rows x 24 columns]"
      ]
     },
     "execution_count": 346,
     "metadata": {},
     "output_type": "execute_result"
    }
   ],
   "source": [
    "gc.collect()\n",
    "df_member"
   ]
  },
  {
   "cell_type": "code",
   "execution_count": null,
   "metadata": {
    "collapsed": true
   },
   "outputs": [],
   "source": []
  }
 ],
 "metadata": {
  "anaconda-cloud": {},
  "kernelspec": {
   "display_name": "Python [conda root]",
   "language": "python",
   "name": "conda-root-py"
  },
  "language_info": {
   "codemirror_mode": {
    "name": "ipython",
    "version": 3
   },
   "file_extension": ".py",
   "mimetype": "text/x-python",
   "name": "python",
   "nbconvert_exporter": "python",
   "pygments_lexer": "ipython3",
   "version": "3.5.2"
  }
 },
 "nbformat": 4,
 "nbformat_minor": 1
}
